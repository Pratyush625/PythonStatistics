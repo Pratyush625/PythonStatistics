{
 "cells": [
  {
   "cell_type": "code",
   "execution_count": 1,
   "id": "248be27e",
   "metadata": {},
   "outputs": [
    {
     "name": "stdout",
     "output_type": "stream",
     "text": [
      "Requirement already satisfied: pandas-datareader in c:\\users\\praty\\anaconda3\\lib\\site-packages (0.10.0)\n",
      "Requirement already satisfied: lxml in c:\\users\\praty\\anaconda3\\lib\\site-packages (from pandas-datareader) (4.6.3)\n",
      "Requirement already satisfied: requests>=2.19.0 in c:\\users\\praty\\anaconda3\\lib\\site-packages (from pandas-datareader) (2.25.1)\n",
      "Requirement already satisfied: pandas>=0.23 in c:\\users\\praty\\anaconda3\\lib\\site-packages (from pandas-datareader) (1.2.4)\n",
      "Requirement already satisfied: python-dateutil>=2.7.3 in c:\\users\\praty\\anaconda3\\lib\\site-packages (from pandas>=0.23->pandas-datareader) (2.8.1)\n",
      "Requirement already satisfied: numpy>=1.16.5 in c:\\users\\praty\\anaconda3\\lib\\site-packages (from pandas>=0.23->pandas-datareader) (1.20.1)\n",
      "Requirement already satisfied: pytz>=2017.3 in c:\\users\\praty\\anaconda3\\lib\\site-packages (from pandas>=0.23->pandas-datareader) (2021.1)\n",
      "Requirement already satisfied: six>=1.5 in c:\\users\\praty\\anaconda3\\lib\\site-packages (from python-dateutil>=2.7.3->pandas>=0.23->pandas-datareader) (1.15.0)\n",
      "Requirement already satisfied: urllib3<1.27,>=1.21.1 in c:\\users\\praty\\anaconda3\\lib\\site-packages (from requests>=2.19.0->pandas-datareader) (1.26.4)\n",
      "Requirement already satisfied: idna<3,>=2.5 in c:\\users\\praty\\anaconda3\\lib\\site-packages (from requests>=2.19.0->pandas-datareader) (2.10)\n",
      "Requirement already satisfied: certifi>=2017.4.17 in c:\\users\\praty\\anaconda3\\lib\\site-packages (from requests>=2.19.0->pandas-datareader) (2020.12.5)\n",
      "Requirement already satisfied: chardet<5,>=3.0.2 in c:\\users\\praty\\anaconda3\\lib\\site-packages (from requests>=2.19.0->pandas-datareader) (4.0.0)\n"
     ]
    }
   ],
   "source": [
    "# Install Pandas Data Reader\n",
    "!pip install pandas-datareader"
   ]
  },
  {
   "cell_type": "code",
   "execution_count": 2,
   "id": "09a5120f",
   "metadata": {},
   "outputs": [],
   "source": [
    "import pandas_datareader as pdr\n",
    "import pandas as pd\n",
    "from datetime import datetime as dtm"
   ]
  },
  {
   "cell_type": "code",
   "execution_count": 3,
   "id": "85ef5cd0",
   "metadata": {},
   "outputs": [],
   "source": [
    "df_tesla=pdr.get_data_yahoo('TSLA')"
   ]
  },
  {
   "cell_type": "code",
   "execution_count": 4,
   "id": "1107a18e",
   "metadata": {},
   "outputs": [
    {
     "data": {
      "text/html": [
       "<div>\n",
       "<style scoped>\n",
       "    .dataframe tbody tr th:only-of-type {\n",
       "        vertical-align: middle;\n",
       "    }\n",
       "\n",
       "    .dataframe tbody tr th {\n",
       "        vertical-align: top;\n",
       "    }\n",
       "\n",
       "    .dataframe thead th {\n",
       "        text-align: right;\n",
       "    }\n",
       "</style>\n",
       "<table border=\"1\" class=\"dataframe\">\n",
       "  <thead>\n",
       "    <tr style=\"text-align: right;\">\n",
       "      <th></th>\n",
       "      <th>High</th>\n",
       "      <th>Low</th>\n",
       "      <th>Open</th>\n",
       "      <th>Close</th>\n",
       "      <th>Volume</th>\n",
       "      <th>Adj Close</th>\n",
       "    </tr>\n",
       "    <tr>\n",
       "      <th>Date</th>\n",
       "      <th></th>\n",
       "      <th></th>\n",
       "      <th></th>\n",
       "      <th></th>\n",
       "      <th></th>\n",
       "      <th></th>\n",
       "    </tr>\n",
       "  </thead>\n",
       "  <tbody>\n",
       "    <tr>\n",
       "      <th>2022-06-13</th>\n",
       "      <td>679.900024</td>\n",
       "      <td>644.049988</td>\n",
       "      <td>669.500000</td>\n",
       "      <td>647.210022</td>\n",
       "      <td>34255800.0</td>\n",
       "      <td>647.210022</td>\n",
       "    </tr>\n",
       "    <tr>\n",
       "      <th>2022-06-14</th>\n",
       "      <td>678.989990</td>\n",
       "      <td>635.210022</td>\n",
       "      <td>654.859985</td>\n",
       "      <td>662.669983</td>\n",
       "      <td>32662900.0</td>\n",
       "      <td>662.669983</td>\n",
       "    </tr>\n",
       "    <tr>\n",
       "      <th>2022-06-15</th>\n",
       "      <td>706.989990</td>\n",
       "      <td>654.450012</td>\n",
       "      <td>662.750000</td>\n",
       "      <td>699.000000</td>\n",
       "      <td>39710600.0</td>\n",
       "      <td>699.000000</td>\n",
       "    </tr>\n",
       "    <tr>\n",
       "      <th>2022-06-16</th>\n",
       "      <td>675.500000</td>\n",
       "      <td>626.080017</td>\n",
       "      <td>668.210022</td>\n",
       "      <td>639.299988</td>\n",
       "      <td>35796900.0</td>\n",
       "      <td>639.299988</td>\n",
       "    </tr>\n",
       "    <tr>\n",
       "      <th>2022-06-17</th>\n",
       "      <td>662.909973</td>\n",
       "      <td>639.590027</td>\n",
       "      <td>640.299988</td>\n",
       "      <td>650.280029</td>\n",
       "      <td>30810900.0</td>\n",
       "      <td>650.280029</td>\n",
       "    </tr>\n",
       "  </tbody>\n",
       "</table>\n",
       "</div>"
      ],
      "text/plain": [
       "                  High         Low        Open       Close      Volume  \\\n",
       "Date                                                                     \n",
       "2022-06-13  679.900024  644.049988  669.500000  647.210022  34255800.0   \n",
       "2022-06-14  678.989990  635.210022  654.859985  662.669983  32662900.0   \n",
       "2022-06-15  706.989990  654.450012  662.750000  699.000000  39710600.0   \n",
       "2022-06-16  675.500000  626.080017  668.210022  639.299988  35796900.0   \n",
       "2022-06-17  662.909973  639.590027  640.299988  650.280029  30810900.0   \n",
       "\n",
       "             Adj Close  \n",
       "Date                    \n",
       "2022-06-13  647.210022  \n",
       "2022-06-14  662.669983  \n",
       "2022-06-15  699.000000  \n",
       "2022-06-16  639.299988  \n",
       "2022-06-17  650.280029  "
      ]
     },
     "execution_count": 4,
     "metadata": {},
     "output_type": "execute_result"
    }
   ],
   "source": [
    "df_tesla.tail()"
   ]
  },
  {
   "cell_type": "code",
   "execution_count": 5,
   "id": "0d39f786",
   "metadata": {
    "scrolled": true
   },
   "outputs": [
    {
     "data": {
      "text/plain": [
       "<AxesSubplot:xlabel='Date'>"
      ]
     },
     "execution_count": 5,
     "metadata": {},
     "output_type": "execute_result"
    },
    {
     "data": {
      "image/png": "[encoded data removed]",
      "text/plain": [
       "<Figure size 864x288 with 1 Axes>"
      ]
     },
     "metadata": {
      "needs_background": "light"
     },
     "output_type": "display_data"
    }
   ],
   "source": [
    "df_tesla['High'].plot(figsize=(12,4))"
   ]
  },
  {
   "cell_type": "code",
   "execution_count": 6,
   "id": "22a310f2",
   "metadata": {},
   "outputs": [
    {
     "data": {
      "text/plain": [
       "<AxesSubplot:xlabel='Date'>"
      ]
     },
     "execution_count": 6,
     "metadata": {},
     "output_type": "execute_result"
    },
    {
     "data": {
      "image/png": "[encoded data removed]",
      "text/plain": [
       "<Figure size 864x288 with 1 Axes>"
      ]
     },
     "metadata": {
      "needs_background": "light"
     },
     "output_type": "display_data"
    }
   ],
   "source": [
    "# xlim and ylim and coloring\n",
    "df_tesla['High'].plot(xlim=['2020-01-01','2021-09-01'],ylim=[0,900],figsize=(12,4),ls='--',c='green')"
   ]
  },
  {
   "cell_type": "code",
   "execution_count": 7,
   "id": "5ea1e53c",
   "metadata": {},
   "outputs": [
    {
     "data": {
      "text/plain": [
       "DatetimeIndex(['2017-06-21', '2017-06-22', '2017-06-23', '2017-06-26',\n",
       "               '2017-06-27', '2017-06-28', '2017-06-29', '2017-06-30',\n",
       "               '2017-07-03', '2017-07-05',\n",
       "               ...\n",
       "               '2022-06-06', '2022-06-07', '2022-06-08', '2022-06-09',\n",
       "               '2022-06-10', '2022-06-13', '2022-06-14', '2022-06-15',\n",
       "               '2022-06-16', '2022-06-17'],\n",
       "              dtype='datetime64[ns]', name='Date', length=1258, freq=None)"
      ]
     },
     "execution_count": 7,
     "metadata": {},
     "output_type": "execute_result"
    }
   ],
   "source": [
    "df_tesla.index"
   ]
  },
  {
   "cell_type": "code",
   "execution_count": 8,
   "id": "23918b8e",
   "metadata": {},
   "outputs": [],
   "source": [
    "index=df_tesla.loc['2020-01-01':'2021-09-01'].index\n",
    "share_open=df_tesla.loc['2020-01-01':'2021-09-01']['Open']"
   ]
  },
  {
   "cell_type": "code",
   "execution_count": 9,
   "id": "f7ce9bdc",
   "metadata": {},
   "outputs": [
    {
     "data": {
      "text/plain": [
       "Date\n",
       "2020-01-02     84.900002\n",
       "2020-01-03     88.099998\n",
       "2020-01-06     88.094002\n",
       "2020-01-07     92.279999\n",
       "2020-01-08     94.739998\n",
       "                 ...    \n",
       "2021-08-26    708.309998\n",
       "2021-08-27    705.000000\n",
       "2021-08-30    714.719971\n",
       "2021-08-31    733.000000\n",
       "2021-09-01    734.080017\n",
       "Name: Open, Length: 421, dtype: float64"
      ]
     },
     "execution_count": 9,
     "metadata": {},
     "output_type": "execute_result"
    }
   ],
   "source": [
    "share_open"
   ]
  },
  {
   "cell_type": "code",
   "execution_count": 10,
   "id": "1ddf8c5b",
   "metadata": {},
   "outputs": [],
   "source": [
    "import matplotlib.pyplot  as plt\n",
    "%matplotlib inline"
   ]
  },
  {
   "cell_type": "code",
   "execution_count": 11,
   "id": "e5c0d515",
   "metadata": {},
   "outputs": [
    {
     "data": {
      "text/plain": [
       "[<matplotlib.lines.Line2D at 0x25b8311f370>]"
      ]
     },
     "execution_count": 11,
     "metadata": {},
     "output_type": "execute_result"
    },
    {
     "data": {
      "image/png": "[encoded data removed]",
      "text/plain": [
       "<Figure size 432x288 with 1 Axes>"
      ]
     },
     "metadata": {
      "needs_background": "light"
     },
     "output_type": "display_data"
    }
   ],
   "source": [
    "figure,axis=plt.subplots()\n",
    "plt.tight_layout()\n",
    "# Preventing overlapping\n",
    "figure.autofmt_xdate()\n",
    "axis.plot(index,share_open)"
   ]
  },
  {
   "cell_type": "code",
   "execution_count": 12,
   "id": "f24c032b",
   "metadata": {},
   "outputs": [],
   "source": [
    "## Datetime Index"
   ]
  },
  {
   "cell_type": "code",
   "execution_count": 13,
   "id": "cf10e4c3",
   "metadata": {},
   "outputs": [],
   "source": [
    "df_tesla=df_tesla.reset_index()"
   ]
  },
  {
   "cell_type": "code",
   "execution_count": 14,
   "id": "72cade09",
   "metadata": {},
   "outputs": [
    {
     "name": "stdout",
     "output_type": "stream",
     "text": [
      "<class 'pandas.core.frame.DataFrame'>\n",
      "RangeIndex: 1258 entries, 0 to 1257\n",
      "Data columns (total 7 columns):\n",
      " #   Column     Non-Null Count  Dtype         \n",
      "---  ------     --------------  -----         \n",
      " 0   Date       1258 non-null   datetime64[ns]\n",
      " 1   High       1258 non-null   float64       \n",
      " 2   Low        1258 non-null   float64       \n",
      " 3   Open       1258 non-null   float64       \n",
      " 4   Close      1258 non-null   float64       \n",
      " 5   Volume     1258 non-null   float64       \n",
      " 6   Adj Close  1258 non-null   float64       \n",
      "dtypes: datetime64[ns](1), float64(6)\n",
      "memory usage: 68.9 KB\n"
     ]
    }
   ],
   "source": [
    "df_tesla.info()"
   ]
  },
  {
   "cell_type": "code",
   "execution_count": 15,
   "id": "25626ea7",
   "metadata": {},
   "outputs": [],
   "source": [
    "df_tesla=df_tesla.set_index('Date',drop=True)"
   ]
  },
  {
   "cell_type": "code",
   "execution_count": 16,
   "id": "d81ae006",
   "metadata": {},
   "outputs": [
    {
     "data": {
      "text/html": [
       "<div>\n",
       "<style scoped>\n",
       "    .dataframe tbody tr th:only-of-type {\n",
       "        vertical-align: middle;\n",
       "    }\n",
       "\n",
       "    .dataframe tbody tr th {\n",
       "        vertical-align: top;\n",
       "    }\n",
       "\n",
       "    .dataframe thead th {\n",
       "        text-align: right;\n",
       "    }\n",
       "</style>\n",
       "<table border=\"1\" class=\"dataframe\">\n",
       "  <thead>\n",
       "    <tr style=\"text-align: right;\">\n",
       "      <th></th>\n",
       "      <th>High</th>\n",
       "      <th>Low</th>\n",
       "      <th>Open</th>\n",
       "      <th>Close</th>\n",
       "      <th>Volume</th>\n",
       "      <th>Adj Close</th>\n",
       "    </tr>\n",
       "    <tr>\n",
       "      <th>Date</th>\n",
       "      <th></th>\n",
       "      <th></th>\n",
       "      <th></th>\n",
       "      <th></th>\n",
       "      <th></th>\n",
       "      <th></th>\n",
       "    </tr>\n",
       "  </thead>\n",
       "  <tbody>\n",
       "    <tr>\n",
       "      <th>2017-06-21</th>\n",
       "      <td>75.398003</td>\n",
       "      <td>73.603996</td>\n",
       "      <td>74.870003</td>\n",
       "      <td>75.279999</td>\n",
       "      <td>24616000.0</td>\n",
       "      <td>75.279999</td>\n",
       "    </tr>\n",
       "    <tr>\n",
       "      <th>2017-06-22</th>\n",
       "      <td>77.000000</td>\n",
       "      <td>74.713997</td>\n",
       "      <td>75.598000</td>\n",
       "      <td>76.522003</td>\n",
       "      <td>37649000.0</td>\n",
       "      <td>76.522003</td>\n",
       "    </tr>\n",
       "    <tr>\n",
       "      <th>2017-06-23</th>\n",
       "      <td>77.398003</td>\n",
       "      <td>75.870003</td>\n",
       "      <td>76.489998</td>\n",
       "      <td>76.690002</td>\n",
       "      <td>32229000.0</td>\n",
       "      <td>76.690002</td>\n",
       "    </tr>\n",
       "    <tr>\n",
       "      <th>2017-06-26</th>\n",
       "      <td>77.389999</td>\n",
       "      <td>74.620003</td>\n",
       "      <td>77.337997</td>\n",
       "      <td>75.498001</td>\n",
       "      <td>33020500.0</td>\n",
       "      <td>75.498001</td>\n",
       "    </tr>\n",
       "    <tr>\n",
       "      <th>2017-06-27</th>\n",
       "      <td>75.279999</td>\n",
       "      <td>72.403999</td>\n",
       "      <td>75.279999</td>\n",
       "      <td>72.473999</td>\n",
       "      <td>34982000.0</td>\n",
       "      <td>72.473999</td>\n",
       "    </tr>\n",
       "    <tr>\n",
       "      <th>...</th>\n",
       "      <td>...</td>\n",
       "      <td>...</td>\n",
       "      <td>...</td>\n",
       "      <td>...</td>\n",
       "      <td>...</td>\n",
       "      <td>...</td>\n",
       "    </tr>\n",
       "    <tr>\n",
       "      <th>2022-06-13</th>\n",
       "      <td>679.900024</td>\n",
       "      <td>644.049988</td>\n",
       "      <td>669.500000</td>\n",
       "      <td>647.210022</td>\n",
       "      <td>34255800.0</td>\n",
       "      <td>647.210022</td>\n",
       "    </tr>\n",
       "    <tr>\n",
       "      <th>2022-06-14</th>\n",
       "      <td>678.989990</td>\n",
       "      <td>635.210022</td>\n",
       "      <td>654.859985</td>\n",
       "      <td>662.669983</td>\n",
       "      <td>32662900.0</td>\n",
       "      <td>662.669983</td>\n",
       "    </tr>\n",
       "    <tr>\n",
       "      <th>2022-06-15</th>\n",
       "      <td>706.989990</td>\n",
       "      <td>654.450012</td>\n",
       "      <td>662.750000</td>\n",
       "      <td>699.000000</td>\n",
       "      <td>39710600.0</td>\n",
       "      <td>699.000000</td>\n",
       "    </tr>\n",
       "    <tr>\n",
       "      <th>2022-06-16</th>\n",
       "      <td>675.500000</td>\n",
       "      <td>626.080017</td>\n",
       "      <td>668.210022</td>\n",
       "      <td>639.299988</td>\n",
       "      <td>35796900.0</td>\n",
       "      <td>639.299988</td>\n",
       "    </tr>\n",
       "    <tr>\n",
       "      <th>2022-06-17</th>\n",
       "      <td>662.909973</td>\n",
       "      <td>639.590027</td>\n",
       "      <td>640.299988</td>\n",
       "      <td>650.280029</td>\n",
       "      <td>30810900.0</td>\n",
       "      <td>650.280029</td>\n",
       "    </tr>\n",
       "  </tbody>\n",
       "</table>\n",
       "<p>1258 rows × 6 columns</p>\n",
       "</div>"
      ],
      "text/plain": [
       "                  High         Low        Open       Close      Volume  \\\n",
       "Date                                                                     \n",
       "2017-06-21   75.398003   73.603996   74.870003   75.279999  24616000.0   \n",
       "2017-06-22   77.000000   74.713997   75.598000   76.522003  37649000.0   \n",
       "2017-06-23   77.398003   75.870003   76.489998   76.690002  32229000.0   \n",
       "2017-06-26   77.389999   74.620003   77.337997   75.498001  33020500.0   \n",
       "2017-06-27   75.279999   72.403999   75.279999   72.473999  34982000.0   \n",
       "...                ...         ...         ...         ...         ...   \n",
       "2022-06-13  679.900024  644.049988  669.500000  647.210022  34255800.0   \n",
       "2022-06-14  678.989990  635.210022  654.859985  662.669983  32662900.0   \n",
       "2022-06-15  706.989990  654.450012  662.750000  699.000000  39710600.0   \n",
       "2022-06-16  675.500000  626.080017  668.210022  639.299988  35796900.0   \n",
       "2022-06-17  662.909973  639.590027  640.299988  650.280029  30810900.0   \n",
       "\n",
       "             Adj Close  \n",
       "Date                    \n",
       "2017-06-21   75.279999  \n",
       "2017-06-22   76.522003  \n",
       "2017-06-23   76.690002  \n",
       "2017-06-26   75.498001  \n",
       "2017-06-27   72.473999  \n",
       "...                ...  \n",
       "2022-06-13  647.210022  \n",
       "2022-06-14  662.669983  \n",
       "2022-06-15  699.000000  \n",
       "2022-06-16  639.299988  \n",
       "2022-06-17  650.280029  \n",
       "\n",
       "[1258 rows x 6 columns]"
      ]
     },
     "execution_count": 16,
     "metadata": {},
     "output_type": "execute_result"
    }
   ],
   "source": [
    "df_tesla"
   ]
  },
  {
   "cell_type": "code",
   "execution_count": 17,
   "id": "48dbd839",
   "metadata": {},
   "outputs": [],
   "source": [
    "from datetime import datetime"
   ]
  },
  {
   "cell_type": "code",
   "execution_count": 18,
   "id": "2ddbdf6f",
   "metadata": {},
   "outputs": [
    {
     "data": {
      "text/plain": [
       "datetime.datetime(2021, 11, 21, 0, 0)"
      ]
     },
     "execution_count": 18,
     "metadata": {},
     "output_type": "execute_result"
    }
   ],
   "source": [
    "datetime(2021,11,21)"
   ]
  },
  {
   "cell_type": "code",
   "execution_count": 19,
   "id": "5710828e",
   "metadata": {},
   "outputs": [
    {
     "data": {
      "text/plain": [
       "datetime.datetime(2022, 6, 21, 14, 43, 10, 401881)"
      ]
     },
     "execution_count": 19,
     "metadata": {},
     "output_type": "execute_result"
    }
   ],
   "source": [
    "datetime.now()"
   ]
  },
  {
   "cell_type": "code",
   "execution_count": 20,
   "id": "7e654882",
   "metadata": {},
   "outputs": [],
   "source": [
    "def add_num(num1,num2):\n",
    "    return num1*num2"
   ]
  },
  {
   "cell_type": "code",
   "execution_count": 21,
   "id": "06090235",
   "metadata": {},
   "outputs": [
    {
     "name": "stdout",
     "output_type": "stream",
     "text": [
      "0:00:00\n"
     ]
    }
   ],
   "source": [
    "start_time=datetime.now()\n",
    "num1=20000000\n",
    "num2=30000000\n",
    "for i in [1,2,3,4,5]:\n",
    "    add_num(num1,num2)\n",
    "end_time=datetime.now()\n",
    "print(end_time-start_time)"
   ]
  },
  {
   "cell_type": "markdown",
   "id": "06fc07fe",
   "metadata": {},
   "source": [
    "## Time resampling"
   ]
  },
  {
   "cell_type": "code",
   "execution_count": 22,
   "id": "288d690b",
   "metadata": {
    "scrolled": true
   },
   "outputs": [
    {
     "data": {
      "text/html": [
       "<div>\n",
       "<style scoped>\n",
       "    .dataframe tbody tr th:only-of-type {\n",
       "        vertical-align: middle;\n",
       "    }\n",
       "\n",
       "    .dataframe tbody tr th {\n",
       "        vertical-align: top;\n",
       "    }\n",
       "\n",
       "    .dataframe thead th {\n",
       "        text-align: right;\n",
       "    }\n",
       "</style>\n",
       "<table border=\"1\" class=\"dataframe\">\n",
       "  <thead>\n",
       "    <tr style=\"text-align: right;\">\n",
       "      <th></th>\n",
       "      <th>High</th>\n",
       "      <th>Low</th>\n",
       "      <th>Open</th>\n",
       "      <th>Close</th>\n",
       "      <th>Volume</th>\n",
       "      <th>Adj Close</th>\n",
       "    </tr>\n",
       "    <tr>\n",
       "      <th>Date</th>\n",
       "      <th></th>\n",
       "      <th></th>\n",
       "      <th></th>\n",
       "      <th></th>\n",
       "      <th></th>\n",
       "      <th></th>\n",
       "    </tr>\n",
       "  </thead>\n",
       "  <tbody>\n",
       "    <tr>\n",
       "      <th>2017-06-21</th>\n",
       "      <td>75.398003</td>\n",
       "      <td>73.603996</td>\n",
       "      <td>74.870003</td>\n",
       "      <td>75.279999</td>\n",
       "      <td>24616000.0</td>\n",
       "      <td>75.279999</td>\n",
       "    </tr>\n",
       "    <tr>\n",
       "      <th>2017-06-22</th>\n",
       "      <td>77.000000</td>\n",
       "      <td>74.713997</td>\n",
       "      <td>75.598000</td>\n",
       "      <td>76.522003</td>\n",
       "      <td>37649000.0</td>\n",
       "      <td>76.522003</td>\n",
       "    </tr>\n",
       "    <tr>\n",
       "      <th>2017-06-23</th>\n",
       "      <td>77.398003</td>\n",
       "      <td>75.870003</td>\n",
       "      <td>76.489998</td>\n",
       "      <td>76.690002</td>\n",
       "      <td>32229000.0</td>\n",
       "      <td>76.690002</td>\n",
       "    </tr>\n",
       "    <tr>\n",
       "      <th>2017-06-26</th>\n",
       "      <td>77.389999</td>\n",
       "      <td>74.620003</td>\n",
       "      <td>77.337997</td>\n",
       "      <td>75.498001</td>\n",
       "      <td>33020500.0</td>\n",
       "      <td>75.498001</td>\n",
       "    </tr>\n",
       "    <tr>\n",
       "      <th>2017-06-27</th>\n",
       "      <td>75.279999</td>\n",
       "      <td>72.403999</td>\n",
       "      <td>75.279999</td>\n",
       "      <td>72.473999</td>\n",
       "      <td>34982000.0</td>\n",
       "      <td>72.473999</td>\n",
       "    </tr>\n",
       "  </tbody>\n",
       "</table>\n",
       "</div>"
      ],
      "text/plain": [
       "                 High        Low       Open      Close      Volume  Adj Close\n",
       "Date                                                                         \n",
       "2017-06-21  75.398003  73.603996  74.870003  75.279999  24616000.0  75.279999\n",
       "2017-06-22  77.000000  74.713997  75.598000  76.522003  37649000.0  76.522003\n",
       "2017-06-23  77.398003  75.870003  76.489998  76.690002  32229000.0  76.690002\n",
       "2017-06-26  77.389999  74.620003  77.337997  75.498001  33020500.0  75.498001\n",
       "2017-06-27  75.279999  72.403999  75.279999  72.473999  34982000.0  72.473999"
      ]
     },
     "execution_count": 22,
     "metadata": {},
     "output_type": "execute_result"
    }
   ],
   "source": [
    "df_tesla.head()"
   ]
  },
  {
   "cell_type": "code",
   "execution_count": 23,
   "id": "c0b172a0",
   "metadata": {},
   "outputs": [
    {
     "data": {
      "text/html": [
       "<div>\n",
       "<style scoped>\n",
       "    .dataframe tbody tr th:only-of-type {\n",
       "        vertical-align: middle;\n",
       "    }\n",
       "\n",
       "    .dataframe tbody tr th {\n",
       "        vertical-align: top;\n",
       "    }\n",
       "\n",
       "    .dataframe thead th {\n",
       "        text-align: right;\n",
       "    }\n",
       "</style>\n",
       "<table border=\"1\" class=\"dataframe\">\n",
       "  <thead>\n",
       "    <tr style=\"text-align: right;\">\n",
       "      <th></th>\n",
       "      <th>High</th>\n",
       "      <th>Low</th>\n",
       "      <th>Open</th>\n",
       "      <th>Close</th>\n",
       "      <th>Volume</th>\n",
       "      <th>Adj Close</th>\n",
       "    </tr>\n",
       "    <tr>\n",
       "      <th>Date</th>\n",
       "      <th></th>\n",
       "      <th></th>\n",
       "      <th></th>\n",
       "      <th></th>\n",
       "      <th></th>\n",
       "      <th></th>\n",
       "    </tr>\n",
       "  </thead>\n",
       "  <tbody>\n",
       "    <tr>\n",
       "      <th>2017-12-31</th>\n",
       "      <td>60.891998</td>\n",
       "      <td>58.526001</td>\n",
       "      <td>59.900002</td>\n",
       "      <td>59.852001</td>\n",
       "      <td>15247500.0</td>\n",
       "      <td>59.852001</td>\n",
       "    </tr>\n",
       "    <tr>\n",
       "      <th>2018-12-31</th>\n",
       "      <td>52.066002</td>\n",
       "      <td>48.917999</td>\n",
       "      <td>50.556000</td>\n",
       "      <td>50.112000</td>\n",
       "      <td>15403500.0</td>\n",
       "      <td>50.112000</td>\n",
       "    </tr>\n",
       "    <tr>\n",
       "      <th>2019-12-31</th>\n",
       "      <td>37.335999</td>\n",
       "      <td>35.397999</td>\n",
       "      <td>36.220001</td>\n",
       "      <td>35.793999</td>\n",
       "      <td>12328000.0</td>\n",
       "      <td>35.793999</td>\n",
       "    </tr>\n",
       "    <tr>\n",
       "      <th>2020-12-31</th>\n",
       "      <td>80.972000</td>\n",
       "      <td>70.101997</td>\n",
       "      <td>74.940002</td>\n",
       "      <td>72.244003</td>\n",
       "      <td>17357700.0</td>\n",
       "      <td>72.244003</td>\n",
       "    </tr>\n",
       "    <tr>\n",
       "      <th>2021-12-31</th>\n",
       "      <td>566.210022</td>\n",
       "      <td>539.489990</td>\n",
       "      <td>552.549988</td>\n",
       "      <td>563.000000</td>\n",
       "      <td>9800600.0</td>\n",
       "      <td>563.000000</td>\n",
       "    </tr>\n",
       "    <tr>\n",
       "      <th>2022-12-31</th>\n",
       "      <td>653.919983</td>\n",
       "      <td>620.570007</td>\n",
       "      <td>623.849976</td>\n",
       "      <td>628.159973</td>\n",
       "      <td>16330900.0</td>\n",
       "      <td>628.159973</td>\n",
       "    </tr>\n",
       "  </tbody>\n",
       "</table>\n",
       "</div>"
      ],
      "text/plain": [
       "                  High         Low        Open       Close      Volume  \\\n",
       "Date                                                                     \n",
       "2017-12-31   60.891998   58.526001   59.900002   59.852001  15247500.0   \n",
       "2018-12-31   52.066002   48.917999   50.556000   50.112000  15403500.0   \n",
       "2019-12-31   37.335999   35.397999   36.220001   35.793999  12328000.0   \n",
       "2020-12-31   80.972000   70.101997   74.940002   72.244003  17357700.0   \n",
       "2021-12-31  566.210022  539.489990  552.549988  563.000000   9800600.0   \n",
       "2022-12-31  653.919983  620.570007  623.849976  628.159973  16330900.0   \n",
       "\n",
       "             Adj Close  \n",
       "Date                    \n",
       "2017-12-31   59.852001  \n",
       "2018-12-31   50.112000  \n",
       "2019-12-31   35.793999  \n",
       "2020-12-31   72.244003  \n",
       "2021-12-31  563.000000  \n",
       "2022-12-31  628.159973  "
      ]
     },
     "execution_count": 23,
     "metadata": {},
     "output_type": "execute_result"
    }
   ],
   "source": [
    "# It gives in the specific year what is the minimal number in each column\n",
    "df_tesla.resample(rule='A').min()"
   ]
  },
  {
   "cell_type": "code",
   "execution_count": 24,
   "id": "fd382323",
   "metadata": {},
   "outputs": [
    {
     "data": {
      "text/html": [
       "<div>\n",
       "<style scoped>\n",
       "    .dataframe tbody tr th:only-of-type {\n",
       "        vertical-align: middle;\n",
       "    }\n",
       "\n",
       "    .dataframe tbody tr th {\n",
       "        vertical-align: top;\n",
       "    }\n",
       "\n",
       "    .dataframe thead th {\n",
       "        text-align: right;\n",
       "    }\n",
       "</style>\n",
       "<table border=\"1\" class=\"dataframe\">\n",
       "  <thead>\n",
       "    <tr style=\"text-align: right;\">\n",
       "      <th></th>\n",
       "      <th>High</th>\n",
       "      <th>Low</th>\n",
       "      <th>Open</th>\n",
       "      <th>Close</th>\n",
       "      <th>Volume</th>\n",
       "      <th>Adj Close</th>\n",
       "    </tr>\n",
       "    <tr>\n",
       "      <th>Date</th>\n",
       "      <th></th>\n",
       "      <th></th>\n",
       "      <th></th>\n",
       "      <th></th>\n",
       "      <th></th>\n",
       "      <th></th>\n",
       "    </tr>\n",
       "  </thead>\n",
       "  <tbody>\n",
       "    <tr>\n",
       "      <th>2017-12-31</th>\n",
       "      <td>77.921997</td>\n",
       "      <td>75.870003</td>\n",
       "      <td>77.337997</td>\n",
       "      <td>77.000000</td>\n",
       "      <td>98957000.0</td>\n",
       "      <td>77.000000</td>\n",
       "    </tr>\n",
       "    <tr>\n",
       "      <th>2018-12-31</th>\n",
       "      <td>77.491997</td>\n",
       "      <td>73.424004</td>\n",
       "      <td>75.000000</td>\n",
       "      <td>75.914001</td>\n",
       "      <td>168248500.0</td>\n",
       "      <td>75.914001</td>\n",
       "    </tr>\n",
       "    <tr>\n",
       "      <th>2019-12-31</th>\n",
       "      <td>87.061996</td>\n",
       "      <td>85.269997</td>\n",
       "      <td>87.000000</td>\n",
       "      <td>86.188004</td>\n",
       "      <td>150030500.0</td>\n",
       "      <td>86.188004</td>\n",
       "    </tr>\n",
       "    <tr>\n",
       "      <th>2020-12-31</th>\n",
       "      <td>718.719971</td>\n",
       "      <td>691.119995</td>\n",
       "      <td>699.989990</td>\n",
       "      <td>705.669983</td>\n",
       "      <td>304694000.0</td>\n",
       "      <td>705.669983</td>\n",
       "    </tr>\n",
       "    <tr>\n",
       "      <th>2021-12-31</th>\n",
       "      <td>1243.489990</td>\n",
       "      <td>1217.000000</td>\n",
       "      <td>1234.410034</td>\n",
       "      <td>1229.910034</td>\n",
       "      <td>89396500.0</td>\n",
       "      <td>1229.910034</td>\n",
       "    </tr>\n",
       "    <tr>\n",
       "      <th>2022-12-31</th>\n",
       "      <td>1208.000000</td>\n",
       "      <td>1136.040039</td>\n",
       "      <td>1189.550049</td>\n",
       "      <td>1199.780029</td>\n",
       "      <td>50521900.0</td>\n",
       "      <td>1199.780029</td>\n",
       "    </tr>\n",
       "  </tbody>\n",
       "</table>\n",
       "</div>"
      ],
      "text/plain": [
       "                   High          Low         Open        Close       Volume  \\\n",
       "Date                                                                          \n",
       "2017-12-31    77.921997    75.870003    77.337997    77.000000   98957000.0   \n",
       "2018-12-31    77.491997    73.424004    75.000000    75.914001  168248500.0   \n",
       "2019-12-31    87.061996    85.269997    87.000000    86.188004  150030500.0   \n",
       "2020-12-31   718.719971   691.119995   699.989990   705.669983  304694000.0   \n",
       "2021-12-31  1243.489990  1217.000000  1234.410034  1229.910034   89396500.0   \n",
       "2022-12-31  1208.000000  1136.040039  1189.550049  1199.780029   50521900.0   \n",
       "\n",
       "              Adj Close  \n",
       "Date                     \n",
       "2017-12-31    77.000000  \n",
       "2018-12-31    75.914001  \n",
       "2019-12-31    86.188004  \n",
       "2020-12-31   705.669983  \n",
       "2021-12-31  1229.910034  \n",
       "2022-12-31  1199.780029  "
      ]
     },
     "execution_count": 24,
     "metadata": {},
     "output_type": "execute_result"
    }
   ],
   "source": [
    "# It gives in the specific year what is the maximum number in each column\n",
    "df_tesla.resample(rule='A').max()"
   ]
  },
  {
   "cell_type": "code",
   "execution_count": 25,
   "id": "a2090dd0",
   "metadata": {},
   "outputs": [
    {
     "data": {
      "text/plain": [
       "<AxesSubplot:xlabel='Date'>"
      ]
     },
     "execution_count": 25,
     "metadata": {},
     "output_type": "execute_result"
    },
    {
     "data": {
      "image/png": "[encoded data removed]",
      "text/plain": [
       "<Figure size 432x288 with 1 Axes>"
      ]
     },
     "metadata": {
      "needs_background": "light"
     },
     "output_type": "display_data"
    }
   ],
   "source": [
    "# plotting the above wrt to \"Open\"\n",
    "df_tesla.resample(rule='A').max()['Open'].plot()"
   ]
  },
  {
   "cell_type": "markdown",
   "id": "fbf8701b",
   "metadata": {},
   "source": [
    "Rule A basically means Year End Frequency"
   ]
  },
  {
   "cell_type": "code",
   "execution_count": 26,
   "id": "426e6e69",
   "metadata": {},
   "outputs": [
    {
     "data": {
      "text/plain": [
       "Date\n",
       "2017-04-01      77.398003\n",
       "2017-07-01      77.921997\n",
       "2017-10-01      72.599998\n",
       "2018-01-01      72.099998\n",
       "2018-04-01      74.746002\n",
       "2018-07-01      77.491997\n",
       "2018-10-01      75.898003\n",
       "2019-01-01      70.400002\n",
       "2019-04-01      59.234001\n",
       "2019-07-01      53.214001\n",
       "2019-10-01      87.061996\n",
       "2020-01-01     193.798004\n",
       "2020-04-01     217.537994\n",
       "2020-07-01     502.489990\n",
       "2020-10-01     718.719971\n",
       "2021-01-01     900.400024\n",
       "2021-04-01     780.789978\n",
       "2021-07-01     799.000000\n",
       "2021-10-01    1243.489990\n",
       "2022-01-01    1208.000000\n",
       "2022-04-01    1152.869995\n",
       "Freq: QS-JAN, Name: High, dtype: float64"
      ]
     },
     "execution_count": 26,
     "metadata": {},
     "output_type": "execute_result"
    }
   ],
   "source": [
    "# QS- Quarterly start frequency\n",
    "df_tesla.resample(rule='QS').max()['High']"
   ]
  },
  {
   "cell_type": "code",
   "execution_count": 27,
   "id": "d8d9bae2",
   "metadata": {},
   "outputs": [
    {
     "data": {
      "text/plain": [
       "<AxesSubplot:xlabel='Date'>"
      ]
     },
     "execution_count": 27,
     "metadata": {},
     "output_type": "execute_result"
    },
    {
     "data": {
      "image/png": "[encoded data removed]",
      "text/plain": [
       "<Figure size 432x288 with 1 Axes>"
      ]
     },
     "metadata": {
      "needs_background": "light"
     },
     "output_type": "display_data"
    }
   ],
   "source": [
    "# Plotting above\n",
    "df_tesla.resample(rule='QS').max()['High'].plot()"
   ]
  },
  {
   "cell_type": "code",
   "execution_count": 28,
   "id": "998eada4",
   "metadata": {},
   "outputs": [
    {
     "data": {
      "text/plain": [
       "Date\n",
       "2017-12-29      77.921997\n",
       "2018-12-31      77.491997\n",
       "2019-12-31      87.061996\n",
       "2020-12-31     718.719971\n",
       "2021-12-31    1243.489990\n",
       "2022-12-30    1208.000000\n",
       "Freq: BA-DEC, Name: High, dtype: float64"
      ]
     },
     "execution_count": 28,
     "metadata": {},
     "output_type": "execute_result"
    }
   ],
   "source": [
    "# BS- Business end frequency\n",
    "df_tesla.resample(rule='BA').max()['High']"
   ]
  },
  {
   "cell_type": "code",
   "execution_count": 29,
   "id": "6f05af8d",
   "metadata": {},
   "outputs": [
    {
     "data": {
      "text/plain": [
       "<AxesSubplot:xlabel='Date'>"
      ]
     },
     "execution_count": 29,
     "metadata": {},
     "output_type": "execute_result"
    },
    {
     "data": {
      "image/png": "[encoded data removed]",
      "text/plain": [
       "<Figure size 432x288 with 1 Axes>"
      ]
     },
     "metadata": {
      "needs_background": "light"
     },
     "output_type": "display_data"
    }
   ],
   "source": [
    "df_tesla.resample(rule='BA').max()['High'].plot()"
   ]
  },
  {
   "cell_type": "code",
   "execution_count": 30,
   "id": "580f786a",
   "metadata": {},
   "outputs": [
    {
     "data": {
      "text/plain": [
       "Date\n",
       "2017-04-03      77.398003\n",
       "2017-07-03      77.921997\n",
       "2017-10-02      72.599998\n",
       "2018-01-01      72.099998\n",
       "2018-04-02      74.746002\n",
       "2018-07-02      77.491997\n",
       "2018-10-01      75.898003\n",
       "2019-01-01      70.400002\n",
       "2019-04-01      59.234001\n",
       "2019-07-01      53.214001\n",
       "2019-10-01      87.061996\n",
       "2020-01-01     193.798004\n",
       "2020-04-01     217.537994\n",
       "2020-07-01     502.489990\n",
       "2020-10-01     718.719971\n",
       "2021-01-01     900.400024\n",
       "2021-04-01     780.789978\n",
       "2021-07-01     799.000000\n",
       "2021-10-01    1243.489990\n",
       "2022-01-03    1208.000000\n",
       "2022-04-01    1152.869995\n",
       "Freq: BQS-JAN, Name: High, dtype: float64"
      ]
     },
     "execution_count": 30,
     "metadata": {},
     "output_type": "execute_result"
    }
   ],
   "source": [
    "# Business getting started\n",
    "df_tesla.resample(rule='BQS').max()['High']"
   ]
  },
  {
   "cell_type": "code",
   "execution_count": 31,
   "id": "58eaf483",
   "metadata": {},
   "outputs": [
    {
     "data": {
      "text/plain": [
       "<AxesSubplot:xlabel='Date'>"
      ]
     },
     "execution_count": 31,
     "metadata": {},
     "output_type": "execute_result"
    },
    {
     "data": {
      "image/png": "[encoded data removed]",
      "text/plain": [
       "<Figure size 432x288 with 1 Axes>"
      ]
     },
     "metadata": {
      "needs_background": "light"
     },
     "output_type": "display_data"
    }
   ],
   "source": [
    "df_tesla.resample(rule='BQS').max()['High'].plot()"
   ]
  },
  {
   "cell_type": "code",
   "execution_count": 32,
   "id": "cb232c8f",
   "metadata": {},
   "outputs": [
    {
     "data": {
      "text/plain": [
       "Date\n",
       "2017-12-29     67.790209\n",
       "2018-12-31     63.436693\n",
       "2019-12-31     54.605627\n",
       "2020-12-31    289.108428\n",
       "2021-12-31    779.839286\n",
       "2022-12-30    892.541034\n",
       "Freq: BA-DEC, Name: Open, dtype: float64"
      ]
     },
     "execution_count": 32,
     "metadata": {},
     "output_type": "execute_result"
    }
   ],
   "source": [
    "# plotting\n",
    "df_tesla['Open'].resample(rule='BA').mean()"
   ]
  },
  {
   "cell_type": "code",
   "execution_count": 33,
   "id": "1d07f67e",
   "metadata": {},
   "outputs": [
    {
     "data": {
      "text/plain": [
       "<AxesSubplot:xlabel='Date'>"
      ]
     },
     "execution_count": 33,
     "metadata": {},
     "output_type": "execute_result"
    },
    {
     "data": {
      "image/png": "[encoded data removed]",
      "text/plain": [
       "<Figure size 432x288 with 1 Axes>"
      ]
     },
     "metadata": {
      "needs_background": "light"
     },
     "output_type": "display_data"
    }
   ],
   "source": [
    "df_tesla['Open'].resample(rule='A').mean().plot(kind='bar')"
   ]
  },
  {
   "cell_type": "code",
   "execution_count": 34,
   "id": "0a39dc18",
   "metadata": {},
   "outputs": [
    {
     "data": {
      "text/plain": [
       "Date\n",
       "2017-06-30      77.337997\n",
       "2017-07-31      74.047997\n",
       "2017-08-31      73.040001\n",
       "2017-09-30      76.050003\n",
       "2017-10-31      71.396004\n",
       "                 ...     \n",
       "2022-02-28     935.210022\n",
       "2022-03-31    1107.989990\n",
       "2022-04-30    1136.300049\n",
       "2022-05-31     939.020020\n",
       "2022-06-30     755.159973\n",
       "Freq: M, Name: Open, Length: 61, dtype: float64"
      ]
     },
     "execution_count": 34,
     "metadata": {},
     "output_type": "execute_result"
    }
   ],
   "source": [
    "df_tesla['Open'].resample(rule='M').max()"
   ]
  },
  {
   "cell_type": "code",
   "execution_count": 35,
   "id": "589f3c39",
   "metadata": {},
   "outputs": [
    {
     "data": {
      "text/plain": [
       "<AxesSubplot:xlabel='Date'>"
      ]
     },
     "execution_count": 35,
     "metadata": {},
     "output_type": "execute_result"
    },
    {
     "data": {
      "image/png": "[encoded data removed]",
      "text/plain": [
       "<Figure size 1080x432 with 1 Axes>"
      ]
     },
     "metadata": {
      "needs_background": "light"
     },
     "output_type": "display_data"
    }
   ],
   "source": [
    "df_tesla['Open'].resample(rule='M').max().plot(kind='bar',figsize=(15,6))"
   ]
  },
  {
   "cell_type": "code",
   "execution_count": 36,
   "id": "45c69b06",
   "metadata": {},
   "outputs": [
    {
     "data": {
      "text/plain": [
       "Date\n",
       "2017-06-21          NaN\n",
       "2017-06-22          NaN\n",
       "2017-06-23          NaN\n",
       "2017-06-26          NaN\n",
       "2017-06-27          NaN\n",
       "2017-06-28    76.135667\n",
       "2017-06-29    75.936000\n",
       "2017-06-30    75.328332\n",
       "2017-07-03    74.806998\n",
       "2017-07-05    73.483331\n",
       "2017-07-06    71.629664\n",
       "2017-07-07    69.804998\n",
       "2017-07-10    68.036332\n",
       "2017-07-11    66.719999\n",
       "Name: High, dtype: float64"
      ]
     },
     "execution_count": 36,
     "metadata": {},
     "output_type": "execute_result"
    }
   ],
   "source": [
    "# Rolling\n",
    "df_tesla['High'].rolling(6).mean().head(14)"
   ]
  },
  {
   "cell_type": "code",
   "execution_count": 37,
   "id": "a6041eb3",
   "metadata": {},
   "outputs": [],
   "source": [
    "df_tesla['Open: 30 days rolling']=df_tesla['Open'].rolling(30).mean()"
   ]
  },
  {
   "cell_type": "code",
   "execution_count": 38,
   "id": "0d83ed43",
   "metadata": {
    "scrolled": false
   },
   "outputs": [
    {
     "data": {
      "text/html": [
       "<div>\n",
       "<style scoped>\n",
       "    .dataframe tbody tr th:only-of-type {\n",
       "        vertical-align: middle;\n",
       "    }\n",
       "\n",
       "    .dataframe tbody tr th {\n",
       "        vertical-align: top;\n",
       "    }\n",
       "\n",
       "    .dataframe thead th {\n",
       "        text-align: right;\n",
       "    }\n",
       "</style>\n",
       "<table border=\"1\" class=\"dataframe\">\n",
       "  <thead>\n",
       "    <tr style=\"text-align: right;\">\n",
       "      <th></th>\n",
       "      <th>High</th>\n",
       "      <th>Low</th>\n",
       "      <th>Open</th>\n",
       "      <th>Close</th>\n",
       "      <th>Volume</th>\n",
       "      <th>Adj Close</th>\n",
       "      <th>Open: 30 days rolling</th>\n",
       "    </tr>\n",
       "    <tr>\n",
       "      <th>Date</th>\n",
       "      <th></th>\n",
       "      <th></th>\n",
       "      <th></th>\n",
       "      <th></th>\n",
       "      <th></th>\n",
       "      <th></th>\n",
       "      <th></th>\n",
       "    </tr>\n",
       "  </thead>\n",
       "  <tbody>\n",
       "    <tr>\n",
       "      <th>2017-06-21</th>\n",
       "      <td>75.398003</td>\n",
       "      <td>73.603996</td>\n",
       "      <td>74.870003</td>\n",
       "      <td>75.279999</td>\n",
       "      <td>24616000.0</td>\n",
       "      <td>75.279999</td>\n",
       "      <td>NaN</td>\n",
       "    </tr>\n",
       "    <tr>\n",
       "      <th>2017-06-22</th>\n",
       "      <td>77.000000</td>\n",
       "      <td>74.713997</td>\n",
       "      <td>75.598000</td>\n",
       "      <td>76.522003</td>\n",
       "      <td>37649000.0</td>\n",
       "      <td>76.522003</td>\n",
       "      <td>NaN</td>\n",
       "    </tr>\n",
       "    <tr>\n",
       "      <th>2017-06-23</th>\n",
       "      <td>77.398003</td>\n",
       "      <td>75.870003</td>\n",
       "      <td>76.489998</td>\n",
       "      <td>76.690002</td>\n",
       "      <td>32229000.0</td>\n",
       "      <td>76.690002</td>\n",
       "      <td>NaN</td>\n",
       "    </tr>\n",
       "    <tr>\n",
       "      <th>2017-06-26</th>\n",
       "      <td>77.389999</td>\n",
       "      <td>74.620003</td>\n",
       "      <td>77.337997</td>\n",
       "      <td>75.498001</td>\n",
       "      <td>33020500.0</td>\n",
       "      <td>75.498001</td>\n",
       "      <td>NaN</td>\n",
       "    </tr>\n",
       "    <tr>\n",
       "      <th>2017-06-27</th>\n",
       "      <td>75.279999</td>\n",
       "      <td>72.403999</td>\n",
       "      <td>75.279999</td>\n",
       "      <td>72.473999</td>\n",
       "      <td>34982000.0</td>\n",
       "      <td>72.473999</td>\n",
       "      <td>NaN</td>\n",
       "    </tr>\n",
       "    <tr>\n",
       "      <th>2017-06-28</th>\n",
       "      <td>74.348000</td>\n",
       "      <td>72.503998</td>\n",
       "      <td>73.335999</td>\n",
       "      <td>74.248001</td>\n",
       "      <td>31512500.0</td>\n",
       "      <td>74.248001</td>\n",
       "      <td>NaN</td>\n",
       "    </tr>\n",
       "    <tr>\n",
       "      <th>2017-06-29</th>\n",
       "      <td>74.199997</td>\n",
       "      <td>70.820000</td>\n",
       "      <td>74.122002</td>\n",
       "      <td>72.150002</td>\n",
       "      <td>41105000.0</td>\n",
       "      <td>72.150002</td>\n",
       "      <td>NaN</td>\n",
       "    </tr>\n",
       "    <tr>\n",
       "      <th>2017-06-30</th>\n",
       "      <td>73.353996</td>\n",
       "      <td>71.924004</td>\n",
       "      <td>72.741997</td>\n",
       "      <td>72.321999</td>\n",
       "      <td>29242500.0</td>\n",
       "      <td>72.321999</td>\n",
       "      <td>NaN</td>\n",
       "    </tr>\n",
       "    <tr>\n",
       "      <th>2017-07-03</th>\n",
       "      <td>74.269997</td>\n",
       "      <td>70.300003</td>\n",
       "      <td>74.047997</td>\n",
       "      <td>70.524002</td>\n",
       "      <td>31527000.0</td>\n",
       "      <td>70.524002</td>\n",
       "      <td>NaN</td>\n",
       "    </tr>\n",
       "    <tr>\n",
       "      <th>2017-07-05</th>\n",
       "      <td>69.447998</td>\n",
       "      <td>65.265999</td>\n",
       "      <td>69.440002</td>\n",
       "      <td>65.417999</td>\n",
       "      <td>85233500.0</td>\n",
       "      <td>65.417999</td>\n",
       "      <td>NaN</td>\n",
       "    </tr>\n",
       "    <tr>\n",
       "      <th>2017-07-06</th>\n",
       "      <td>64.157997</td>\n",
       "      <td>61.259998</td>\n",
       "      <td>63.452000</td>\n",
       "      <td>61.765999</td>\n",
       "      <td>96622500.0</td>\n",
       "      <td>61.765999</td>\n",
       "      <td>NaN</td>\n",
       "    </tr>\n",
       "    <tr>\n",
       "      <th>2017-07-07</th>\n",
       "      <td>63.400002</td>\n",
       "      <td>61.476002</td>\n",
       "      <td>62.700001</td>\n",
       "      <td>62.644001</td>\n",
       "      <td>70884500.0</td>\n",
       "      <td>62.644001</td>\n",
       "      <td>NaN</td>\n",
       "    </tr>\n",
       "    <tr>\n",
       "      <th>2017-07-10</th>\n",
       "      <td>63.588001</td>\n",
       "      <td>60.625999</td>\n",
       "      <td>62.580002</td>\n",
       "      <td>63.209999</td>\n",
       "      <td>69104500.0</td>\n",
       "      <td>63.209999</td>\n",
       "      <td>NaN</td>\n",
       "    </tr>\n",
       "    <tr>\n",
       "      <th>2017-07-11</th>\n",
       "      <td>65.456001</td>\n",
       "      <td>62.860001</td>\n",
       "      <td>63.200001</td>\n",
       "      <td>65.444000</td>\n",
       "      <td>57797000.0</td>\n",
       "      <td>65.444000</td>\n",
       "      <td>NaN</td>\n",
       "    </tr>\n",
       "    <tr>\n",
       "      <th>2017-07-12</th>\n",
       "      <td>66.620003</td>\n",
       "      <td>64.900002</td>\n",
       "      <td>66.080002</td>\n",
       "      <td>65.903999</td>\n",
       "      <td>51730500.0</td>\n",
       "      <td>65.903999</td>\n",
       "      <td>NaN</td>\n",
       "    </tr>\n",
       "    <tr>\n",
       "      <th>2017-07-13</th>\n",
       "      <td>66.320000</td>\n",
       "      <td>63.993999</td>\n",
       "      <td>66.022003</td>\n",
       "      <td>64.681999</td>\n",
       "      <td>42972500.0</td>\n",
       "      <td>64.681999</td>\n",
       "      <td>NaN</td>\n",
       "    </tr>\n",
       "    <tr>\n",
       "      <th>2017-07-14</th>\n",
       "      <td>65.683998</td>\n",
       "      <td>64.244003</td>\n",
       "      <td>64.638000</td>\n",
       "      <td>65.556000</td>\n",
       "      <td>28126000.0</td>\n",
       "      <td>65.556000</td>\n",
       "      <td>NaN</td>\n",
       "    </tr>\n",
       "    <tr>\n",
       "      <th>2017-07-17</th>\n",
       "      <td>65.419998</td>\n",
       "      <td>62.689999</td>\n",
       "      <td>65.108002</td>\n",
       "      <td>63.914001</td>\n",
       "      <td>49384500.0</td>\n",
       "      <td>63.914001</td>\n",
       "      <td>NaN</td>\n",
       "    </tr>\n",
       "    <tr>\n",
       "      <th>2017-07-18</th>\n",
       "      <td>65.825996</td>\n",
       "      <td>63.132000</td>\n",
       "      <td>63.500000</td>\n",
       "      <td>65.648003</td>\n",
       "      <td>31868500.0</td>\n",
       "      <td>65.648003</td>\n",
       "      <td>NaN</td>\n",
       "    </tr>\n",
       "    <tr>\n",
       "      <th>2017-07-19</th>\n",
       "      <td>66.330002</td>\n",
       "      <td>64.643997</td>\n",
       "      <td>65.646004</td>\n",
       "      <td>65.052002</td>\n",
       "      <td>31785000.0</td>\n",
       "      <td>65.052002</td>\n",
       "      <td>NaN</td>\n",
       "    </tr>\n",
       "    <tr>\n",
       "      <th>2017-07-20</th>\n",
       "      <td>66.043999</td>\n",
       "      <td>64.839996</td>\n",
       "      <td>65.379997</td>\n",
       "      <td>65.984001</td>\n",
       "      <td>25831000.0</td>\n",
       "      <td>65.984001</td>\n",
       "      <td>NaN</td>\n",
       "    </tr>\n",
       "    <tr>\n",
       "      <th>2017-07-21</th>\n",
       "      <td>66.251999</td>\n",
       "      <td>65.160004</td>\n",
       "      <td>65.891998</td>\n",
       "      <td>65.680000</td>\n",
       "      <td>24508000.0</td>\n",
       "      <td>65.680000</td>\n",
       "      <td>NaN</td>\n",
       "    </tr>\n",
       "    <tr>\n",
       "      <th>2017-07-24</th>\n",
       "      <td>68.680000</td>\n",
       "      <td>66.001999</td>\n",
       "      <td>66.047997</td>\n",
       "      <td>68.503998</td>\n",
       "      <td>43185500.0</td>\n",
       "      <td>68.503998</td>\n",
       "      <td>NaN</td>\n",
       "    </tr>\n",
       "    <tr>\n",
       "      <th>2017-07-25</th>\n",
       "      <td>69.120003</td>\n",
       "      <td>66.830002</td>\n",
       "      <td>69.000000</td>\n",
       "      <td>67.919998</td>\n",
       "      <td>34946000.0</td>\n",
       "      <td>67.919998</td>\n",
       "      <td>NaN</td>\n",
       "    </tr>\n",
       "    <tr>\n",
       "      <th>2017-07-26</th>\n",
       "      <td>69.099998</td>\n",
       "      <td>67.624001</td>\n",
       "      <td>68.071999</td>\n",
       "      <td>68.769997</td>\n",
       "      <td>24104000.0</td>\n",
       "      <td>68.769997</td>\n",
       "      <td>NaN</td>\n",
       "    </tr>\n",
       "    <tr>\n",
       "      <th>2017-07-27</th>\n",
       "      <td>69.500000</td>\n",
       "      <td>65.258003</td>\n",
       "      <td>69.199997</td>\n",
       "      <td>66.891998</td>\n",
       "      <td>41512000.0</td>\n",
       "      <td>66.891998</td>\n",
       "      <td>NaN</td>\n",
       "    </tr>\n",
       "    <tr>\n",
       "      <th>2017-07-28</th>\n",
       "      <td>67.919998</td>\n",
       "      <td>66.501999</td>\n",
       "      <td>67.377998</td>\n",
       "      <td>67.014000</td>\n",
       "      <td>24402000.0</td>\n",
       "      <td>67.014000</td>\n",
       "      <td>NaN</td>\n",
       "    </tr>\n",
       "    <tr>\n",
       "      <th>2017-07-31</th>\n",
       "      <td>68.297997</td>\n",
       "      <td>64.208000</td>\n",
       "      <td>67.099998</td>\n",
       "      <td>64.694000</td>\n",
       "      <td>42675500.0</td>\n",
       "      <td>64.694000</td>\n",
       "      <td>NaN</td>\n",
       "    </tr>\n",
       "    <tr>\n",
       "      <th>2017-08-01</th>\n",
       "      <td>64.889999</td>\n",
       "      <td>63.226002</td>\n",
       "      <td>64.599998</td>\n",
       "      <td>63.914001</td>\n",
       "      <td>41515500.0</td>\n",
       "      <td>63.914001</td>\n",
       "      <td>NaN</td>\n",
       "    </tr>\n",
       "    <tr>\n",
       "      <th>2017-08-02</th>\n",
       "      <td>65.424004</td>\n",
       "      <td>62.243999</td>\n",
       "      <td>63.787998</td>\n",
       "      <td>65.178001</td>\n",
       "      <td>65457500.0</td>\n",
       "      <td>65.178001</td>\n",
       "      <td>68.421600</td>\n",
       "    </tr>\n",
       "    <tr>\n",
       "      <th>2017-08-03</th>\n",
       "      <td>70.000000</td>\n",
       "      <td>68.629997</td>\n",
       "      <td>69.066002</td>\n",
       "      <td>69.417999</td>\n",
       "      <td>67675000.0</td>\n",
       "      <td>69.417999</td>\n",
       "      <td>68.228133</td>\n",
       "    </tr>\n",
       "  </tbody>\n",
       "</table>\n",
       "</div>"
      ],
      "text/plain": [
       "                 High        Low       Open      Close      Volume  Adj Close  \\\n",
       "Date                                                                            \n",
       "2017-06-21  75.398003  73.603996  74.870003  75.279999  24616000.0  75.279999   \n",
       "2017-06-22  77.000000  74.713997  75.598000  76.522003  37649000.0  76.522003   \n",
       "2017-06-23  77.398003  75.870003  76.489998  76.690002  32229000.0  76.690002   \n",
       "2017-06-26  77.389999  74.620003  77.337997  75.498001  33020500.0  75.498001   \n",
       "2017-06-27  75.279999  72.403999  75.279999  72.473999  34982000.0  72.473999   \n",
       "2017-06-28  74.348000  72.503998  73.335999  74.248001  31512500.0  74.248001   \n",
       "2017-06-29  74.199997  70.820000  74.122002  72.150002  41105000.0  72.150002   \n",
       "2017-06-30  73.353996  71.924004  72.741997  72.321999  29242500.0  72.321999   \n",
       "2017-07-03  74.269997  70.300003  74.047997  70.524002  31527000.0  70.524002   \n",
       "2017-07-05  69.447998  65.265999  69.440002  65.417999  85233500.0  65.417999   \n",
       "2017-07-06  64.157997  61.259998  63.452000  61.765999  96622500.0  61.765999   \n",
       "2017-07-07  63.400002  61.476002  62.700001  62.644001  70884500.0  62.644001   \n",
       "2017-07-10  63.588001  60.625999  62.580002  63.209999  69104500.0  63.209999   \n",
       "2017-07-11  65.456001  62.860001  63.200001  65.444000  57797000.0  65.444000   \n",
       "2017-07-12  66.620003  64.900002  66.080002  65.903999  51730500.0  65.903999   \n",
       "2017-07-13  66.320000  63.993999  66.022003  64.681999  42972500.0  64.681999   \n",
       "2017-07-14  65.683998  64.244003  64.638000  65.556000  28126000.0  65.556000   \n",
       "2017-07-17  65.419998  62.689999  65.108002  63.914001  49384500.0  63.914001   \n",
       "2017-07-18  65.825996  63.132000  63.500000  65.648003  31868500.0  65.648003   \n",
       "2017-07-19  66.330002  64.643997  65.646004  65.052002  31785000.0  65.052002   \n",
       "2017-07-20  66.043999  64.839996  65.379997  65.984001  25831000.0  65.984001   \n",
       "2017-07-21  66.251999  65.160004  65.891998  65.680000  24508000.0  65.680000   \n",
       "2017-07-24  68.680000  66.001999  66.047997  68.503998  43185500.0  68.503998   \n",
       "2017-07-25  69.120003  66.830002  69.000000  67.919998  34946000.0  67.919998   \n",
       "2017-07-26  69.099998  67.624001  68.071999  68.769997  24104000.0  68.769997   \n",
       "2017-07-27  69.500000  65.258003  69.199997  66.891998  41512000.0  66.891998   \n",
       "2017-07-28  67.919998  66.501999  67.377998  67.014000  24402000.0  67.014000   \n",
       "2017-07-31  68.297997  64.208000  67.099998  64.694000  42675500.0  64.694000   \n",
       "2017-08-01  64.889999  63.226002  64.599998  63.914001  41515500.0  63.914001   \n",
       "2017-08-02  65.424004  62.243999  63.787998  65.178001  65457500.0  65.178001   \n",
       "2017-08-03  70.000000  68.629997  69.066002  69.417999  67675000.0  69.417999   \n",
       "\n",
       "            Open: 30 days rolling  \n",
       "Date                               \n",
       "2017-06-21                    NaN  \n",
       "2017-06-22                    NaN  \n",
       "2017-06-23                    NaN  \n",
       "2017-06-26                    NaN  \n",
       "2017-06-27                    NaN  \n",
       "2017-06-28                    NaN  \n",
       "2017-06-29                    NaN  \n",
       "2017-06-30                    NaN  \n",
       "2017-07-03                    NaN  \n",
       "2017-07-05                    NaN  \n",
       "2017-07-06                    NaN  \n",
       "2017-07-07                    NaN  \n",
       "2017-07-10                    NaN  \n",
       "2017-07-11                    NaN  \n",
       "2017-07-12                    NaN  \n",
       "2017-07-13                    NaN  \n",
       "2017-07-14                    NaN  \n",
       "2017-07-17                    NaN  \n",
       "2017-07-18                    NaN  \n",
       "2017-07-19                    NaN  \n",
       "2017-07-20                    NaN  \n",
       "2017-07-21                    NaN  \n",
       "2017-07-24                    NaN  \n",
       "2017-07-25                    NaN  \n",
       "2017-07-26                    NaN  \n",
       "2017-07-27                    NaN  \n",
       "2017-07-28                    NaN  \n",
       "2017-07-31                    NaN  \n",
       "2017-08-01                    NaN  \n",
       "2017-08-02              68.421600  \n",
       "2017-08-03              68.228133  "
      ]
     },
     "execution_count": 38,
     "metadata": {},
     "output_type": "execute_result"
    }
   ],
   "source": [
    "df_tesla.head(31)"
   ]
  },
  {
   "cell_type": "code",
   "execution_count": 39,
   "id": "3026b178",
   "metadata": {},
   "outputs": [
    {
     "data": {
      "text/plain": [
       "<AxesSubplot:xlabel='Date'>"
      ]
     },
     "execution_count": 39,
     "metadata": {},
     "output_type": "execute_result"
    },
    {
     "data": {
      "image/png": "[encoded data removed]",
      "text/plain": [
       "<Figure size 864x360 with 1 Axes>"
      ]
     },
     "metadata": {
      "needs_background": "light"
     },
     "output_type": "display_data"
    }
   ],
   "source": [
    "df_tesla[['Open','Open: 30 days rolling']].plot(figsize=(12,5))"
   ]
  },
  {
   "cell_type": "markdown",
   "id": "a238353a",
   "metadata": {},
   "source": [
    "## Assignment\n",
    "1. Read the Microsoft data using Pandas Data Reader\n",
    "2. Get the maximum price of the share from 2017 to 2022\n",
    "3. Which is the date of the highest price of the stock?\n",
    "4. Which is the date of the lowest price of the stock?"
   ]
  },
  {
   "cell_type": "code",
   "execution_count": 40,
   "id": "bce505ff",
   "metadata": {},
   "outputs": [],
   "source": [
    "# Read the Microsoft data using Pandas Data Reader\n",
    "df_msft=pdr.get_data_yahoo('MSFT')"
   ]
  },
  {
   "cell_type": "code",
   "execution_count": 41,
   "id": "7282d703",
   "metadata": {},
   "outputs": [
    {
     "data": {
      "text/html": [
       "<div>\n",
       "<style scoped>\n",
       "    .dataframe tbody tr th:only-of-type {\n",
       "        vertical-align: middle;\n",
       "    }\n",
       "\n",
       "    .dataframe tbody tr th {\n",
       "        vertical-align: top;\n",
       "    }\n",
       "\n",
       "    .dataframe thead th {\n",
       "        text-align: right;\n",
       "    }\n",
       "</style>\n",
       "<table border=\"1\" class=\"dataframe\">\n",
       "  <thead>\n",
       "    <tr style=\"text-align: right;\">\n",
       "      <th></th>\n",
       "      <th>High</th>\n",
       "      <th>Low</th>\n",
       "      <th>Open</th>\n",
       "      <th>Close</th>\n",
       "      <th>Volume</th>\n",
       "      <th>Adj Close</th>\n",
       "    </tr>\n",
       "    <tr>\n",
       "      <th>Date</th>\n",
       "      <th></th>\n",
       "      <th></th>\n",
       "      <th></th>\n",
       "      <th></th>\n",
       "      <th></th>\n",
       "      <th></th>\n",
       "    </tr>\n",
       "  </thead>\n",
       "  <tbody>\n",
       "    <tr>\n",
       "      <th>2017-06-21</th>\n",
       "      <td>70.620003</td>\n",
       "      <td>69.940002</td>\n",
       "      <td>70.209999</td>\n",
       "      <td>70.269997</td>\n",
       "      <td>19891100.0</td>\n",
       "      <td>65.818657</td>\n",
       "    </tr>\n",
       "    <tr>\n",
       "      <th>2017-06-22</th>\n",
       "      <td>70.589996</td>\n",
       "      <td>69.709999</td>\n",
       "      <td>70.540001</td>\n",
       "      <td>70.260002</td>\n",
       "      <td>22965700.0</td>\n",
       "      <td>65.809303</td>\n",
       "    </tr>\n",
       "    <tr>\n",
       "      <th>2017-06-23</th>\n",
       "      <td>71.250000</td>\n",
       "      <td>69.919998</td>\n",
       "      <td>70.089996</td>\n",
       "      <td>71.209999</td>\n",
       "      <td>27617300.0</td>\n",
       "      <td>66.699127</td>\n",
       "    </tr>\n",
       "    <tr>\n",
       "      <th>2017-06-26</th>\n",
       "      <td>71.709999</td>\n",
       "      <td>70.440002</td>\n",
       "      <td>71.400002</td>\n",
       "      <td>70.529999</td>\n",
       "      <td>19607000.0</td>\n",
       "      <td>66.062195</td>\n",
       "    </tr>\n",
       "    <tr>\n",
       "      <th>2017-06-27</th>\n",
       "      <td>70.180000</td>\n",
       "      <td>69.180000</td>\n",
       "      <td>70.110001</td>\n",
       "      <td>69.209999</td>\n",
       "      <td>25215100.0</td>\n",
       "      <td>64.825821</td>\n",
       "    </tr>\n",
       "  </tbody>\n",
       "</table>\n",
       "</div>"
      ],
      "text/plain": [
       "                 High        Low       Open      Close      Volume  Adj Close\n",
       "Date                                                                         \n",
       "2017-06-21  70.620003  69.940002  70.209999  70.269997  19891100.0  65.818657\n",
       "2017-06-22  70.589996  69.709999  70.540001  70.260002  22965700.0  65.809303\n",
       "2017-06-23  71.250000  69.919998  70.089996  71.209999  27617300.0  66.699127\n",
       "2017-06-26  71.709999  70.440002  71.400002  70.529999  19607000.0  66.062195\n",
       "2017-06-27  70.180000  69.180000  70.110001  69.209999  25215100.0  64.825821"
      ]
     },
     "execution_count": 41,
     "metadata": {},
     "output_type": "execute_result"
    }
   ],
   "source": [
    "df_msft.head()"
   ]
  },
  {
   "cell_type": "code",
   "execution_count": 42,
   "id": "18a6b993",
   "metadata": {},
   "outputs": [],
   "source": [
    "df_msft.to_csv('microsoft.csv')"
   ]
  },
  {
   "cell_type": "code",
   "execution_count": 43,
   "id": "f950d301",
   "metadata": {},
   "outputs": [
    {
     "data": {
      "text/plain": [
       "Date\n",
       "2017-12-31     87.500000\n",
       "2018-12-31    116.180000\n",
       "2019-12-31    159.550003\n",
       "2020-12-31    232.860001\n",
       "2021-12-31    349.670013\n",
       "2022-12-31    338.000000\n",
       "Freq: A-DEC, Name: High, dtype: float64"
      ]
     },
     "execution_count": 43,
     "metadata": {},
     "output_type": "execute_result"
    }
   ],
   "source": [
    "# Get the maximum price of the share from 2017 to 2022\n",
    "df_msft['High'].resample(rule='A').max()"
   ]
  },
  {
   "cell_type": "code",
   "execution_count": 44,
   "id": "1a4a570e",
   "metadata": {},
   "outputs": [
    {
     "data": {
      "text/plain": [
       "Date\n",
       "2017-06-21     70.620003\n",
       "2017-06-22     70.589996\n",
       "2017-06-23     71.250000\n",
       "2017-06-24           NaN\n",
       "2017-06-25           NaN\n",
       "                 ...    \n",
       "2022-06-13    249.020004\n",
       "2022-06-14    245.740005\n",
       "2022-06-15    255.300003\n",
       "2022-06-16    247.419998\n",
       "2022-06-17    250.500000\n",
       "Freq: D, Name: High, Length: 1823, dtype: float64"
      ]
     },
     "execution_count": 44,
     "metadata": {},
     "output_type": "execute_result"
    }
   ],
   "source": [
    "# Which is the date of the highest price of the stock?\n",
    "df_msft['High'].resample(rule='D').max()"
   ]
  },
  {
   "cell_type": "code",
   "execution_count": 45,
   "id": "ce7b4c25",
   "metadata": {},
   "outputs": [
    {
     "data": {
      "text/plain": [
       "Date\n",
       "2017-06-21     70.620003\n",
       "2017-06-22     70.589996\n",
       "2017-06-23     71.250000\n",
       "2017-06-24           NaN\n",
       "2017-06-25           NaN\n",
       "                 ...    \n",
       "2022-06-13    249.020004\n",
       "2022-06-14    245.740005\n",
       "2022-06-15    255.300003\n",
       "2022-06-16    247.419998\n",
       "2022-06-17    250.500000\n",
       "Freq: D, Name: High, Length: 1823, dtype: float64"
      ]
     },
     "execution_count": 45,
     "metadata": {},
     "output_type": "execute_result"
    }
   ],
   "source": [
    "# Which is the date of the lowest price of the stock?\n",
    "df_msft['High'].resample(rule='D').min()"
   ]
  },
  {
   "cell_type": "code",
   "execution_count": 46,
   "id": "94a3467a",
   "metadata": {},
   "outputs": [
    {
     "data": {
      "text/plain": [
       "<AxesSubplot:xlabel='Date'>"
      ]
     },
     "execution_count": 46,
     "metadata": {},
     "output_type": "execute_result"
    },
    {
     "data": {
      "image/png": "[encoded data removed]",
      "text/plain": [
       "<Figure size 1080x432 with 1 Axes>"
      ]
     },
     "metadata": {
      "needs_background": "light"
     },
     "output_type": "display_data"
    }
   ],
   "source": [
    "# Simple moving average -  To smootheing the graph\n",
    "df_tesla['Open'].plot(figsize=(15,6))\n"
   ]
  },
  {
   "cell_type": "code",
   "execution_count": 47,
   "id": "8586ef23",
   "metadata": {},
   "outputs": [],
   "source": [
    "df_tesla['Open: 10 days rolling']=df_tesla['Open'].rolling(window=10,min_periods=1).mean()\n",
    "df_tesla['Open: 30 days rolling']=df_tesla['Open'].rolling(window=40,min_periods=1).mean()\n",
    "df_tesla['Open: 50 days rolling']=df_tesla['Open'].rolling(window=50,min_periods=1).mean()\n"
   ]
  },
  {
   "cell_type": "code",
   "execution_count": 48,
   "id": "3ca25855",
   "metadata": {},
   "outputs": [
    {
     "data": {
      "text/plain": [
       "<AxesSubplot:xlabel='Date'>"
      ]
     },
     "execution_count": 48,
     "metadata": {},
     "output_type": "execute_result"
    },
    {
     "data": {
      "image/png": "[encoded data removed]",
      "text/plain": [
       "<Figure size 1080x432 with 1 Axes>"
      ]
     },
     "metadata": {
      "needs_background": "light"
     },
     "output_type": "display_data"
    }
   ],
   "source": [
    "df_tesla[['Open','Open: 10 days rolling','Open: 30 days rolling','Open: 50 days rolling']].plot(xlim=['2020-01-01','2021-01-01'],figsize=(15,6))"
   ]
  },
  {
   "cell_type": "code",
   "execution_count": 49,
   "id": "37ca569e",
   "metadata": {},
   "outputs": [
    {
     "data": {
      "text/plain": [
       "Date\n",
       "2017-06-21     74.870003\n",
       "2017-06-22     75.234001\n",
       "2017-06-23     75.652667\n",
       "2017-06-26     76.073999\n",
       "2017-06-27     75.915199\n",
       "                 ...    \n",
       "2022-06-13    326.427184\n",
       "2022-06-14    326.688883\n",
       "2022-06-15    326.956448\n",
       "2022-06-16    327.227930\n",
       "2022-06-17    327.476795\n",
       "Name: Open, Length: 1258, dtype: float64"
      ]
     },
     "execution_count": 49,
     "metadata": {},
     "output_type": "execute_result"
    }
   ],
   "source": [
    "## Expanding-- Cumulative Moving average\n",
    "df_tesla['Open'].expanding().mean()"
   ]
  },
  {
   "cell_type": "code",
   "execution_count": 50,
   "id": "a2cc6f9e",
   "metadata": {},
   "outputs": [
    {
     "data": {
      "text/plain": [
       "<AxesSubplot:xlabel='Date'>"
      ]
     },
     "execution_count": 50,
     "metadata": {},
     "output_type": "execute_result"
    },
    {
     "data": {
      "image/png": "[encoded data removed]",
      "text/plain": [
       "<Figure size 720x360 with 1 Axes>"
      ]
     },
     "metadata": {
      "needs_background": "light"
     },
     "output_type": "display_data"
    }
   ],
   "source": [
    "df_tesla['Open'].expanding().mean().plot(figsize=(10,5))"
   ]
  },
  {
   "cell_type": "code",
   "execution_count": 51,
   "id": "0f12ff6d",
   "metadata": {},
   "outputs": [
    {
     "data": {
      "text/plain": [
       "Date\n",
       "2017-06-21    75.398003\n",
       "2017-06-22    75.558202\n",
       "2017-06-23    75.742182\n",
       "2017-06-26    75.906964\n",
       "2017-06-27    75.844268\n",
       "2017-06-28    75.694641\n",
       "2017-06-29    75.545176\n",
       "2017-06-30    75.326058\n",
       "2017-07-03    75.220452\n",
       "2017-07-05    74.643207\n",
       "2017-07-06    73.594686\n",
       "2017-07-07    72.575217\n",
       "2017-07-10    71.676496\n",
       "2017-07-11    71.054446\n",
       "2017-07-12    70.611002\n",
       "2017-07-13    70.181902\n",
       "2017-07-14    69.732111\n",
       "2017-07-17    69.300900\n",
       "2017-07-18    68.953410\n",
       "2017-07-19    68.691069\n",
       "Name: High, dtype: float64"
      ]
     },
     "execution_count": 51,
     "metadata": {},
     "output_type": "execute_result"
    }
   ],
   "source": [
    "df_tesla['High'].ewm(alpha=0.1,adjust=False).mean().head(20)"
   ]
  },
  {
   "cell_type": "code",
   "execution_count": 52,
   "id": "48ae66a7",
   "metadata": {},
   "outputs": [],
   "source": [
    "# EMA - Exponential moving average\n",
    "df_tesla['EMA_0.1']=df_tesla['High'].ewm(alpha=0.1,adjust=False).mean()"
   ]
  },
  {
   "cell_type": "code",
   "execution_count": 53,
   "id": "c37e3703",
   "metadata": {},
   "outputs": [
    {
     "data": {
      "text/plain": [
       "<AxesSubplot:xlabel='Date'>"
      ]
     },
     "execution_count": 53,
     "metadata": {},
     "output_type": "execute_result"
    },
    {
     "data": {
      "image/png": "[encoded data removed]",
      "text/plain": [
       "<Figure size 1080x432 with 1 Axes>"
      ]
     },
     "metadata": {
      "needs_background": "light"
     },
     "output_type": "display_data"
    }
   ],
   "source": [
    "# alpha=0.1\n",
    "df_tesla[['Open','EMA_0.1']].plot(xlim=['2020-01-01','2021-01-01'],figsize=(15,6))"
   ]
  },
  {
   "cell_type": "code",
   "execution_count": 54,
   "id": "287b5054",
   "metadata": {},
   "outputs": [],
   "source": [
    "#alpha=0.3\n",
    "df_tesla['EMA_0.3']=df_tesla['High'].ewm(alpha=0.3,adjust=False).mean()"
   ]
  },
  {
   "cell_type": "code",
   "execution_count": 55,
   "id": "6d302a5f",
   "metadata": {},
   "outputs": [
    {
     "data": {
      "text/plain": [
       "<AxesSubplot:xlabel='Date'>"
      ]
     },
     "execution_count": 55,
     "metadata": {},
     "output_type": "execute_result"
    },
    {
     "data": {
      "image/png": "[encoded data removed]",
      "text/plain": [
       "<Figure size 1080x432 with 1 Axes>"
      ]
     },
     "metadata": {
      "needs_background": "light"
     },
     "output_type": "display_data"
    }
   ],
   "source": [
    "# alpha=0.3- smothening factor\n",
    "df_tesla[['Open','EMA_0.1','EMA_0.3']].plot(xlim=['2020-01-01','2021-01-01'],figsize=(15,6))"
   ]
  },
  {
   "cell_type": "code",
   "execution_count": 56,
   "id": "6231f700",
   "metadata": {},
   "outputs": [],
   "source": [
    "# EWMA- exponential weighted moving average\n",
    "#span = 5days\n",
    "df_tesla['EMA_5days']=df_tesla['Open'].ewm(span=5).mean()"
   ]
  },
  {
   "cell_type": "code",
   "execution_count": 57,
   "id": "aa20b8ea",
   "metadata": {},
   "outputs": [
    {
     "data": {
      "text/plain": [
       "<AxesSubplot:xlabel='Date'>"
      ]
     },
     "execution_count": 57,
     "metadata": {},
     "output_type": "execute_result"
    },
    {
     "data": {
      "image/png": "[encoded data removed]",
      "text/plain": [
       "<Figure size 1080x432 with 1 Axes>"
      ]
     },
     "metadata": {
      "needs_background": "light"
     },
     "output_type": "display_data"
    }
   ],
   "source": [
    "df_tesla[['Open','EMA_0.1','EMA_5days']].plot(xlim=['2020-01-01','2021-01-01'],figsize=(15,6))"
   ]
  },
  {
   "cell_type": "markdown",
   "id": "81942aa0",
   "metadata": {},
   "source": [
    "## Arima"
   ]
  },
  {
   "cell_type": "code",
   "execution_count": 58,
   "id": "9a3438ce",
   "metadata": {},
   "outputs": [],
   "source": [
    "# Import dataset Air Passengers\n",
    "# Import required libraries\n",
    "import numpy as np\n",
    "import matplotlib.pyplot as plt\n",
    "import statsmodels.api as sms\n",
    "import pandas as pd\n",
    "%matplotlib inline"
   ]
  },
  {
   "cell_type": "code",
   "execution_count": 59,
   "id": "9c9e6d1b",
   "metadata": {},
   "outputs": [],
   "source": [
    "df_airline=pd.read_csv(r'C:\\Users\\praty\\Downloads\\Live-Time-Series-main\\Live-Time-Series-main\\airline_passengers.csv')"
   ]
  },
  {
   "cell_type": "code",
   "execution_count": 60,
   "id": "39a1c8ab",
   "metadata": {},
   "outputs": [
    {
     "data": {
      "text/html": [
       "<div>\n",
       "<style scoped>\n",
       "    .dataframe tbody tr th:only-of-type {\n",
       "        vertical-align: middle;\n",
       "    }\n",
       "\n",
       "    .dataframe tbody tr th {\n",
       "        vertical-align: top;\n",
       "    }\n",
       "\n",
       "    .dataframe thead th {\n",
       "        text-align: right;\n",
       "    }\n",
       "</style>\n",
       "<table border=\"1\" class=\"dataframe\">\n",
       "  <thead>\n",
       "    <tr style=\"text-align: right;\">\n",
       "      <th></th>\n",
       "      <th>Month</th>\n",
       "      <th>Thousands of Passengers</th>\n",
       "    </tr>\n",
       "  </thead>\n",
       "  <tbody>\n",
       "    <tr>\n",
       "      <th>0</th>\n",
       "      <td>1949-01</td>\n",
       "      <td>112.0</td>\n",
       "    </tr>\n",
       "    <tr>\n",
       "      <th>1</th>\n",
       "      <td>1949-02</td>\n",
       "      <td>118.0</td>\n",
       "    </tr>\n",
       "    <tr>\n",
       "      <th>2</th>\n",
       "      <td>1949-03</td>\n",
       "      <td>132.0</td>\n",
       "    </tr>\n",
       "    <tr>\n",
       "      <th>3</th>\n",
       "      <td>1949-04</td>\n",
       "      <td>129.0</td>\n",
       "    </tr>\n",
       "    <tr>\n",
       "      <th>4</th>\n",
       "      <td>1949-05</td>\n",
       "      <td>121.0</td>\n",
       "    </tr>\n",
       "  </tbody>\n",
       "</table>\n",
       "</div>"
      ],
      "text/plain": [
       "     Month  Thousands of Passengers\n",
       "0  1949-01                    112.0\n",
       "1  1949-02                    118.0\n",
       "2  1949-03                    132.0\n",
       "3  1949-04                    129.0\n",
       "4  1949-05                    121.0"
      ]
     },
     "execution_count": 60,
     "metadata": {},
     "output_type": "execute_result"
    }
   ],
   "source": [
    "df_airline.head()"
   ]
  },
  {
   "cell_type": "code",
   "execution_count": 61,
   "id": "ceb6598d",
   "metadata": {},
   "outputs": [
    {
     "data": {
      "text/plain": [
       "Month                      0\n",
       "Thousands of Passengers    1\n",
       "dtype: int64"
      ]
     },
     "execution_count": 61,
     "metadata": {},
     "output_type": "execute_result"
    }
   ],
   "source": [
    "# Check Null values\n",
    "df_airline.isnull().sum()"
   ]
  },
  {
   "cell_type": "code",
   "execution_count": 62,
   "id": "fa70757c",
   "metadata": {},
   "outputs": [
    {
     "data": {
      "text/html": [
       "<div>\n",
       "<style scoped>\n",
       "    .dataframe tbody tr th:only-of-type {\n",
       "        vertical-align: middle;\n",
       "    }\n",
       "\n",
       "    .dataframe tbody tr th {\n",
       "        vertical-align: top;\n",
       "    }\n",
       "\n",
       "    .dataframe thead th {\n",
       "        text-align: right;\n",
       "    }\n",
       "</style>\n",
       "<table border=\"1\" class=\"dataframe\">\n",
       "  <thead>\n",
       "    <tr style=\"text-align: right;\">\n",
       "      <th></th>\n",
       "      <th>Month</th>\n",
       "      <th>Thousands of Passengers</th>\n",
       "    </tr>\n",
       "  </thead>\n",
       "  <tbody>\n",
       "    <tr>\n",
       "      <th>140</th>\n",
       "      <td>1960-09</td>\n",
       "      <td>508.0</td>\n",
       "    </tr>\n",
       "    <tr>\n",
       "      <th>141</th>\n",
       "      <td>1960-10</td>\n",
       "      <td>461.0</td>\n",
       "    </tr>\n",
       "    <tr>\n",
       "      <th>142</th>\n",
       "      <td>1960-11</td>\n",
       "      <td>390.0</td>\n",
       "    </tr>\n",
       "    <tr>\n",
       "      <th>143</th>\n",
       "      <td>1960-12</td>\n",
       "      <td>432.0</td>\n",
       "    </tr>\n",
       "    <tr>\n",
       "      <th>144</th>\n",
       "      <td>International airline passengers: monthly tota...</td>\n",
       "      <td>NaN</td>\n",
       "    </tr>\n",
       "  </tbody>\n",
       "</table>\n",
       "</div>"
      ],
      "text/plain": [
       "                                                 Month  \\\n",
       "140                                            1960-09   \n",
       "141                                            1960-10   \n",
       "142                                            1960-11   \n",
       "143                                            1960-12   \n",
       "144  International airline passengers: monthly tota...   \n",
       "\n",
       "     Thousands of Passengers  \n",
       "140                    508.0  \n",
       "141                    461.0  \n",
       "142                    390.0  \n",
       "143                    432.0  \n",
       "144                      NaN  "
      ]
     },
     "execution_count": 62,
     "metadata": {},
     "output_type": "execute_result"
    }
   ],
   "source": [
    "df_airline.tail()"
   ]
  },
  {
   "cell_type": "code",
   "execution_count": 63,
   "id": "c7f89237",
   "metadata": {},
   "outputs": [],
   "source": [
    "# Dropping that row\n",
    "df_airline.dropna(axis=0,inplace=True)"
   ]
  },
  {
   "cell_type": "code",
   "execution_count": 64,
   "id": "3fd5ed71",
   "metadata": {},
   "outputs": [
    {
     "data": {
      "text/plain": [
       "Month                      0\n",
       "Thousands of Passengers    0\n",
       "dtype: int64"
      ]
     },
     "execution_count": 64,
     "metadata": {},
     "output_type": "execute_result"
    }
   ],
   "source": [
    "df_airline.isnull().sum()"
   ]
  },
  {
   "cell_type": "code",
   "execution_count": 65,
   "id": "f07fe08f",
   "metadata": {},
   "outputs": [
    {
     "name": "stdout",
     "output_type": "stream",
     "text": [
      "<class 'pandas.core.frame.DataFrame'>\n",
      "Int64Index: 144 entries, 0 to 143\n",
      "Data columns (total 2 columns):\n",
      " #   Column                   Non-Null Count  Dtype  \n",
      "---  ------                   --------------  -----  \n",
      " 0   Month                    144 non-null    object \n",
      " 1   Thousands of Passengers  144 non-null    float64\n",
      "dtypes: float64(1), object(1)\n",
      "memory usage: 3.4+ KB\n"
     ]
    }
   ],
   "source": [
    "df_airline.info()"
   ]
  },
  {
   "cell_type": "code",
   "execution_count": 66,
   "id": "d64bb555",
   "metadata": {},
   "outputs": [],
   "source": [
    "# Coverting to Datetime \n",
    "df_airline['Month']=pd.to_datetime(df_airline['Month'])"
   ]
  },
  {
   "cell_type": "code",
   "execution_count": 67,
   "id": "67478c5c",
   "metadata": {},
   "outputs": [
    {
     "name": "stdout",
     "output_type": "stream",
     "text": [
      "<class 'pandas.core.frame.DataFrame'>\n",
      "Int64Index: 144 entries, 0 to 143\n",
      "Data columns (total 2 columns):\n",
      " #   Column                   Non-Null Count  Dtype         \n",
      "---  ------                   --------------  -----         \n",
      " 0   Month                    144 non-null    datetime64[ns]\n",
      " 1   Thousands of Passengers  144 non-null    float64       \n",
      "dtypes: datetime64[ns](1), float64(1)\n",
      "memory usage: 3.4 KB\n"
     ]
    }
   ],
   "source": [
    "df_airline.info()"
   ]
  },
  {
   "cell_type": "code",
   "execution_count": 68,
   "id": "c68b23d6",
   "metadata": {},
   "outputs": [
    {
     "data": {
      "text/html": [
       "<div>\n",
       "<style scoped>\n",
       "    .dataframe tbody tr th:only-of-type {\n",
       "        vertical-align: middle;\n",
       "    }\n",
       "\n",
       "    .dataframe tbody tr th {\n",
       "        vertical-align: top;\n",
       "    }\n",
       "\n",
       "    .dataframe thead th {\n",
       "        text-align: right;\n",
       "    }\n",
       "</style>\n",
       "<table border=\"1\" class=\"dataframe\">\n",
       "  <thead>\n",
       "    <tr style=\"text-align: right;\">\n",
       "      <th></th>\n",
       "      <th>Month</th>\n",
       "      <th>Thousands of Passengers</th>\n",
       "    </tr>\n",
       "  </thead>\n",
       "  <tbody>\n",
       "    <tr>\n",
       "      <th>0</th>\n",
       "      <td>1949-01-01</td>\n",
       "      <td>112.0</td>\n",
       "    </tr>\n",
       "    <tr>\n",
       "      <th>1</th>\n",
       "      <td>1949-02-01</td>\n",
       "      <td>118.0</td>\n",
       "    </tr>\n",
       "    <tr>\n",
       "      <th>2</th>\n",
       "      <td>1949-03-01</td>\n",
       "      <td>132.0</td>\n",
       "    </tr>\n",
       "    <tr>\n",
       "      <th>3</th>\n",
       "      <td>1949-04-01</td>\n",
       "      <td>129.0</td>\n",
       "    </tr>\n",
       "    <tr>\n",
       "      <th>4</th>\n",
       "      <td>1949-05-01</td>\n",
       "      <td>121.0</td>\n",
       "    </tr>\n",
       "  </tbody>\n",
       "</table>\n",
       "</div>"
      ],
      "text/plain": [
       "       Month  Thousands of Passengers\n",
       "0 1949-01-01                    112.0\n",
       "1 1949-02-01                    118.0\n",
       "2 1949-03-01                    132.0\n",
       "3 1949-04-01                    129.0\n",
       "4 1949-05-01                    121.0"
      ]
     },
     "execution_count": 68,
     "metadata": {},
     "output_type": "execute_result"
    }
   ],
   "source": [
    "df_airline.head()"
   ]
  },
  {
   "cell_type": "code",
   "execution_count": 69,
   "id": "83aa6084",
   "metadata": {},
   "outputs": [],
   "source": [
    "# Set Month column to index\n",
    "df_airline.set_index('Month',inplace=True)"
   ]
  },
  {
   "cell_type": "code",
   "execution_count": 70,
   "id": "ec52acd5",
   "metadata": {},
   "outputs": [
    {
     "data": {
      "text/html": [
       "<div>\n",
       "<style scoped>\n",
       "    .dataframe tbody tr th:only-of-type {\n",
       "        vertical-align: middle;\n",
       "    }\n",
       "\n",
       "    .dataframe tbody tr th {\n",
       "        vertical-align: top;\n",
       "    }\n",
       "\n",
       "    .dataframe thead th {\n",
       "        text-align: right;\n",
       "    }\n",
       "</style>\n",
       "<table border=\"1\" class=\"dataframe\">\n",
       "  <thead>\n",
       "    <tr style=\"text-align: right;\">\n",
       "      <th></th>\n",
       "      <th>Thousands of Passengers</th>\n",
       "    </tr>\n",
       "    <tr>\n",
       "      <th>Month</th>\n",
       "      <th></th>\n",
       "    </tr>\n",
       "  </thead>\n",
       "  <tbody>\n",
       "    <tr>\n",
       "      <th>1949-01-01</th>\n",
       "      <td>112.0</td>\n",
       "    </tr>\n",
       "    <tr>\n",
       "      <th>1949-02-01</th>\n",
       "      <td>118.0</td>\n",
       "    </tr>\n",
       "    <tr>\n",
       "      <th>1949-03-01</th>\n",
       "      <td>132.0</td>\n",
       "    </tr>\n",
       "    <tr>\n",
       "      <th>1949-04-01</th>\n",
       "      <td>129.0</td>\n",
       "    </tr>\n",
       "    <tr>\n",
       "      <th>1949-05-01</th>\n",
       "      <td>121.0</td>\n",
       "    </tr>\n",
       "  </tbody>\n",
       "</table>\n",
       "</div>"
      ],
      "text/plain": [
       "            Thousands of Passengers\n",
       "Month                              \n",
       "1949-01-01                    112.0\n",
       "1949-02-01                    118.0\n",
       "1949-03-01                    132.0\n",
       "1949-04-01                    129.0\n",
       "1949-05-01                    121.0"
      ]
     },
     "execution_count": 70,
     "metadata": {},
     "output_type": "execute_result"
    }
   ],
   "source": [
    "df_airline.head()"
   ]
  },
  {
   "cell_type": "code",
   "execution_count": 71,
   "id": "69a0b66a",
   "metadata": {},
   "outputs": [
    {
     "data": {
      "text/plain": [
       "<AxesSubplot:xlabel='Month'>"
      ]
     },
     "execution_count": 71,
     "metadata": {},
     "output_type": "execute_result"
    },
    {
     "data": {
      "image/png": "[encoded data removed]",
      "text/plain": [
       "<Figure size 432x288 with 1 Axes>"
      ]
     },
     "metadata": {
      "needs_background": "light"
     },
     "output_type": "display_data"
    }
   ],
   "source": [
    "df_airline.plot()"
   ]
  },
  {
   "cell_type": "markdown",
   "id": "5c3a739c",
   "metadata": {},
   "source": [
    "This above graph is seasonal data, so it not stationary data"
   ]
  },
  {
   "cell_type": "code",
   "execution_count": 72,
   "id": "98e32657",
   "metadata": {},
   "outputs": [],
   "source": [
    "from statsmodels.tsa.stattools import adfuller"
   ]
  },
  {
   "cell_type": "code",
   "execution_count": 73,
   "id": "51260713",
   "metadata": {},
   "outputs": [],
   "source": [
    "def adf_test(series):\n",
    "    result=adfuller(series)\n",
    "    #return result\n",
    "    print('ADF Statistics: {}'.format(result[0]))\n",
    "    print('p- value : {}'.format(result[1]))\n",
    "    if result[1]<=0.05:\n",
    "        print('Strong evidence against the null hypothesis, Reject the null hypothesis. Data has no unit root and it is stationary')\n",
    "    else:\n",
    "        print('Weak evidence against the null hypothesis, Accept the null hypothesis. Time series  has a unit root and indicates it is non stationary')"
   ]
  },
  {
   "cell_type": "code",
   "execution_count": 74,
   "id": "0e269ae6",
   "metadata": {},
   "outputs": [
    {
     "name": "stdout",
     "output_type": "stream",
     "text": [
      "ADF Statistics: 0.8153688792060543\n",
      "p- value : 0.9918802434376411\n",
      "Weak evidence against the null hypothesis, Accept the null hypothesis. Time series  has a unit root and indicates it is non stationary\n"
     ]
    }
   ],
   "source": [
    "adf_test(df_airline['Thousands of Passengers'])"
   ]
  },
  {
   "cell_type": "code",
   "execution_count": 75,
   "id": "a6054919",
   "metadata": {},
   "outputs": [],
   "source": [
    "# To make it stationary using Differencing Technique\n",
    "# Shift is used to shifed 1 position\n",
    "df_airline['Passengers First Difference']=df_airline['Thousands of Passengers']-df_airline['Thousands of Passengers'].shift(1)"
   ]
  },
  {
   "cell_type": "code",
   "execution_count": 76,
   "id": "d11bb7cc",
   "metadata": {},
   "outputs": [
    {
     "data": {
      "text/html": [
       "<div>\n",
       "<style scoped>\n",
       "    .dataframe tbody tr th:only-of-type {\n",
       "        vertical-align: middle;\n",
       "    }\n",
       "\n",
       "    .dataframe tbody tr th {\n",
       "        vertical-align: top;\n",
       "    }\n",
       "\n",
       "    .dataframe thead th {\n",
       "        text-align: right;\n",
       "    }\n",
       "</style>\n",
       "<table border=\"1\" class=\"dataframe\">\n",
       "  <thead>\n",
       "    <tr style=\"text-align: right;\">\n",
       "      <th></th>\n",
       "      <th>Thousands of Passengers</th>\n",
       "      <th>Passengers First Difference</th>\n",
       "    </tr>\n",
       "    <tr>\n",
       "      <th>Month</th>\n",
       "      <th></th>\n",
       "      <th></th>\n",
       "    </tr>\n",
       "  </thead>\n",
       "  <tbody>\n",
       "    <tr>\n",
       "      <th>1949-01-01</th>\n",
       "      <td>112.0</td>\n",
       "      <td>NaN</td>\n",
       "    </tr>\n",
       "    <tr>\n",
       "      <th>1949-02-01</th>\n",
       "      <td>118.0</td>\n",
       "      <td>6.0</td>\n",
       "    </tr>\n",
       "    <tr>\n",
       "      <th>1949-03-01</th>\n",
       "      <td>132.0</td>\n",
       "      <td>14.0</td>\n",
       "    </tr>\n",
       "    <tr>\n",
       "      <th>1949-04-01</th>\n",
       "      <td>129.0</td>\n",
       "      <td>-3.0</td>\n",
       "    </tr>\n",
       "    <tr>\n",
       "      <th>1949-05-01</th>\n",
       "      <td>121.0</td>\n",
       "      <td>-8.0</td>\n",
       "    </tr>\n",
       "  </tbody>\n",
       "</table>\n",
       "</div>"
      ],
      "text/plain": [
       "            Thousands of Passengers  Passengers First Difference\n",
       "Month                                                           \n",
       "1949-01-01                    112.0                          NaN\n",
       "1949-02-01                    118.0                          6.0\n",
       "1949-03-01                    132.0                         14.0\n",
       "1949-04-01                    129.0                         -3.0\n",
       "1949-05-01                    121.0                         -8.0"
      ]
     },
     "execution_count": 76,
     "metadata": {},
     "output_type": "execute_result"
    }
   ],
   "source": [
    "df_airline.head()"
   ]
  },
  {
   "cell_type": "code",
   "execution_count": 77,
   "id": "d497f303",
   "metadata": {},
   "outputs": [
    {
     "name": "stdout",
     "output_type": "stream",
     "text": [
      "ADF Statistics: -2.8292668241700034\n",
      "p- value : 0.054213290283824954\n",
      "Weak evidence against the null hypothesis, Accept the null hypothesis. Time series  has a unit root and indicates it is non stationary\n"
     ]
    }
   ],
   "source": [
    "# Passing the 'Passengers First Difference' value in function 'adf_test'\n",
    "adf_test(df_airline['Passengers First Difference'].dropna())"
   ]
  },
  {
   "cell_type": "code",
   "execution_count": 78,
   "id": "d5756c07",
   "metadata": {},
   "outputs": [],
   "source": [
    "# Again using the Differencing Technique\n",
    "df_airline['Passengers Second Difference']=df_airline['Passengers First Difference']-df_airline['Passengers First Difference'].shift(1)"
   ]
  },
  {
   "cell_type": "code",
   "execution_count": 79,
   "id": "382e96b1",
   "metadata": {},
   "outputs": [
    {
     "name": "stdout",
     "output_type": "stream",
     "text": [
      "ADF Statistics: -16.384231542468488\n",
      "p- value : 2.7328918500143186e-29\n",
      "Strong evidence against the null hypothesis, Reject the null hypothesis. Data has no unit root and it is stationary\n"
     ]
    }
   ],
   "source": [
    "# Passing the 'Passengers First Difference' value in function 'adf_test'\n",
    "adf_test(df_airline['Passengers Second Difference'].dropna())"
   ]
  },
  {
   "cell_type": "markdown",
   "id": "835fcda6",
   "metadata": {},
   "source": [
    "Now the data is converted to stationary data"
   ]
  },
  {
   "cell_type": "code",
   "execution_count": 80,
   "id": "54826911",
   "metadata": {},
   "outputs": [],
   "source": [
    "# since it is a seasonal data we have to for 12 times\n",
    "# 12 months(Doing it for entire year)\n",
    "df_airline['Passengers 12 Difference']=df_airline['Thousands of Passengers']-df_airline['Thousands of Passengers'].shift(12)"
   ]
  },
  {
   "cell_type": "code",
   "execution_count": 81,
   "id": "61e51944",
   "metadata": {},
   "outputs": [
    {
     "name": "stdout",
     "output_type": "stream",
     "text": [
      "ADF Statistics: -3.3830207264924805\n",
      "p- value : 0.011551493085514982\n",
      "Strong evidence against the null hypothesis, Reject the null hypothesis. Data has no unit root and it is stationary\n"
     ]
    }
   ],
   "source": [
    "adf_test(df_airline['Passengers 12 Difference'].dropna())"
   ]
  },
  {
   "cell_type": "code",
   "execution_count": 124,
   "id": "22900f49",
   "metadata": {},
   "outputs": [],
   "source": [
    "from statsmodels.graphics.tsaplots import plot_acf,plot_pacf"
   ]
  },
  {
   "cell_type": "code",
   "execution_count": 125,
   "id": "5f3f4097",
   "metadata": {},
   "outputs": [
    {
     "data": {
      "image/png": "[encoded data removed]",
      "text/plain": [
       "<Figure size 432x288 with 1 Axes>"
      ]
     },
     "metadata": {
      "needs_background": "light"
     },
     "output_type": "display_data"
    }
   ],
   "source": [
    "acf=plot_acf(df_airline['Passengers Second Difference'].dropna())"
   ]
  },
  {
   "cell_type": "code",
   "execution_count": 126,
   "id": "28433d48",
   "metadata": {},
   "outputs": [
    {
     "data": {
      "image/png": "[encoded data removed]",
      "text/plain": [
       "<Figure size 432x288 with 1 Axes>"
      ]
     },
     "metadata": {
      "needs_background": "light"
     },
     "output_type": "display_data"
    }
   ],
   "source": [
    "acf12=plot_acf(df_airline['Passengers 12 Difference'].dropna())"
   ]
  },
  {
   "cell_type": "markdown",
   "id": "0ec462ef",
   "metadata": {},
   "source": [
    "Using ACF we are performing Moving Average and we find the q value"
   ]
  },
  {
   "cell_type": "code",
   "execution_count": 127,
   "id": "781b1f65",
   "metadata": {},
   "outputs": [
    {
     "name": "stderr",
     "output_type": "stream",
     "text": [
      "C:\\Users\\praty\\anaconda3\\lib\\site-packages\\statsmodels\\regression\\linear_model.py:1434: RuntimeWarning: invalid value encountered in sqrt\n",
      "  return rho, np.sqrt(sigmasq)\n"
     ]
    },
    {
     "data": {
      "image/png": "[encoded data removed]",
      "text/plain": [
       "<Figure size 432x288 with 1 Axes>"
      ]
     },
     "metadata": {
      "needs_background": "light"
     },
     "output_type": "display_data"
    }
   ],
   "source": [
    "result=plot_pacf(df_airline['Passengers Second Difference'].dropna())"
   ]
  },
  {
   "cell_type": "code",
   "execution_count": 128,
   "id": "bf664e7d",
   "metadata": {},
   "outputs": [
    {
     "data": {
      "image/png": "[encoded data removed]",
      "text/plain": [
       "<Figure size 432x288 with 1 Axes>"
      ]
     },
     "metadata": {
      "needs_background": "light"
     },
     "output_type": "display_data"
    }
   ],
   "source": [
    "pacf12=plot_pacf(df_airline['Passengers 12 Difference'].dropna())"
   ]
  },
  {
   "cell_type": "markdown",
   "id": "222d96cd",
   "metadata": {},
   "source": [
    "Using PACF we are performing auto regressing, and found the P value"
   ]
  },
  {
   "cell_type": "code",
   "execution_count": 129,
   "id": "1d0847fb",
   "metadata": {},
   "outputs": [
    {
     "data": {
      "text/html": [
       "<div>\n",
       "<style scoped>\n",
       "    .dataframe tbody tr th:only-of-type {\n",
       "        vertical-align: middle;\n",
       "    }\n",
       "\n",
       "    .dataframe tbody tr th {\n",
       "        vertical-align: top;\n",
       "    }\n",
       "\n",
       "    .dataframe thead th {\n",
       "        text-align: right;\n",
       "    }\n",
       "</style>\n",
       "<table border=\"1\" class=\"dataframe\">\n",
       "  <thead>\n",
       "    <tr style=\"text-align: right;\">\n",
       "      <th></th>\n",
       "      <th>Thousands of Passengers</th>\n",
       "      <th>Passengers First Difference</th>\n",
       "      <th>Passengers Second Difference</th>\n",
       "      <th>Passengers 12 Difference</th>\n",
       "    </tr>\n",
       "    <tr>\n",
       "      <th>Month</th>\n",
       "      <th></th>\n",
       "      <th></th>\n",
       "      <th></th>\n",
       "      <th></th>\n",
       "    </tr>\n",
       "  </thead>\n",
       "  <tbody>\n",
       "    <tr>\n",
       "      <th>1949-01-01</th>\n",
       "      <td>112.0</td>\n",
       "      <td>NaN</td>\n",
       "      <td>NaN</td>\n",
       "      <td>NaN</td>\n",
       "    </tr>\n",
       "    <tr>\n",
       "      <th>1949-02-01</th>\n",
       "      <td>118.0</td>\n",
       "      <td>6.0</td>\n",
       "      <td>NaN</td>\n",
       "      <td>NaN</td>\n",
       "    </tr>\n",
       "    <tr>\n",
       "      <th>1949-03-01</th>\n",
       "      <td>132.0</td>\n",
       "      <td>14.0</td>\n",
       "      <td>8.0</td>\n",
       "      <td>NaN</td>\n",
       "    </tr>\n",
       "    <tr>\n",
       "      <th>1949-04-01</th>\n",
       "      <td>129.0</td>\n",
       "      <td>-3.0</td>\n",
       "      <td>-17.0</td>\n",
       "      <td>NaN</td>\n",
       "    </tr>\n",
       "    <tr>\n",
       "      <th>1949-05-01</th>\n",
       "      <td>121.0</td>\n",
       "      <td>-8.0</td>\n",
       "      <td>-5.0</td>\n",
       "      <td>NaN</td>\n",
       "    </tr>\n",
       "    <tr>\n",
       "      <th>...</th>\n",
       "      <td>...</td>\n",
       "      <td>...</td>\n",
       "      <td>...</td>\n",
       "      <td>...</td>\n",
       "    </tr>\n",
       "    <tr>\n",
       "      <th>1960-08-01</th>\n",
       "      <td>606.0</td>\n",
       "      <td>-16.0</td>\n",
       "      <td>-103.0</td>\n",
       "      <td>47.0</td>\n",
       "    </tr>\n",
       "    <tr>\n",
       "      <th>1960-09-01</th>\n",
       "      <td>508.0</td>\n",
       "      <td>-98.0</td>\n",
       "      <td>-82.0</td>\n",
       "      <td>45.0</td>\n",
       "    </tr>\n",
       "    <tr>\n",
       "      <th>1960-10-01</th>\n",
       "      <td>461.0</td>\n",
       "      <td>-47.0</td>\n",
       "      <td>51.0</td>\n",
       "      <td>54.0</td>\n",
       "    </tr>\n",
       "    <tr>\n",
       "      <th>1960-11-01</th>\n",
       "      <td>390.0</td>\n",
       "      <td>-71.0</td>\n",
       "      <td>-24.0</td>\n",
       "      <td>28.0</td>\n",
       "    </tr>\n",
       "    <tr>\n",
       "      <th>1960-12-01</th>\n",
       "      <td>432.0</td>\n",
       "      <td>42.0</td>\n",
       "      <td>113.0</td>\n",
       "      <td>27.0</td>\n",
       "    </tr>\n",
       "  </tbody>\n",
       "</table>\n",
       "<p>144 rows × 4 columns</p>\n",
       "</div>"
      ],
      "text/plain": [
       "            Thousands of Passengers  Passengers First Difference  \\\n",
       "Month                                                              \n",
       "1949-01-01                    112.0                          NaN   \n",
       "1949-02-01                    118.0                          6.0   \n",
       "1949-03-01                    132.0                         14.0   \n",
       "1949-04-01                    129.0                         -3.0   \n",
       "1949-05-01                    121.0                         -8.0   \n",
       "...                             ...                          ...   \n",
       "1960-08-01                    606.0                        -16.0   \n",
       "1960-09-01                    508.0                        -98.0   \n",
       "1960-10-01                    461.0                        -47.0   \n",
       "1960-11-01                    390.0                        -71.0   \n",
       "1960-12-01                    432.0                         42.0   \n",
       "\n",
       "            Passengers Second Difference  Passengers 12 Difference  \n",
       "Month                                                               \n",
       "1949-01-01                           NaN                       NaN  \n",
       "1949-02-01                           NaN                       NaN  \n",
       "1949-03-01                           8.0                       NaN  \n",
       "1949-04-01                         -17.0                       NaN  \n",
       "1949-05-01                          -5.0                       NaN  \n",
       "...                                  ...                       ...  \n",
       "1960-08-01                        -103.0                      47.0  \n",
       "1960-09-01                         -82.0                      45.0  \n",
       "1960-10-01                          51.0                      54.0  \n",
       "1960-11-01                         -24.0                      28.0  \n",
       "1960-12-01                         113.0                      27.0  \n",
       "\n",
       "[144 rows x 4 columns]"
      ]
     },
     "execution_count": 129,
     "metadata": {},
     "output_type": "execute_result"
    }
   ],
   "source": [
    "# Split train and test data\n",
    "df_airline"
   ]
  },
  {
   "cell_type": "code",
   "execution_count": 130,
   "id": "bfc1a0ae",
   "metadata": {},
   "outputs": [],
   "source": [
    "# Taking data from one time period to another time period\n",
    "from datetime import datetime,timedelta\n",
    "train_dataset_end=datetime(1955,12,1)\n",
    "test_dataset_end=datetime(1960,12,1)"
   ]
  },
  {
   "cell_type": "code",
   "execution_count": 131,
   "id": "e6b654e6",
   "metadata": {},
   "outputs": [],
   "source": [
    "train_data=df_airline[:train_dataset_end]\n",
    "test_data=df_airline[train_dataset_end+timedelta(days=1):test_dataset_end]"
   ]
  },
  {
   "cell_type": "code",
   "execution_count": 132,
   "id": "0b680e1d",
   "metadata": {},
   "outputs": [],
   "source": [
    "# prediction\n",
    "pred_start_date=test_data.index[0]"
   ]
  },
  {
   "cell_type": "code",
   "execution_count": 134,
   "id": "6c078ffa",
   "metadata": {},
   "outputs": [
    {
     "data": {
      "text/plain": [
       "Timestamp('1956-01-01 00:00:00')"
      ]
     },
     "execution_count": 134,
     "metadata": {},
     "output_type": "execute_result"
    }
   ],
   "source": [
    "pred_start_date"
   ]
  },
  {
   "cell_type": "code",
   "execution_count": 135,
   "id": "752d1eee",
   "metadata": {},
   "outputs": [],
   "source": [
    "pred_end_date=test_data.index[-1]"
   ]
  },
  {
   "cell_type": "code",
   "execution_count": 136,
   "id": "deedb11e",
   "metadata": {},
   "outputs": [
    {
     "data": {
      "text/plain": [
       "Timestamp('1960-12-01 00:00:00')"
      ]
     },
     "execution_count": 136,
     "metadata": {},
     "output_type": "execute_result"
    }
   ],
   "source": [
    "pred_end_date"
   ]
  },
  {
   "cell_type": "code",
   "execution_count": 137,
   "id": "26677d73",
   "metadata": {},
   "outputs": [
    {
     "data": {
      "text/html": [
       "<div>\n",
       "<style scoped>\n",
       "    .dataframe tbody tr th:only-of-type {\n",
       "        vertical-align: middle;\n",
       "    }\n",
       "\n",
       "    .dataframe tbody tr th {\n",
       "        vertical-align: top;\n",
       "    }\n",
       "\n",
       "    .dataframe thead th {\n",
       "        text-align: right;\n",
       "    }\n",
       "</style>\n",
       "<table border=\"1\" class=\"dataframe\">\n",
       "  <thead>\n",
       "    <tr style=\"text-align: right;\">\n",
       "      <th></th>\n",
       "      <th>Thousands of Passengers</th>\n",
       "      <th>Passengers First Difference</th>\n",
       "      <th>Passengers Second Difference</th>\n",
       "      <th>Passengers 12 Difference</th>\n",
       "    </tr>\n",
       "    <tr>\n",
       "      <th>Month</th>\n",
       "      <th></th>\n",
       "      <th></th>\n",
       "      <th></th>\n",
       "      <th></th>\n",
       "    </tr>\n",
       "  </thead>\n",
       "  <tbody>\n",
       "    <tr>\n",
       "      <th>1956-01-01</th>\n",
       "      <td>284.0</td>\n",
       "      <td>6.0</td>\n",
       "      <td>-35.0</td>\n",
       "      <td>42.0</td>\n",
       "    </tr>\n",
       "    <tr>\n",
       "      <th>1956-02-01</th>\n",
       "      <td>277.0</td>\n",
       "      <td>-7.0</td>\n",
       "      <td>-13.0</td>\n",
       "      <td>44.0</td>\n",
       "    </tr>\n",
       "    <tr>\n",
       "      <th>1956-03-01</th>\n",
       "      <td>317.0</td>\n",
       "      <td>40.0</td>\n",
       "      <td>47.0</td>\n",
       "      <td>50.0</td>\n",
       "    </tr>\n",
       "    <tr>\n",
       "      <th>1956-04-01</th>\n",
       "      <td>313.0</td>\n",
       "      <td>-4.0</td>\n",
       "      <td>-44.0</td>\n",
       "      <td>44.0</td>\n",
       "    </tr>\n",
       "    <tr>\n",
       "      <th>1956-05-01</th>\n",
       "      <td>318.0</td>\n",
       "      <td>5.0</td>\n",
       "      <td>9.0</td>\n",
       "      <td>48.0</td>\n",
       "    </tr>\n",
       "    <tr>\n",
       "      <th>1956-06-01</th>\n",
       "      <td>374.0</td>\n",
       "      <td>56.0</td>\n",
       "      <td>51.0</td>\n",
       "      <td>59.0</td>\n",
       "    </tr>\n",
       "    <tr>\n",
       "      <th>1956-07-01</th>\n",
       "      <td>413.0</td>\n",
       "      <td>39.0</td>\n",
       "      <td>-17.0</td>\n",
       "      <td>49.0</td>\n",
       "    </tr>\n",
       "    <tr>\n",
       "      <th>1956-08-01</th>\n",
       "      <td>405.0</td>\n",
       "      <td>-8.0</td>\n",
       "      <td>-47.0</td>\n",
       "      <td>58.0</td>\n",
       "    </tr>\n",
       "    <tr>\n",
       "      <th>1956-09-01</th>\n",
       "      <td>355.0</td>\n",
       "      <td>-50.0</td>\n",
       "      <td>-42.0</td>\n",
       "      <td>43.0</td>\n",
       "    </tr>\n",
       "    <tr>\n",
       "      <th>1956-10-01</th>\n",
       "      <td>306.0</td>\n",
       "      <td>-49.0</td>\n",
       "      <td>1.0</td>\n",
       "      <td>32.0</td>\n",
       "    </tr>\n",
       "    <tr>\n",
       "      <th>1956-11-01</th>\n",
       "      <td>271.0</td>\n",
       "      <td>-35.0</td>\n",
       "      <td>14.0</td>\n",
       "      <td>34.0</td>\n",
       "    </tr>\n",
       "    <tr>\n",
       "      <th>1956-12-01</th>\n",
       "      <td>306.0</td>\n",
       "      <td>35.0</td>\n",
       "      <td>70.0</td>\n",
       "      <td>28.0</td>\n",
       "    </tr>\n",
       "    <tr>\n",
       "      <th>1957-01-01</th>\n",
       "      <td>315.0</td>\n",
       "      <td>9.0</td>\n",
       "      <td>-26.0</td>\n",
       "      <td>31.0</td>\n",
       "    </tr>\n",
       "    <tr>\n",
       "      <th>1957-02-01</th>\n",
       "      <td>301.0</td>\n",
       "      <td>-14.0</td>\n",
       "      <td>-23.0</td>\n",
       "      <td>24.0</td>\n",
       "    </tr>\n",
       "    <tr>\n",
       "      <th>1957-03-01</th>\n",
       "      <td>356.0</td>\n",
       "      <td>55.0</td>\n",
       "      <td>69.0</td>\n",
       "      <td>39.0</td>\n",
       "    </tr>\n",
       "    <tr>\n",
       "      <th>1957-04-01</th>\n",
       "      <td>348.0</td>\n",
       "      <td>-8.0</td>\n",
       "      <td>-63.0</td>\n",
       "      <td>35.0</td>\n",
       "    </tr>\n",
       "    <tr>\n",
       "      <th>1957-05-01</th>\n",
       "      <td>355.0</td>\n",
       "      <td>7.0</td>\n",
       "      <td>15.0</td>\n",
       "      <td>37.0</td>\n",
       "    </tr>\n",
       "    <tr>\n",
       "      <th>1957-06-01</th>\n",
       "      <td>422.0</td>\n",
       "      <td>67.0</td>\n",
       "      <td>60.0</td>\n",
       "      <td>48.0</td>\n",
       "    </tr>\n",
       "    <tr>\n",
       "      <th>1957-07-01</th>\n",
       "      <td>465.0</td>\n",
       "      <td>43.0</td>\n",
       "      <td>-24.0</td>\n",
       "      <td>52.0</td>\n",
       "    </tr>\n",
       "    <tr>\n",
       "      <th>1957-08-01</th>\n",
       "      <td>467.0</td>\n",
       "      <td>2.0</td>\n",
       "      <td>-41.0</td>\n",
       "      <td>62.0</td>\n",
       "    </tr>\n",
       "    <tr>\n",
       "      <th>1957-09-01</th>\n",
       "      <td>404.0</td>\n",
       "      <td>-63.0</td>\n",
       "      <td>-65.0</td>\n",
       "      <td>49.0</td>\n",
       "    </tr>\n",
       "    <tr>\n",
       "      <th>1957-10-01</th>\n",
       "      <td>347.0</td>\n",
       "      <td>-57.0</td>\n",
       "      <td>6.0</td>\n",
       "      <td>41.0</td>\n",
       "    </tr>\n",
       "    <tr>\n",
       "      <th>1957-11-01</th>\n",
       "      <td>305.0</td>\n",
       "      <td>-42.0</td>\n",
       "      <td>15.0</td>\n",
       "      <td>34.0</td>\n",
       "    </tr>\n",
       "    <tr>\n",
       "      <th>1957-12-01</th>\n",
       "      <td>336.0</td>\n",
       "      <td>31.0</td>\n",
       "      <td>73.0</td>\n",
       "      <td>30.0</td>\n",
       "    </tr>\n",
       "    <tr>\n",
       "      <th>1958-01-01</th>\n",
       "      <td>340.0</td>\n",
       "      <td>4.0</td>\n",
       "      <td>-27.0</td>\n",
       "      <td>25.0</td>\n",
       "    </tr>\n",
       "    <tr>\n",
       "      <th>1958-02-01</th>\n",
       "      <td>318.0</td>\n",
       "      <td>-22.0</td>\n",
       "      <td>-26.0</td>\n",
       "      <td>17.0</td>\n",
       "    </tr>\n",
       "    <tr>\n",
       "      <th>1958-03-01</th>\n",
       "      <td>362.0</td>\n",
       "      <td>44.0</td>\n",
       "      <td>66.0</td>\n",
       "      <td>6.0</td>\n",
       "    </tr>\n",
       "    <tr>\n",
       "      <th>1958-04-01</th>\n",
       "      <td>348.0</td>\n",
       "      <td>-14.0</td>\n",
       "      <td>-58.0</td>\n",
       "      <td>0.0</td>\n",
       "    </tr>\n",
       "    <tr>\n",
       "      <th>1958-05-01</th>\n",
       "      <td>363.0</td>\n",
       "      <td>15.0</td>\n",
       "      <td>29.0</td>\n",
       "      <td>8.0</td>\n",
       "    </tr>\n",
       "    <tr>\n",
       "      <th>1958-06-01</th>\n",
       "      <td>435.0</td>\n",
       "      <td>72.0</td>\n",
       "      <td>57.0</td>\n",
       "      <td>13.0</td>\n",
       "    </tr>\n",
       "    <tr>\n",
       "      <th>1958-07-01</th>\n",
       "      <td>491.0</td>\n",
       "      <td>56.0</td>\n",
       "      <td>-16.0</td>\n",
       "      <td>26.0</td>\n",
       "    </tr>\n",
       "    <tr>\n",
       "      <th>1958-08-01</th>\n",
       "      <td>505.0</td>\n",
       "      <td>14.0</td>\n",
       "      <td>-42.0</td>\n",
       "      <td>38.0</td>\n",
       "    </tr>\n",
       "    <tr>\n",
       "      <th>1958-09-01</th>\n",
       "      <td>404.0</td>\n",
       "      <td>-101.0</td>\n",
       "      <td>-115.0</td>\n",
       "      <td>0.0</td>\n",
       "    </tr>\n",
       "    <tr>\n",
       "      <th>1958-10-01</th>\n",
       "      <td>359.0</td>\n",
       "      <td>-45.0</td>\n",
       "      <td>56.0</td>\n",
       "      <td>12.0</td>\n",
       "    </tr>\n",
       "    <tr>\n",
       "      <th>1958-11-01</th>\n",
       "      <td>310.0</td>\n",
       "      <td>-49.0</td>\n",
       "      <td>-4.0</td>\n",
       "      <td>5.0</td>\n",
       "    </tr>\n",
       "    <tr>\n",
       "      <th>1958-12-01</th>\n",
       "      <td>337.0</td>\n",
       "      <td>27.0</td>\n",
       "      <td>76.0</td>\n",
       "      <td>1.0</td>\n",
       "    </tr>\n",
       "    <tr>\n",
       "      <th>1959-01-01</th>\n",
       "      <td>360.0</td>\n",
       "      <td>23.0</td>\n",
       "      <td>-4.0</td>\n",
       "      <td>20.0</td>\n",
       "    </tr>\n",
       "    <tr>\n",
       "      <th>1959-02-01</th>\n",
       "      <td>342.0</td>\n",
       "      <td>-18.0</td>\n",
       "      <td>-41.0</td>\n",
       "      <td>24.0</td>\n",
       "    </tr>\n",
       "    <tr>\n",
       "      <th>1959-03-01</th>\n",
       "      <td>406.0</td>\n",
       "      <td>64.0</td>\n",
       "      <td>82.0</td>\n",
       "      <td>44.0</td>\n",
       "    </tr>\n",
       "    <tr>\n",
       "      <th>1959-04-01</th>\n",
       "      <td>396.0</td>\n",
       "      <td>-10.0</td>\n",
       "      <td>-74.0</td>\n",
       "      <td>48.0</td>\n",
       "    </tr>\n",
       "    <tr>\n",
       "      <th>1959-05-01</th>\n",
       "      <td>420.0</td>\n",
       "      <td>24.0</td>\n",
       "      <td>34.0</td>\n",
       "      <td>57.0</td>\n",
       "    </tr>\n",
       "    <tr>\n",
       "      <th>1959-06-01</th>\n",
       "      <td>472.0</td>\n",
       "      <td>52.0</td>\n",
       "      <td>28.0</td>\n",
       "      <td>37.0</td>\n",
       "    </tr>\n",
       "    <tr>\n",
       "      <th>1959-07-01</th>\n",
       "      <td>548.0</td>\n",
       "      <td>76.0</td>\n",
       "      <td>24.0</td>\n",
       "      <td>57.0</td>\n",
       "    </tr>\n",
       "    <tr>\n",
       "      <th>1959-08-01</th>\n",
       "      <td>559.0</td>\n",
       "      <td>11.0</td>\n",
       "      <td>-65.0</td>\n",
       "      <td>54.0</td>\n",
       "    </tr>\n",
       "    <tr>\n",
       "      <th>1959-09-01</th>\n",
       "      <td>463.0</td>\n",
       "      <td>-96.0</td>\n",
       "      <td>-107.0</td>\n",
       "      <td>59.0</td>\n",
       "    </tr>\n",
       "    <tr>\n",
       "      <th>1959-10-01</th>\n",
       "      <td>407.0</td>\n",
       "      <td>-56.0</td>\n",
       "      <td>40.0</td>\n",
       "      <td>48.0</td>\n",
       "    </tr>\n",
       "    <tr>\n",
       "      <th>1959-11-01</th>\n",
       "      <td>362.0</td>\n",
       "      <td>-45.0</td>\n",
       "      <td>11.0</td>\n",
       "      <td>52.0</td>\n",
       "    </tr>\n",
       "    <tr>\n",
       "      <th>1959-12-01</th>\n",
       "      <td>405.0</td>\n",
       "      <td>43.0</td>\n",
       "      <td>88.0</td>\n",
       "      <td>68.0</td>\n",
       "    </tr>\n",
       "    <tr>\n",
       "      <th>1960-01-01</th>\n",
       "      <td>417.0</td>\n",
       "      <td>12.0</td>\n",
       "      <td>-31.0</td>\n",
       "      <td>57.0</td>\n",
       "    </tr>\n",
       "    <tr>\n",
       "      <th>1960-02-01</th>\n",
       "      <td>391.0</td>\n",
       "      <td>-26.0</td>\n",
       "      <td>-38.0</td>\n",
       "      <td>49.0</td>\n",
       "    </tr>\n",
       "    <tr>\n",
       "      <th>1960-03-01</th>\n",
       "      <td>419.0</td>\n",
       "      <td>28.0</td>\n",
       "      <td>54.0</td>\n",
       "      <td>13.0</td>\n",
       "    </tr>\n",
       "    <tr>\n",
       "      <th>1960-04-01</th>\n",
       "      <td>461.0</td>\n",
       "      <td>42.0</td>\n",
       "      <td>14.0</td>\n",
       "      <td>65.0</td>\n",
       "    </tr>\n",
       "    <tr>\n",
       "      <th>1960-05-01</th>\n",
       "      <td>472.0</td>\n",
       "      <td>11.0</td>\n",
       "      <td>-31.0</td>\n",
       "      <td>52.0</td>\n",
       "    </tr>\n",
       "    <tr>\n",
       "      <th>1960-06-01</th>\n",
       "      <td>535.0</td>\n",
       "      <td>63.0</td>\n",
       "      <td>52.0</td>\n",
       "      <td>63.0</td>\n",
       "    </tr>\n",
       "    <tr>\n",
       "      <th>1960-07-01</th>\n",
       "      <td>622.0</td>\n",
       "      <td>87.0</td>\n",
       "      <td>24.0</td>\n",
       "      <td>74.0</td>\n",
       "    </tr>\n",
       "    <tr>\n",
       "      <th>1960-08-01</th>\n",
       "      <td>606.0</td>\n",
       "      <td>-16.0</td>\n",
       "      <td>-103.0</td>\n",
       "      <td>47.0</td>\n",
       "    </tr>\n",
       "    <tr>\n",
       "      <th>1960-09-01</th>\n",
       "      <td>508.0</td>\n",
       "      <td>-98.0</td>\n",
       "      <td>-82.0</td>\n",
       "      <td>45.0</td>\n",
       "    </tr>\n",
       "    <tr>\n",
       "      <th>1960-10-01</th>\n",
       "      <td>461.0</td>\n",
       "      <td>-47.0</td>\n",
       "      <td>51.0</td>\n",
       "      <td>54.0</td>\n",
       "    </tr>\n",
       "    <tr>\n",
       "      <th>1960-11-01</th>\n",
       "      <td>390.0</td>\n",
       "      <td>-71.0</td>\n",
       "      <td>-24.0</td>\n",
       "      <td>28.0</td>\n",
       "    </tr>\n",
       "    <tr>\n",
       "      <th>1960-12-01</th>\n",
       "      <td>432.0</td>\n",
       "      <td>42.0</td>\n",
       "      <td>113.0</td>\n",
       "      <td>27.0</td>\n",
       "    </tr>\n",
       "  </tbody>\n",
       "</table>\n",
       "</div>"
      ],
      "text/plain": [
       "            Thousands of Passengers  Passengers First Difference  \\\n",
       "Month                                                              \n",
       "1956-01-01                    284.0                          6.0   \n",
       "1956-02-01                    277.0                         -7.0   \n",
       "1956-03-01                    317.0                         40.0   \n",
       "1956-04-01                    313.0                         -4.0   \n",
       "1956-05-01                    318.0                          5.0   \n",
       "1956-06-01                    374.0                         56.0   \n",
       "1956-07-01                    413.0                         39.0   \n",
       "1956-08-01                    405.0                         -8.0   \n",
       "1956-09-01                    355.0                        -50.0   \n",
       "1956-10-01                    306.0                        -49.0   \n",
       "1956-11-01                    271.0                        -35.0   \n",
       "1956-12-01                    306.0                         35.0   \n",
       "1957-01-01                    315.0                          9.0   \n",
       "1957-02-01                    301.0                        -14.0   \n",
       "1957-03-01                    356.0                         55.0   \n",
       "1957-04-01                    348.0                         -8.0   \n",
       "1957-05-01                    355.0                          7.0   \n",
       "1957-06-01                    422.0                         67.0   \n",
       "1957-07-01                    465.0                         43.0   \n",
       "1957-08-01                    467.0                          2.0   \n",
       "1957-09-01                    404.0                        -63.0   \n",
       "1957-10-01                    347.0                        -57.0   \n",
       "1957-11-01                    305.0                        -42.0   \n",
       "1957-12-01                    336.0                         31.0   \n",
       "1958-01-01                    340.0                          4.0   \n",
       "1958-02-01                    318.0                        -22.0   \n",
       "1958-03-01                    362.0                         44.0   \n",
       "1958-04-01                    348.0                        -14.0   \n",
       "1958-05-01                    363.0                         15.0   \n",
       "1958-06-01                    435.0                         72.0   \n",
       "1958-07-01                    491.0                         56.0   \n",
       "1958-08-01                    505.0                         14.0   \n",
       "1958-09-01                    404.0                       -101.0   \n",
       "1958-10-01                    359.0                        -45.0   \n",
       "1958-11-01                    310.0                        -49.0   \n",
       "1958-12-01                    337.0                         27.0   \n",
       "1959-01-01                    360.0                         23.0   \n",
       "1959-02-01                    342.0                        -18.0   \n",
       "1959-03-01                    406.0                         64.0   \n",
       "1959-04-01                    396.0                        -10.0   \n",
       "1959-05-01                    420.0                         24.0   \n",
       "1959-06-01                    472.0                         52.0   \n",
       "1959-07-01                    548.0                         76.0   \n",
       "1959-08-01                    559.0                         11.0   \n",
       "1959-09-01                    463.0                        -96.0   \n",
       "1959-10-01                    407.0                        -56.0   \n",
       "1959-11-01                    362.0                        -45.0   \n",
       "1959-12-01                    405.0                         43.0   \n",
       "1960-01-01                    417.0                         12.0   \n",
       "1960-02-01                    391.0                        -26.0   \n",
       "1960-03-01                    419.0                         28.0   \n",
       "1960-04-01                    461.0                         42.0   \n",
       "1960-05-01                    472.0                         11.0   \n",
       "1960-06-01                    535.0                         63.0   \n",
       "1960-07-01                    622.0                         87.0   \n",
       "1960-08-01                    606.0                        -16.0   \n",
       "1960-09-01                    508.0                        -98.0   \n",
       "1960-10-01                    461.0                        -47.0   \n",
       "1960-11-01                    390.0                        -71.0   \n",
       "1960-12-01                    432.0                         42.0   \n",
       "\n",
       "            Passengers Second Difference  Passengers 12 Difference  \n",
       "Month                                                               \n",
       "1956-01-01                         -35.0                      42.0  \n",
       "1956-02-01                         -13.0                      44.0  \n",
       "1956-03-01                          47.0                      50.0  \n",
       "1956-04-01                         -44.0                      44.0  \n",
       "1956-05-01                           9.0                      48.0  \n",
       "1956-06-01                          51.0                      59.0  \n",
       "1956-07-01                         -17.0                      49.0  \n",
       "1956-08-01                         -47.0                      58.0  \n",
       "1956-09-01                         -42.0                      43.0  \n",
       "1956-10-01                           1.0                      32.0  \n",
       "1956-11-01                          14.0                      34.0  \n",
       "1956-12-01                          70.0                      28.0  \n",
       "1957-01-01                         -26.0                      31.0  \n",
       "1957-02-01                         -23.0                      24.0  \n",
       "1957-03-01                          69.0                      39.0  \n",
       "1957-04-01                         -63.0                      35.0  \n",
       "1957-05-01                          15.0                      37.0  \n",
       "1957-06-01                          60.0                      48.0  \n",
       "1957-07-01                         -24.0                      52.0  \n",
       "1957-08-01                         -41.0                      62.0  \n",
       "1957-09-01                         -65.0                      49.0  \n",
       "1957-10-01                           6.0                      41.0  \n",
       "1957-11-01                          15.0                      34.0  \n",
       "1957-12-01                          73.0                      30.0  \n",
       "1958-01-01                         -27.0                      25.0  \n",
       "1958-02-01                         -26.0                      17.0  \n",
       "1958-03-01                          66.0                       6.0  \n",
       "1958-04-01                         -58.0                       0.0  \n",
       "1958-05-01                          29.0                       8.0  \n",
       "1958-06-01                          57.0                      13.0  \n",
       "1958-07-01                         -16.0                      26.0  \n",
       "1958-08-01                         -42.0                      38.0  \n",
       "1958-09-01                        -115.0                       0.0  \n",
       "1958-10-01                          56.0                      12.0  \n",
       "1958-11-01                          -4.0                       5.0  \n",
       "1958-12-01                          76.0                       1.0  \n",
       "1959-01-01                          -4.0                      20.0  \n",
       "1959-02-01                         -41.0                      24.0  \n",
       "1959-03-01                          82.0                      44.0  \n",
       "1959-04-01                         -74.0                      48.0  \n",
       "1959-05-01                          34.0                      57.0  \n",
       "1959-06-01                          28.0                      37.0  \n",
       "1959-07-01                          24.0                      57.0  \n",
       "1959-08-01                         -65.0                      54.0  \n",
       "1959-09-01                        -107.0                      59.0  \n",
       "1959-10-01                          40.0                      48.0  \n",
       "1959-11-01                          11.0                      52.0  \n",
       "1959-12-01                          88.0                      68.0  \n",
       "1960-01-01                         -31.0                      57.0  \n",
       "1960-02-01                         -38.0                      49.0  \n",
       "1960-03-01                          54.0                      13.0  \n",
       "1960-04-01                          14.0                      65.0  \n",
       "1960-05-01                         -31.0                      52.0  \n",
       "1960-06-01                          52.0                      63.0  \n",
       "1960-07-01                          24.0                      74.0  \n",
       "1960-08-01                        -103.0                      47.0  \n",
       "1960-09-01                         -82.0                      45.0  \n",
       "1960-10-01                          51.0                      54.0  \n",
       "1960-11-01                         -24.0                      28.0  \n",
       "1960-12-01                         113.0                      27.0  "
      ]
     },
     "execution_count": 137,
     "metadata": {},
     "output_type": "execute_result"
    }
   ],
   "source": [
    "test_data"
   ]
  },
  {
   "cell_type": "code",
   "execution_count": 138,
   "id": "ae7eaa51",
   "metadata": {},
   "outputs": [],
   "source": [
    "#Create a ARIMA model\n",
    "from statsmodels.tsa.arima_model import ARIMA"
   ]
  },
  {
   "cell_type": "code",
   "execution_count": 96,
   "id": "b620f5f2",
   "metadata": {},
   "outputs": [
    {
     "data": {
      "text/html": [
       "<div>\n",
       "<style scoped>\n",
       "    .dataframe tbody tr th:only-of-type {\n",
       "        vertical-align: middle;\n",
       "    }\n",
       "\n",
       "    .dataframe tbody tr th {\n",
       "        vertical-align: top;\n",
       "    }\n",
       "\n",
       "    .dataframe thead th {\n",
       "        text-align: right;\n",
       "    }\n",
       "</style>\n",
       "<table border=\"1\" class=\"dataframe\">\n",
       "  <thead>\n",
       "    <tr style=\"text-align: right;\">\n",
       "      <th></th>\n",
       "      <th>Thousands of Passengers</th>\n",
       "      <th>Passengers First Difference</th>\n",
       "      <th>Passengers Second Difference</th>\n",
       "      <th>Passengers 12 Difference</th>\n",
       "    </tr>\n",
       "    <tr>\n",
       "      <th>Month</th>\n",
       "      <th></th>\n",
       "      <th></th>\n",
       "      <th></th>\n",
       "      <th></th>\n",
       "    </tr>\n",
       "  </thead>\n",
       "  <tbody>\n",
       "    <tr>\n",
       "      <th>1949-01-01</th>\n",
       "      <td>112.0</td>\n",
       "      <td>NaN</td>\n",
       "      <td>NaN</td>\n",
       "      <td>NaN</td>\n",
       "    </tr>\n",
       "    <tr>\n",
       "      <th>1949-02-01</th>\n",
       "      <td>118.0</td>\n",
       "      <td>6.0</td>\n",
       "      <td>NaN</td>\n",
       "      <td>NaN</td>\n",
       "    </tr>\n",
       "    <tr>\n",
       "      <th>1949-03-01</th>\n",
       "      <td>132.0</td>\n",
       "      <td>14.0</td>\n",
       "      <td>8.0</td>\n",
       "      <td>NaN</td>\n",
       "    </tr>\n",
       "    <tr>\n",
       "      <th>1949-04-01</th>\n",
       "      <td>129.0</td>\n",
       "      <td>-3.0</td>\n",
       "      <td>-17.0</td>\n",
       "      <td>NaN</td>\n",
       "    </tr>\n",
       "    <tr>\n",
       "      <th>1949-05-01</th>\n",
       "      <td>121.0</td>\n",
       "      <td>-8.0</td>\n",
       "      <td>-5.0</td>\n",
       "      <td>NaN</td>\n",
       "    </tr>\n",
       "    <tr>\n",
       "      <th>...</th>\n",
       "      <td>...</td>\n",
       "      <td>...</td>\n",
       "      <td>...</td>\n",
       "      <td>...</td>\n",
       "    </tr>\n",
       "    <tr>\n",
       "      <th>1955-08-01</th>\n",
       "      <td>347.0</td>\n",
       "      <td>-17.0</td>\n",
       "      <td>-66.0</td>\n",
       "      <td>54.0</td>\n",
       "    </tr>\n",
       "    <tr>\n",
       "      <th>1955-09-01</th>\n",
       "      <td>312.0</td>\n",
       "      <td>-35.0</td>\n",
       "      <td>-18.0</td>\n",
       "      <td>53.0</td>\n",
       "    </tr>\n",
       "    <tr>\n",
       "      <th>1955-10-01</th>\n",
       "      <td>274.0</td>\n",
       "      <td>-38.0</td>\n",
       "      <td>-3.0</td>\n",
       "      <td>45.0</td>\n",
       "    </tr>\n",
       "    <tr>\n",
       "      <th>1955-11-01</th>\n",
       "      <td>237.0</td>\n",
       "      <td>-37.0</td>\n",
       "      <td>1.0</td>\n",
       "      <td>34.0</td>\n",
       "    </tr>\n",
       "    <tr>\n",
       "      <th>1955-12-01</th>\n",
       "      <td>278.0</td>\n",
       "      <td>41.0</td>\n",
       "      <td>78.0</td>\n",
       "      <td>49.0</td>\n",
       "    </tr>\n",
       "  </tbody>\n",
       "</table>\n",
       "<p>84 rows × 4 columns</p>\n",
       "</div>"
      ],
      "text/plain": [
       "            Thousands of Passengers  Passengers First Difference  \\\n",
       "Month                                                              \n",
       "1949-01-01                    112.0                          NaN   \n",
       "1949-02-01                    118.0                          6.0   \n",
       "1949-03-01                    132.0                         14.0   \n",
       "1949-04-01                    129.0                         -3.0   \n",
       "1949-05-01                    121.0                         -8.0   \n",
       "...                             ...                          ...   \n",
       "1955-08-01                    347.0                        -17.0   \n",
       "1955-09-01                    312.0                        -35.0   \n",
       "1955-10-01                    274.0                        -38.0   \n",
       "1955-11-01                    237.0                        -37.0   \n",
       "1955-12-01                    278.0                         41.0   \n",
       "\n",
       "            Passengers Second Difference  Passengers 12 Difference  \n",
       "Month                                                               \n",
       "1949-01-01                           NaN                       NaN  \n",
       "1949-02-01                           NaN                       NaN  \n",
       "1949-03-01                           8.0                       NaN  \n",
       "1949-04-01                         -17.0                       NaN  \n",
       "1949-05-01                          -5.0                       NaN  \n",
       "...                                  ...                       ...  \n",
       "1955-08-01                         -66.0                      54.0  \n",
       "1955-09-01                         -18.0                      53.0  \n",
       "1955-10-01                          -3.0                      45.0  \n",
       "1955-11-01                           1.0                      34.0  \n",
       "1955-12-01                          78.0                      49.0  \n",
       "\n",
       "[84 rows x 4 columns]"
      ]
     },
     "execution_count": 96,
     "metadata": {},
     "output_type": "execute_result"
    }
   ],
   "source": [
    "train_data"
   ]
  },
  {
   "cell_type": "code",
   "execution_count": 140,
   "id": "7175ea61",
   "metadata": {},
   "outputs": [
    {
     "name": "stderr",
     "output_type": "stream",
     "text": [
      "C:\\Users\\praty\\anaconda3\\lib\\site-packages\\statsmodels\\tsa\\arima_model.py:472: FutureWarning: \n",
      "statsmodels.tsa.arima_model.ARMA and statsmodels.tsa.arima_model.ARIMA have\n",
      "been deprecated in favor of statsmodels.tsa.arima.model.ARIMA (note the .\n",
      "between arima and model) and\n",
      "statsmodels.tsa.SARIMAX. These will be removed after the 0.12 release.\n",
      "\n",
      "statsmodels.tsa.arima.model.ARIMA makes use of the statespace framework and\n",
      "is both well tested and maintained.\n",
      "\n",
      "To silence this warning and continue using ARMA and ARIMA until they are\n",
      "removed, use:\n",
      "\n",
      "import warnings\n",
      "warnings.filterwarnings('ignore', 'statsmodels.tsa.arima_model.ARMA',\n",
      "                        FutureWarning)\n",
      "warnings.filterwarnings('ignore', 'statsmodels.tsa.arima_model.ARIMA',\n",
      "                        FutureWarning)\n",
      "\n",
      "  warnings.warn(ARIMA_DEPRECATION_WARN, FutureWarning)\n",
      "C:\\Users\\praty\\anaconda3\\lib\\site-packages\\statsmodels\\tsa\\base\\tsa_model.py:524: ValueWarning: No frequency information was provided, so inferred frequency MS will be used.\n",
      "  warnings.warn('No frequency information was'\n",
      "C:\\Users\\praty\\anaconda3\\lib\\site-packages\\statsmodels\\tsa\\base\\tsa_model.py:524: ValueWarning: No frequency information was provided, so inferred frequency MS will be used.\n",
      "  warnings.warn('No frequency information was'\n"
     ]
    }
   ],
   "source": [
    "model_ARIMA=ARIMA(train_data['Thousands of Passengers'],order=(0,2,0))"
   ]
  },
  {
   "cell_type": "code",
   "execution_count": 141,
   "id": "f38dcec4",
   "metadata": {},
   "outputs": [],
   "source": [
    "model_Arima_fit=model_ARIMA.fit()"
   ]
  },
  {
   "cell_type": "code",
   "execution_count": 142,
   "id": "1e08c6c1",
   "metadata": {},
   "outputs": [
    {
     "data": {
      "text/html": [
       "<table class=\"simpletable\">\n",
       "<caption>ARIMA Model Results</caption>\n",
       "<tr>\n",
       "  <th>Dep. Variable:</th> <td>D2.Thousands of Passengers</td> <th>  No. Observations:  </th>    <td>82</td>   \n",
       "</tr>\n",
       "<tr>\n",
       "  <th>Model:</th>               <td>ARIMA(0, 2, 0)</td>       <th>  Log Likelihood     </th> <td>-385.782</td>\n",
       "</tr>\n",
       "<tr>\n",
       "  <th>Method:</th>                    <td>css</td>            <th>  S.D. of innovations</th>  <td>26.728</td> \n",
       "</tr>\n",
       "<tr>\n",
       "  <th>Date:</th>               <td>Tue, 21 Jun 2022</td>      <th>  AIC                </th>  <td>775.563</td>\n",
       "</tr>\n",
       "<tr>\n",
       "  <th>Time:</th>                   <td>15:19:42</td>          <th>  BIC                </th>  <td>780.377</td>\n",
       "</tr>\n",
       "<tr>\n",
       "  <th>Sample:</th>                <td>03-01-1949</td>         <th>  HQIC               </th>  <td>777.496</td>\n",
       "</tr>\n",
       "<tr>\n",
       "  <th></th>                      <td>- 12-01-1955</td>        <th>                     </th>     <td> </td>   \n",
       "</tr>\n",
       "</table>\n",
       "<table class=\"simpletable\">\n",
       "<tr>\n",
       "    <td></td>       <th>coef</th>     <th>std err</th>      <th>z</th>      <th>P>|z|</th>  <th>[0.025</th>    <th>0.975]</th>  \n",
       "</tr>\n",
       "<tr>\n",
       "  <th>const</th> <td>    0.4268</td> <td>    2.952</td> <td>    0.145</td> <td> 0.885</td> <td>   -5.358</td> <td>    6.212</td>\n",
       "</tr>\n",
       "</table>"
      ],
      "text/plain": [
       "<class 'statsmodels.iolib.summary.Summary'>\n",
       "\"\"\"\n",
       "                                 ARIMA Model Results                                  \n",
       "======================================================================================\n",
       "Dep. Variable:     D2.Thousands of Passengers   No. Observations:                   82\n",
       "Model:                         ARIMA(0, 2, 0)   Log Likelihood                -385.782\n",
       "Method:                                   css   S.D. of innovations             26.728\n",
       "Date:                        Tue, 21 Jun 2022   AIC                            775.563\n",
       "Time:                                15:19:42   BIC                            780.377\n",
       "Sample:                            03-01-1949   HQIC                           777.496\n",
       "                                 - 12-01-1955                                         \n",
       "==============================================================================\n",
       "                 coef    std err          z      P>|z|      [0.025      0.975]\n",
       "------------------------------------------------------------------------------\n",
       "const          0.4268      2.952      0.145      0.885      -5.358       6.212\n",
       "==============================================================================\n",
       "\"\"\""
      ]
     },
     "execution_count": 142,
     "metadata": {},
     "output_type": "execute_result"
    }
   ],
   "source": [
    "model_Arima_fit.summary()"
   ]
  },
  {
   "cell_type": "code",
   "execution_count": 143,
   "id": "92a6965c",
   "metadata": {},
   "outputs": [
    {
     "data": {
      "text/html": [
       "<div>\n",
       "<style scoped>\n",
       "    .dataframe tbody tr th:only-of-type {\n",
       "        vertical-align: middle;\n",
       "    }\n",
       "\n",
       "    .dataframe tbody tr th {\n",
       "        vertical-align: top;\n",
       "    }\n",
       "\n",
       "    .dataframe thead th {\n",
       "        text-align: right;\n",
       "    }\n",
       "</style>\n",
       "<table border=\"1\" class=\"dataframe\">\n",
       "  <thead>\n",
       "    <tr style=\"text-align: right;\">\n",
       "      <th></th>\n",
       "      <th>Thousands of Passengers</th>\n",
       "      <th>Passengers First Difference</th>\n",
       "      <th>Passengers Second Difference</th>\n",
       "      <th>Passengers 12 Difference</th>\n",
       "    </tr>\n",
       "    <tr>\n",
       "      <th>Month</th>\n",
       "      <th></th>\n",
       "      <th></th>\n",
       "      <th></th>\n",
       "      <th></th>\n",
       "    </tr>\n",
       "  </thead>\n",
       "  <tbody>\n",
       "    <tr>\n",
       "      <th>1956-01-01</th>\n",
       "      <td>284.0</td>\n",
       "      <td>6.0</td>\n",
       "      <td>-35.0</td>\n",
       "      <td>42.0</td>\n",
       "    </tr>\n",
       "    <tr>\n",
       "      <th>1956-02-01</th>\n",
       "      <td>277.0</td>\n",
       "      <td>-7.0</td>\n",
       "      <td>-13.0</td>\n",
       "      <td>44.0</td>\n",
       "    </tr>\n",
       "    <tr>\n",
       "      <th>1956-03-01</th>\n",
       "      <td>317.0</td>\n",
       "      <td>40.0</td>\n",
       "      <td>47.0</td>\n",
       "      <td>50.0</td>\n",
       "    </tr>\n",
       "    <tr>\n",
       "      <th>1956-04-01</th>\n",
       "      <td>313.0</td>\n",
       "      <td>-4.0</td>\n",
       "      <td>-44.0</td>\n",
       "      <td>44.0</td>\n",
       "    </tr>\n",
       "    <tr>\n",
       "      <th>1956-05-01</th>\n",
       "      <td>318.0</td>\n",
       "      <td>5.0</td>\n",
       "      <td>9.0</td>\n",
       "      <td>48.0</td>\n",
       "    </tr>\n",
       "    <tr>\n",
       "      <th>1956-06-01</th>\n",
       "      <td>374.0</td>\n",
       "      <td>56.0</td>\n",
       "      <td>51.0</td>\n",
       "      <td>59.0</td>\n",
       "    </tr>\n",
       "    <tr>\n",
       "      <th>1956-07-01</th>\n",
       "      <td>413.0</td>\n",
       "      <td>39.0</td>\n",
       "      <td>-17.0</td>\n",
       "      <td>49.0</td>\n",
       "    </tr>\n",
       "    <tr>\n",
       "      <th>1956-08-01</th>\n",
       "      <td>405.0</td>\n",
       "      <td>-8.0</td>\n",
       "      <td>-47.0</td>\n",
       "      <td>58.0</td>\n",
       "    </tr>\n",
       "    <tr>\n",
       "      <th>1956-09-01</th>\n",
       "      <td>355.0</td>\n",
       "      <td>-50.0</td>\n",
       "      <td>-42.0</td>\n",
       "      <td>43.0</td>\n",
       "    </tr>\n",
       "    <tr>\n",
       "      <th>1956-10-01</th>\n",
       "      <td>306.0</td>\n",
       "      <td>-49.0</td>\n",
       "      <td>1.0</td>\n",
       "      <td>32.0</td>\n",
       "    </tr>\n",
       "    <tr>\n",
       "      <th>1956-11-01</th>\n",
       "      <td>271.0</td>\n",
       "      <td>-35.0</td>\n",
       "      <td>14.0</td>\n",
       "      <td>34.0</td>\n",
       "    </tr>\n",
       "    <tr>\n",
       "      <th>1956-12-01</th>\n",
       "      <td>306.0</td>\n",
       "      <td>35.0</td>\n",
       "      <td>70.0</td>\n",
       "      <td>28.0</td>\n",
       "    </tr>\n",
       "    <tr>\n",
       "      <th>1957-01-01</th>\n",
       "      <td>315.0</td>\n",
       "      <td>9.0</td>\n",
       "      <td>-26.0</td>\n",
       "      <td>31.0</td>\n",
       "    </tr>\n",
       "    <tr>\n",
       "      <th>1957-02-01</th>\n",
       "      <td>301.0</td>\n",
       "      <td>-14.0</td>\n",
       "      <td>-23.0</td>\n",
       "      <td>24.0</td>\n",
       "    </tr>\n",
       "    <tr>\n",
       "      <th>1957-03-01</th>\n",
       "      <td>356.0</td>\n",
       "      <td>55.0</td>\n",
       "      <td>69.0</td>\n",
       "      <td>39.0</td>\n",
       "    </tr>\n",
       "    <tr>\n",
       "      <th>1957-04-01</th>\n",
       "      <td>348.0</td>\n",
       "      <td>-8.0</td>\n",
       "      <td>-63.0</td>\n",
       "      <td>35.0</td>\n",
       "    </tr>\n",
       "    <tr>\n",
       "      <th>1957-05-01</th>\n",
       "      <td>355.0</td>\n",
       "      <td>7.0</td>\n",
       "      <td>15.0</td>\n",
       "      <td>37.0</td>\n",
       "    </tr>\n",
       "    <tr>\n",
       "      <th>1957-06-01</th>\n",
       "      <td>422.0</td>\n",
       "      <td>67.0</td>\n",
       "      <td>60.0</td>\n",
       "      <td>48.0</td>\n",
       "    </tr>\n",
       "    <tr>\n",
       "      <th>1957-07-01</th>\n",
       "      <td>465.0</td>\n",
       "      <td>43.0</td>\n",
       "      <td>-24.0</td>\n",
       "      <td>52.0</td>\n",
       "    </tr>\n",
       "    <tr>\n",
       "      <th>1957-08-01</th>\n",
       "      <td>467.0</td>\n",
       "      <td>2.0</td>\n",
       "      <td>-41.0</td>\n",
       "      <td>62.0</td>\n",
       "    </tr>\n",
       "    <tr>\n",
       "      <th>1957-09-01</th>\n",
       "      <td>404.0</td>\n",
       "      <td>-63.0</td>\n",
       "      <td>-65.0</td>\n",
       "      <td>49.0</td>\n",
       "    </tr>\n",
       "    <tr>\n",
       "      <th>1957-10-01</th>\n",
       "      <td>347.0</td>\n",
       "      <td>-57.0</td>\n",
       "      <td>6.0</td>\n",
       "      <td>41.0</td>\n",
       "    </tr>\n",
       "    <tr>\n",
       "      <th>1957-11-01</th>\n",
       "      <td>305.0</td>\n",
       "      <td>-42.0</td>\n",
       "      <td>15.0</td>\n",
       "      <td>34.0</td>\n",
       "    </tr>\n",
       "    <tr>\n",
       "      <th>1957-12-01</th>\n",
       "      <td>336.0</td>\n",
       "      <td>31.0</td>\n",
       "      <td>73.0</td>\n",
       "      <td>30.0</td>\n",
       "    </tr>\n",
       "    <tr>\n",
       "      <th>1958-01-01</th>\n",
       "      <td>340.0</td>\n",
       "      <td>4.0</td>\n",
       "      <td>-27.0</td>\n",
       "      <td>25.0</td>\n",
       "    </tr>\n",
       "    <tr>\n",
       "      <th>1958-02-01</th>\n",
       "      <td>318.0</td>\n",
       "      <td>-22.0</td>\n",
       "      <td>-26.0</td>\n",
       "      <td>17.0</td>\n",
       "    </tr>\n",
       "    <tr>\n",
       "      <th>1958-03-01</th>\n",
       "      <td>362.0</td>\n",
       "      <td>44.0</td>\n",
       "      <td>66.0</td>\n",
       "      <td>6.0</td>\n",
       "    </tr>\n",
       "    <tr>\n",
       "      <th>1958-04-01</th>\n",
       "      <td>348.0</td>\n",
       "      <td>-14.0</td>\n",
       "      <td>-58.0</td>\n",
       "      <td>0.0</td>\n",
       "    </tr>\n",
       "    <tr>\n",
       "      <th>1958-05-01</th>\n",
       "      <td>363.0</td>\n",
       "      <td>15.0</td>\n",
       "      <td>29.0</td>\n",
       "      <td>8.0</td>\n",
       "    </tr>\n",
       "    <tr>\n",
       "      <th>1958-06-01</th>\n",
       "      <td>435.0</td>\n",
       "      <td>72.0</td>\n",
       "      <td>57.0</td>\n",
       "      <td>13.0</td>\n",
       "    </tr>\n",
       "    <tr>\n",
       "      <th>1958-07-01</th>\n",
       "      <td>491.0</td>\n",
       "      <td>56.0</td>\n",
       "      <td>-16.0</td>\n",
       "      <td>26.0</td>\n",
       "    </tr>\n",
       "    <tr>\n",
       "      <th>1958-08-01</th>\n",
       "      <td>505.0</td>\n",
       "      <td>14.0</td>\n",
       "      <td>-42.0</td>\n",
       "      <td>38.0</td>\n",
       "    </tr>\n",
       "    <tr>\n",
       "      <th>1958-09-01</th>\n",
       "      <td>404.0</td>\n",
       "      <td>-101.0</td>\n",
       "      <td>-115.0</td>\n",
       "      <td>0.0</td>\n",
       "    </tr>\n",
       "    <tr>\n",
       "      <th>1958-10-01</th>\n",
       "      <td>359.0</td>\n",
       "      <td>-45.0</td>\n",
       "      <td>56.0</td>\n",
       "      <td>12.0</td>\n",
       "    </tr>\n",
       "    <tr>\n",
       "      <th>1958-11-01</th>\n",
       "      <td>310.0</td>\n",
       "      <td>-49.0</td>\n",
       "      <td>-4.0</td>\n",
       "      <td>5.0</td>\n",
       "    </tr>\n",
       "    <tr>\n",
       "      <th>1958-12-01</th>\n",
       "      <td>337.0</td>\n",
       "      <td>27.0</td>\n",
       "      <td>76.0</td>\n",
       "      <td>1.0</td>\n",
       "    </tr>\n",
       "    <tr>\n",
       "      <th>1959-01-01</th>\n",
       "      <td>360.0</td>\n",
       "      <td>23.0</td>\n",
       "      <td>-4.0</td>\n",
       "      <td>20.0</td>\n",
       "    </tr>\n",
       "    <tr>\n",
       "      <th>1959-02-01</th>\n",
       "      <td>342.0</td>\n",
       "      <td>-18.0</td>\n",
       "      <td>-41.0</td>\n",
       "      <td>24.0</td>\n",
       "    </tr>\n",
       "    <tr>\n",
       "      <th>1959-03-01</th>\n",
       "      <td>406.0</td>\n",
       "      <td>64.0</td>\n",
       "      <td>82.0</td>\n",
       "      <td>44.0</td>\n",
       "    </tr>\n",
       "    <tr>\n",
       "      <th>1959-04-01</th>\n",
       "      <td>396.0</td>\n",
       "      <td>-10.0</td>\n",
       "      <td>-74.0</td>\n",
       "      <td>48.0</td>\n",
       "    </tr>\n",
       "    <tr>\n",
       "      <th>1959-05-01</th>\n",
       "      <td>420.0</td>\n",
       "      <td>24.0</td>\n",
       "      <td>34.0</td>\n",
       "      <td>57.0</td>\n",
       "    </tr>\n",
       "    <tr>\n",
       "      <th>1959-06-01</th>\n",
       "      <td>472.0</td>\n",
       "      <td>52.0</td>\n",
       "      <td>28.0</td>\n",
       "      <td>37.0</td>\n",
       "    </tr>\n",
       "    <tr>\n",
       "      <th>1959-07-01</th>\n",
       "      <td>548.0</td>\n",
       "      <td>76.0</td>\n",
       "      <td>24.0</td>\n",
       "      <td>57.0</td>\n",
       "    </tr>\n",
       "    <tr>\n",
       "      <th>1959-08-01</th>\n",
       "      <td>559.0</td>\n",
       "      <td>11.0</td>\n",
       "      <td>-65.0</td>\n",
       "      <td>54.0</td>\n",
       "    </tr>\n",
       "    <tr>\n",
       "      <th>1959-09-01</th>\n",
       "      <td>463.0</td>\n",
       "      <td>-96.0</td>\n",
       "      <td>-107.0</td>\n",
       "      <td>59.0</td>\n",
       "    </tr>\n",
       "    <tr>\n",
       "      <th>1959-10-01</th>\n",
       "      <td>407.0</td>\n",
       "      <td>-56.0</td>\n",
       "      <td>40.0</td>\n",
       "      <td>48.0</td>\n",
       "    </tr>\n",
       "    <tr>\n",
       "      <th>1959-11-01</th>\n",
       "      <td>362.0</td>\n",
       "      <td>-45.0</td>\n",
       "      <td>11.0</td>\n",
       "      <td>52.0</td>\n",
       "    </tr>\n",
       "    <tr>\n",
       "      <th>1959-12-01</th>\n",
       "      <td>405.0</td>\n",
       "      <td>43.0</td>\n",
       "      <td>88.0</td>\n",
       "      <td>68.0</td>\n",
       "    </tr>\n",
       "    <tr>\n",
       "      <th>1960-01-01</th>\n",
       "      <td>417.0</td>\n",
       "      <td>12.0</td>\n",
       "      <td>-31.0</td>\n",
       "      <td>57.0</td>\n",
       "    </tr>\n",
       "    <tr>\n",
       "      <th>1960-02-01</th>\n",
       "      <td>391.0</td>\n",
       "      <td>-26.0</td>\n",
       "      <td>-38.0</td>\n",
       "      <td>49.0</td>\n",
       "    </tr>\n",
       "    <tr>\n",
       "      <th>1960-03-01</th>\n",
       "      <td>419.0</td>\n",
       "      <td>28.0</td>\n",
       "      <td>54.0</td>\n",
       "      <td>13.0</td>\n",
       "    </tr>\n",
       "    <tr>\n",
       "      <th>1960-04-01</th>\n",
       "      <td>461.0</td>\n",
       "      <td>42.0</td>\n",
       "      <td>14.0</td>\n",
       "      <td>65.0</td>\n",
       "    </tr>\n",
       "    <tr>\n",
       "      <th>1960-05-01</th>\n",
       "      <td>472.0</td>\n",
       "      <td>11.0</td>\n",
       "      <td>-31.0</td>\n",
       "      <td>52.0</td>\n",
       "    </tr>\n",
       "    <tr>\n",
       "      <th>1960-06-01</th>\n",
       "      <td>535.0</td>\n",
       "      <td>63.0</td>\n",
       "      <td>52.0</td>\n",
       "      <td>63.0</td>\n",
       "    </tr>\n",
       "    <tr>\n",
       "      <th>1960-07-01</th>\n",
       "      <td>622.0</td>\n",
       "      <td>87.0</td>\n",
       "      <td>24.0</td>\n",
       "      <td>74.0</td>\n",
       "    </tr>\n",
       "    <tr>\n",
       "      <th>1960-08-01</th>\n",
       "      <td>606.0</td>\n",
       "      <td>-16.0</td>\n",
       "      <td>-103.0</td>\n",
       "      <td>47.0</td>\n",
       "    </tr>\n",
       "    <tr>\n",
       "      <th>1960-09-01</th>\n",
       "      <td>508.0</td>\n",
       "      <td>-98.0</td>\n",
       "      <td>-82.0</td>\n",
       "      <td>45.0</td>\n",
       "    </tr>\n",
       "    <tr>\n",
       "      <th>1960-10-01</th>\n",
       "      <td>461.0</td>\n",
       "      <td>-47.0</td>\n",
       "      <td>51.0</td>\n",
       "      <td>54.0</td>\n",
       "    </tr>\n",
       "    <tr>\n",
       "      <th>1960-11-01</th>\n",
       "      <td>390.0</td>\n",
       "      <td>-71.0</td>\n",
       "      <td>-24.0</td>\n",
       "      <td>28.0</td>\n",
       "    </tr>\n",
       "    <tr>\n",
       "      <th>1960-12-01</th>\n",
       "      <td>432.0</td>\n",
       "      <td>42.0</td>\n",
       "      <td>113.0</td>\n",
       "      <td>27.0</td>\n",
       "    </tr>\n",
       "  </tbody>\n",
       "</table>\n",
       "</div>"
      ],
      "text/plain": [
       "            Thousands of Passengers  Passengers First Difference  \\\n",
       "Month                                                              \n",
       "1956-01-01                    284.0                          6.0   \n",
       "1956-02-01                    277.0                         -7.0   \n",
       "1956-03-01                    317.0                         40.0   \n",
       "1956-04-01                    313.0                         -4.0   \n",
       "1956-05-01                    318.0                          5.0   \n",
       "1956-06-01                    374.0                         56.0   \n",
       "1956-07-01                    413.0                         39.0   \n",
       "1956-08-01                    405.0                         -8.0   \n",
       "1956-09-01                    355.0                        -50.0   \n",
       "1956-10-01                    306.0                        -49.0   \n",
       "1956-11-01                    271.0                        -35.0   \n",
       "1956-12-01                    306.0                         35.0   \n",
       "1957-01-01                    315.0                          9.0   \n",
       "1957-02-01                    301.0                        -14.0   \n",
       "1957-03-01                    356.0                         55.0   \n",
       "1957-04-01                    348.0                         -8.0   \n",
       "1957-05-01                    355.0                          7.0   \n",
       "1957-06-01                    422.0                         67.0   \n",
       "1957-07-01                    465.0                         43.0   \n",
       "1957-08-01                    467.0                          2.0   \n",
       "1957-09-01                    404.0                        -63.0   \n",
       "1957-10-01                    347.0                        -57.0   \n",
       "1957-11-01                    305.0                        -42.0   \n",
       "1957-12-01                    336.0                         31.0   \n",
       "1958-01-01                    340.0                          4.0   \n",
       "1958-02-01                    318.0                        -22.0   \n",
       "1958-03-01                    362.0                         44.0   \n",
       "1958-04-01                    348.0                        -14.0   \n",
       "1958-05-01                    363.0                         15.0   \n",
       "1958-06-01                    435.0                         72.0   \n",
       "1958-07-01                    491.0                         56.0   \n",
       "1958-08-01                    505.0                         14.0   \n",
       "1958-09-01                    404.0                       -101.0   \n",
       "1958-10-01                    359.0                        -45.0   \n",
       "1958-11-01                    310.0                        -49.0   \n",
       "1958-12-01                    337.0                         27.0   \n",
       "1959-01-01                    360.0                         23.0   \n",
       "1959-02-01                    342.0                        -18.0   \n",
       "1959-03-01                    406.0                         64.0   \n",
       "1959-04-01                    396.0                        -10.0   \n",
       "1959-05-01                    420.0                         24.0   \n",
       "1959-06-01                    472.0                         52.0   \n",
       "1959-07-01                    548.0                         76.0   \n",
       "1959-08-01                    559.0                         11.0   \n",
       "1959-09-01                    463.0                        -96.0   \n",
       "1959-10-01                    407.0                        -56.0   \n",
       "1959-11-01                    362.0                        -45.0   \n",
       "1959-12-01                    405.0                         43.0   \n",
       "1960-01-01                    417.0                         12.0   \n",
       "1960-02-01                    391.0                        -26.0   \n",
       "1960-03-01                    419.0                         28.0   \n",
       "1960-04-01                    461.0                         42.0   \n",
       "1960-05-01                    472.0                         11.0   \n",
       "1960-06-01                    535.0                         63.0   \n",
       "1960-07-01                    622.0                         87.0   \n",
       "1960-08-01                    606.0                        -16.0   \n",
       "1960-09-01                    508.0                        -98.0   \n",
       "1960-10-01                    461.0                        -47.0   \n",
       "1960-11-01                    390.0                        -71.0   \n",
       "1960-12-01                    432.0                         42.0   \n",
       "\n",
       "            Passengers Second Difference  Passengers 12 Difference  \n",
       "Month                                                               \n",
       "1956-01-01                         -35.0                      42.0  \n",
       "1956-02-01                         -13.0                      44.0  \n",
       "1956-03-01                          47.0                      50.0  \n",
       "1956-04-01                         -44.0                      44.0  \n",
       "1956-05-01                           9.0                      48.0  \n",
       "1956-06-01                          51.0                      59.0  \n",
       "1956-07-01                         -17.0                      49.0  \n",
       "1956-08-01                         -47.0                      58.0  \n",
       "1956-09-01                         -42.0                      43.0  \n",
       "1956-10-01                           1.0                      32.0  \n",
       "1956-11-01                          14.0                      34.0  \n",
       "1956-12-01                          70.0                      28.0  \n",
       "1957-01-01                         -26.0                      31.0  \n",
       "1957-02-01                         -23.0                      24.0  \n",
       "1957-03-01                          69.0                      39.0  \n",
       "1957-04-01                         -63.0                      35.0  \n",
       "1957-05-01                          15.0                      37.0  \n",
       "1957-06-01                          60.0                      48.0  \n",
       "1957-07-01                         -24.0                      52.0  \n",
       "1957-08-01                         -41.0                      62.0  \n",
       "1957-09-01                         -65.0                      49.0  \n",
       "1957-10-01                           6.0                      41.0  \n",
       "1957-11-01                          15.0                      34.0  \n",
       "1957-12-01                          73.0                      30.0  \n",
       "1958-01-01                         -27.0                      25.0  \n",
       "1958-02-01                         -26.0                      17.0  \n",
       "1958-03-01                          66.0                       6.0  \n",
       "1958-04-01                         -58.0                       0.0  \n",
       "1958-05-01                          29.0                       8.0  \n",
       "1958-06-01                          57.0                      13.0  \n",
       "1958-07-01                         -16.0                      26.0  \n",
       "1958-08-01                         -42.0                      38.0  \n",
       "1958-09-01                        -115.0                       0.0  \n",
       "1958-10-01                          56.0                      12.0  \n",
       "1958-11-01                          -4.0                       5.0  \n",
       "1958-12-01                          76.0                       1.0  \n",
       "1959-01-01                          -4.0                      20.0  \n",
       "1959-02-01                         -41.0                      24.0  \n",
       "1959-03-01                          82.0                      44.0  \n",
       "1959-04-01                         -74.0                      48.0  \n",
       "1959-05-01                          34.0                      57.0  \n",
       "1959-06-01                          28.0                      37.0  \n",
       "1959-07-01                          24.0                      57.0  \n",
       "1959-08-01                         -65.0                      54.0  \n",
       "1959-09-01                        -107.0                      59.0  \n",
       "1959-10-01                          40.0                      48.0  \n",
       "1959-11-01                          11.0                      52.0  \n",
       "1959-12-01                          88.0                      68.0  \n",
       "1960-01-01                         -31.0                      57.0  \n",
       "1960-02-01                         -38.0                      49.0  \n",
       "1960-03-01                          54.0                      13.0  \n",
       "1960-04-01                          14.0                      65.0  \n",
       "1960-05-01                         -31.0                      52.0  \n",
       "1960-06-01                          52.0                      63.0  \n",
       "1960-07-01                          24.0                      74.0  \n",
       "1960-08-01                        -103.0                      47.0  \n",
       "1960-09-01                         -82.0                      45.0  \n",
       "1960-10-01                          51.0                      54.0  \n",
       "1960-11-01                         -24.0                      28.0  \n",
       "1960-12-01                         113.0                      27.0  "
      ]
     },
     "execution_count": 143,
     "metadata": {},
     "output_type": "execute_result"
    }
   ],
   "source": [
    "test_data"
   ]
  },
  {
   "cell_type": "code",
   "execution_count": 144,
   "id": "8432325c",
   "metadata": {},
   "outputs": [
    {
     "name": "stdout",
     "output_type": "stream",
     "text": [
      "1956-01-01 00:00:00\n",
      "1960-12-01 00:00:00\n"
     ]
    }
   ],
   "source": [
    "##prediction\n",
    "pred_start_date=test_data.index[0]\n",
    "pred_end_date=test_data.index[-1]\n",
    "print(pred_start_date)\n",
    "print(pred_end_date)"
   ]
  },
  {
   "cell_type": "code",
   "execution_count": 145,
   "id": "05e35564",
   "metadata": {},
   "outputs": [],
   "source": [
    "pred=model_Arima_fit.predict(start=pred_start_date,end=pred_end_date)\n",
    "residuals=test_data['Thousands of Passengers']-pred"
   ]
  },
  {
   "cell_type": "code",
   "execution_count": 146,
   "id": "91c8d11a",
   "metadata": {},
   "outputs": [
    {
     "data": {
      "text/plain": [
       "1956-01-01    0.426829\n",
       "1956-02-01    0.426829\n",
       "1956-03-01    0.426829\n",
       "1956-04-01    0.426829\n",
       "1956-05-01    0.426829\n",
       "1956-06-01    0.426829\n",
       "1956-07-01    0.426829\n",
       "1956-08-01    0.426829\n",
       "1956-09-01    0.426829\n",
       "1956-10-01    0.426829\n",
       "1956-11-01    0.426829\n",
       "1956-12-01    0.426829\n",
       "1957-01-01    0.426829\n",
       "1957-02-01    0.426829\n",
       "1957-03-01    0.426829\n",
       "1957-04-01    0.426829\n",
       "1957-05-01    0.426829\n",
       "1957-06-01    0.426829\n",
       "1957-07-01    0.426829\n",
       "1957-08-01    0.426829\n",
       "1957-09-01    0.426829\n",
       "1957-10-01    0.426829\n",
       "1957-11-01    0.426829\n",
       "1957-12-01    0.426829\n",
       "1958-01-01    0.426829\n",
       "1958-02-01    0.426829\n",
       "1958-03-01    0.426829\n",
       "1958-04-01    0.426829\n",
       "1958-05-01    0.426829\n",
       "1958-06-01    0.426829\n",
       "1958-07-01    0.426829\n",
       "1958-08-01    0.426829\n",
       "1958-09-01    0.426829\n",
       "1958-10-01    0.426829\n",
       "1958-11-01    0.426829\n",
       "1958-12-01    0.426829\n",
       "1959-01-01    0.426829\n",
       "1959-02-01    0.426829\n",
       "1959-03-01    0.426829\n",
       "1959-04-01    0.426829\n",
       "1959-05-01    0.426829\n",
       "1959-06-01    0.426829\n",
       "1959-07-01    0.426829\n",
       "1959-08-01    0.426829\n",
       "1959-09-01    0.426829\n",
       "1959-10-01    0.426829\n",
       "1959-11-01    0.426829\n",
       "1959-12-01    0.426829\n",
       "1960-01-01    0.426829\n",
       "1960-02-01    0.426829\n",
       "1960-03-01    0.426829\n",
       "1960-04-01    0.426829\n",
       "1960-05-01    0.426829\n",
       "1960-06-01    0.426829\n",
       "1960-07-01    0.426829\n",
       "1960-08-01    0.426829\n",
       "1960-09-01    0.426829\n",
       "1960-10-01    0.426829\n",
       "1960-11-01    0.426829\n",
       "1960-12-01    0.426829\n",
       "Freq: MS, dtype: float64"
      ]
     },
     "execution_count": 146,
     "metadata": {},
     "output_type": "execute_result"
    }
   ],
   "source": [
    "pred"
   ]
  },
  {
   "cell_type": "code",
   "execution_count": 147,
   "id": "6deff6a4",
   "metadata": {},
   "outputs": [
    {
     "data": {
      "text/plain": [
       "Month\n",
       "1956-01-01    283.573171\n",
       "1956-02-01    276.573171\n",
       "1956-03-01    316.573171\n",
       "1956-04-01    312.573171\n",
       "1956-05-01    317.573171\n",
       "1956-06-01    373.573171\n",
       "1956-07-01    412.573171\n",
       "1956-08-01    404.573171\n",
       "1956-09-01    354.573171\n",
       "1956-10-01    305.573171\n",
       "1956-11-01    270.573171\n",
       "1956-12-01    305.573171\n",
       "1957-01-01    314.573171\n",
       "1957-02-01    300.573171\n",
       "1957-03-01    355.573171\n",
       "1957-04-01    347.573171\n",
       "1957-05-01    354.573171\n",
       "1957-06-01    421.573171\n",
       "1957-07-01    464.573171\n",
       "1957-08-01    466.573171\n",
       "1957-09-01    403.573171\n",
       "1957-10-01    346.573171\n",
       "1957-11-01    304.573171\n",
       "1957-12-01    335.573171\n",
       "1958-01-01    339.573171\n",
       "1958-02-01    317.573171\n",
       "1958-03-01    361.573171\n",
       "1958-04-01    347.573171\n",
       "1958-05-01    362.573171\n",
       "1958-06-01    434.573171\n",
       "1958-07-01    490.573171\n",
       "1958-08-01    504.573171\n",
       "1958-09-01    403.573171\n",
       "1958-10-01    358.573171\n",
       "1958-11-01    309.573171\n",
       "1958-12-01    336.573171\n",
       "1959-01-01    359.573171\n",
       "1959-02-01    341.573171\n",
       "1959-03-01    405.573171\n",
       "1959-04-01    395.573171\n",
       "1959-05-01    419.573171\n",
       "1959-06-01    471.573171\n",
       "1959-07-01    547.573171\n",
       "1959-08-01    558.573171\n",
       "1959-09-01    462.573171\n",
       "1959-10-01    406.573171\n",
       "1959-11-01    361.573171\n",
       "1959-12-01    404.573171\n",
       "1960-01-01    416.573171\n",
       "1960-02-01    390.573171\n",
       "1960-03-01    418.573171\n",
       "1960-04-01    460.573171\n",
       "1960-05-01    471.573171\n",
       "1960-06-01    534.573171\n",
       "1960-07-01    621.573171\n",
       "1960-08-01    605.573171\n",
       "1960-09-01    507.573171\n",
       "1960-10-01    460.573171\n",
       "1960-11-01    389.573171\n",
       "1960-12-01    431.573171\n",
       "dtype: float64"
      ]
     },
     "execution_count": 147,
     "metadata": {},
     "output_type": "execute_result"
    }
   ],
   "source": [
    "residuals"
   ]
  },
  {
   "cell_type": "code",
   "execution_count": 148,
   "id": "d82b82d4",
   "metadata": {},
   "outputs": [
    {
     "data": {
      "text/plain": [
       "<AxesSubplot:ylabel='Density'>"
      ]
     },
     "execution_count": 148,
     "metadata": {},
     "output_type": "execute_result"
    },
    {
     "data": {
      "image/png": "[encoded data removed]",
      "text/plain": [
       "<Figure size 432x288 with 1 Axes>"
      ]
     },
     "metadata": {
      "needs_background": "light"
     },
     "output_type": "display_data"
    }
   ],
   "source": [
    "model_Arima_fit.resid.plot(kind='kde')"
   ]
  },
  {
   "cell_type": "code",
   "execution_count": 149,
   "id": "bd01f5b9",
   "metadata": {},
   "outputs": [
    {
     "name": "stderr",
     "output_type": "stream",
     "text": [
      "<ipython-input-149-69896c9f46c9>:1: SettingWithCopyWarning: \n",
      "A value is trying to be set on a copy of a slice from a DataFrame.\n",
      "Try using .loc[row_indexer,col_indexer] = value instead\n",
      "\n",
      "See the caveats in the documentation: https://pandas.pydata.org/pandas-docs/stable/user_guide/indexing.html#returning-a-view-versus-a-copy\n",
      "  test_data['Predicted_ARIMA']=pred\n"
     ]
    }
   ],
   "source": [
    "test_data['Predicted_ARIMA']=pred"
   ]
  },
  {
   "cell_type": "code",
   "execution_count": 150,
   "id": "9dc65877",
   "metadata": {},
   "outputs": [
    {
     "data": {
      "text/plain": [
       "<AxesSubplot:xlabel='Month'>"
      ]
     },
     "execution_count": 150,
     "metadata": {},
     "output_type": "execute_result"
    },
    {
     "data": {
      "image/png": "[encoded data removed]",
      "text/plain": [
       "<Figure size 432x288 with 1 Axes>"
      ]
     },
     "metadata": {
      "needs_background": "light"
     },
     "output_type": "display_data"
    }
   ],
   "source": [
    "test_data[['Thousands of Passengers','Predicted_ARIMA']].plot()"
   ]
  },
  {
   "cell_type": "code",
   "execution_count": 151,
   "id": "4e5d0b30",
   "metadata": {},
   "outputs": [
    {
     "data": {
      "image/png": "[encoded data removed]",
      "text/plain": [
       "<Figure size 432x288 with 1 Axes>"
      ]
     },
     "metadata": {
      "needs_background": "light"
     },
     "output_type": "display_data"
    },
    {
     "data": {
      "image/png": "[encoded data removed]",
      "text/plain": [
       "<Figure size 432x288 with 1 Axes>"
      ]
     },
     "metadata": {
      "needs_background": "light"
     },
     "output_type": "display_data"
    }
   ],
   "source": [
    "acf12 = plot_acf(df_airline[\"Passengers 12 Difference\"].dropna())\n",
    "pacf12 = plot_pacf(df_airline[\"Passengers 12 Difference\"].dropna())"
   ]
  },
  {
   "cell_type": "code",
   "execution_count": 152,
   "id": "8684d78e",
   "metadata": {},
   "outputs": [],
   "source": [
    "## create a SARIMA model\n",
    "from statsmodels.tsa.statespace.sarimax import SARIMAX"
   ]
  },
  {
   "cell_type": "code",
   "execution_count": 153,
   "id": "2953b3c0",
   "metadata": {},
   "outputs": [
    {
     "name": "stderr",
     "output_type": "stream",
     "text": [
      "C:\\Users\\praty\\anaconda3\\lib\\site-packages\\statsmodels\\tsa\\base\\tsa_model.py:524: ValueWarning: No frequency information was provided, so inferred frequency MS will be used.\n",
      "  warnings.warn('No frequency information was'\n",
      "C:\\Users\\praty\\anaconda3\\lib\\site-packages\\statsmodels\\tsa\\base\\tsa_model.py:524: ValueWarning: No frequency information was provided, so inferred frequency MS will be used.\n",
      "  warnings.warn('No frequency information was'\n"
     ]
    }
   ],
   "source": [
    "model_SARIMA=SARIMAX(train_data['Thousands of Passengers'],order=(3,0,5),seasonal_order=(0,1,0,12))"
   ]
  },
  {
   "cell_type": "code",
   "execution_count": 154,
   "id": "4b0adfad",
   "metadata": {},
   "outputs": [
    {
     "name": "stderr",
     "output_type": "stream",
     "text": [
      "C:\\Users\\praty\\anaconda3\\lib\\site-packages\\statsmodels\\base\\model.py:566: ConvergenceWarning: Maximum Likelihood optimization failed to converge. Check mle_retvals\n",
      "  warnings.warn(\"Maximum Likelihood optimization failed to \"\n"
     ]
    }
   ],
   "source": [
    "model_SARIMA_fit=model_SARIMA.fit()"
   ]
  },
  {
   "cell_type": "code",
   "execution_count": 155,
   "id": "e1069f3a",
   "metadata": {},
   "outputs": [
    {
     "data": {
      "text/html": [
       "<table class=\"simpletable\">\n",
       "<caption>SARIMAX Results</caption>\n",
       "<tr>\n",
       "  <th>Dep. Variable:</th>       <td>Thousands of Passengers</td>     <th>  No. Observations:  </th>    <td>84</td>   \n",
       "</tr>\n",
       "<tr>\n",
       "  <th>Model:</th>           <td>SARIMAX(3, 0, 5)x(0, 1, [], 12)</td> <th>  Log Likelihood     </th> <td>-265.240</td>\n",
       "</tr>\n",
       "<tr>\n",
       "  <th>Date:</th>                   <td>Tue, 21 Jun 2022</td>         <th>  AIC                </th>  <td>548.481</td>\n",
       "</tr>\n",
       "<tr>\n",
       "  <th>Time:</th>                       <td>15:21:00</td>             <th>  BIC                </th>  <td>568.971</td>\n",
       "</tr>\n",
       "<tr>\n",
       "  <th>Sample:</th>                    <td>01-01-1949</td>            <th>  HQIC               </th>  <td>556.638</td>\n",
       "</tr>\n",
       "<tr>\n",
       "  <th></th>                          <td>- 12-01-1955</td>           <th>                     </th>     <td> </td>   \n",
       "</tr>\n",
       "<tr>\n",
       "  <th>Covariance Type:</th>               <td>opg</td>               <th>                     </th>     <td> </td>   \n",
       "</tr>\n",
       "</table>\n",
       "<table class=\"simpletable\">\n",
       "<tr>\n",
       "     <td></td>       <th>coef</th>     <th>std err</th>      <th>z</th>      <th>P>|z|</th>  <th>[0.025</th>    <th>0.975]</th>  \n",
       "</tr>\n",
       "<tr>\n",
       "  <th>ar.L1</th>  <td>    0.5984</td> <td>    0.937</td> <td>    0.638</td> <td> 0.523</td> <td>   -1.239</td> <td>    2.436</td>\n",
       "</tr>\n",
       "<tr>\n",
       "  <th>ar.L2</th>  <td>    0.8311</td> <td>    0.232</td> <td>    3.581</td> <td> 0.000</td> <td>    0.376</td> <td>    1.286</td>\n",
       "</tr>\n",
       "<tr>\n",
       "  <th>ar.L3</th>  <td>   -0.4526</td> <td>    0.894</td> <td>   -0.507</td> <td> 0.613</td> <td>   -2.204</td> <td>    1.299</td>\n",
       "</tr>\n",
       "<tr>\n",
       "  <th>ma.L1</th>  <td>    0.1837</td> <td>    1.164</td> <td>    0.158</td> <td> 0.875</td> <td>   -2.097</td> <td>    2.465</td>\n",
       "</tr>\n",
       "<tr>\n",
       "  <th>ma.L2</th>  <td>   -0.5342</td> <td>    1.262</td> <td>   -0.423</td> <td> 0.672</td> <td>   -3.007</td> <td>    1.938</td>\n",
       "</tr>\n",
       "<tr>\n",
       "  <th>ma.L3</th>  <td>   -0.0986</td> <td>    0.384</td> <td>   -0.257</td> <td> 0.797</td> <td>   -0.851</td> <td>    0.654</td>\n",
       "</tr>\n",
       "<tr>\n",
       "  <th>ma.L4</th>  <td>   -0.1272</td> <td>    0.337</td> <td>   -0.377</td> <td> 0.706</td> <td>   -0.788</td> <td>    0.534</td>\n",
       "</tr>\n",
       "<tr>\n",
       "  <th>ma.L5</th>  <td>    0.2471</td> <td>    0.357</td> <td>    0.693</td> <td> 0.488</td> <td>   -0.452</td> <td>    0.946</td>\n",
       "</tr>\n",
       "<tr>\n",
       "  <th>sigma2</th> <td>   87.7321</td> <td>   81.097</td> <td>    1.082</td> <td> 0.279</td> <td>  -71.214</td> <td>  246.679</td>\n",
       "</tr>\n",
       "</table>\n",
       "<table class=\"simpletable\">\n",
       "<tr>\n",
       "  <th>Ljung-Box (L1) (Q):</th>     <td>0.02</td> <th>  Jarque-Bera (JB):  </th> <td>2.68</td>\n",
       "</tr>\n",
       "<tr>\n",
       "  <th>Prob(Q):</th>                <td>0.88</td> <th>  Prob(JB):          </th> <td>0.26</td>\n",
       "</tr>\n",
       "<tr>\n",
       "  <th>Heteroskedasticity (H):</th> <td>2.05</td> <th>  Skew:              </th> <td>0.46</td>\n",
       "</tr>\n",
       "<tr>\n",
       "  <th>Prob(H) (two-sided):</th>    <td>0.09</td> <th>  Kurtosis:          </th> <td>2.77</td>\n",
       "</tr>\n",
       "</table><br/><br/>Warnings:<br/>[1] Covariance matrix calculated using the outer product of gradients (complex-step)."
      ],
      "text/plain": [
       "<class 'statsmodels.iolib.summary.Summary'>\n",
       "\"\"\"\n",
       "                                      SARIMAX Results                                      \n",
       "===========================================================================================\n",
       "Dep. Variable:             Thousands of Passengers   No. Observations:                   84\n",
       "Model:             SARIMAX(3, 0, 5)x(0, 1, [], 12)   Log Likelihood                -265.240\n",
       "Date:                             Tue, 21 Jun 2022   AIC                            548.481\n",
       "Time:                                     15:21:00   BIC                            568.971\n",
       "Sample:                                 01-01-1949   HQIC                           556.638\n",
       "                                      - 12-01-1955                                         \n",
       "Covariance Type:                               opg                                         \n",
       "==============================================================================\n",
       "                 coef    std err          z      P>|z|      [0.025      0.975]\n",
       "------------------------------------------------------------------------------\n",
       "ar.L1          0.5984      0.937      0.638      0.523      -1.239       2.436\n",
       "ar.L2          0.8311      0.232      3.581      0.000       0.376       1.286\n",
       "ar.L3         -0.4526      0.894     -0.507      0.613      -2.204       1.299\n",
       "ma.L1          0.1837      1.164      0.158      0.875      -2.097       2.465\n",
       "ma.L2         -0.5342      1.262     -0.423      0.672      -3.007       1.938\n",
       "ma.L3         -0.0986      0.384     -0.257      0.797      -0.851       0.654\n",
       "ma.L4         -0.1272      0.337     -0.377      0.706      -0.788       0.534\n",
       "ma.L5          0.2471      0.357      0.693      0.488      -0.452       0.946\n",
       "sigma2        87.7321     81.097      1.082      0.279     -71.214     246.679\n",
       "===================================================================================\n",
       "Ljung-Box (L1) (Q):                   0.02   Jarque-Bera (JB):                 2.68\n",
       "Prob(Q):                              0.88   Prob(JB):                         0.26\n",
       "Heteroskedasticity (H):               2.05   Skew:                             0.46\n",
       "Prob(H) (two-sided):                  0.09   Kurtosis:                         2.77\n",
       "===================================================================================\n",
       "\n",
       "Warnings:\n",
       "[1] Covariance matrix calculated using the outer product of gradients (complex-step).\n",
       "\"\"\""
      ]
     },
     "execution_count": 155,
     "metadata": {},
     "output_type": "execute_result"
    }
   ],
   "source": [
    "model_SARIMA_fit.summary()"
   ]
  },
  {
   "cell_type": "code",
   "execution_count": 156,
   "id": "c564adfa",
   "metadata": {},
   "outputs": [
    {
     "data": {
      "text/html": [
       "<div>\n",
       "<style scoped>\n",
       "    .dataframe tbody tr th:only-of-type {\n",
       "        vertical-align: middle;\n",
       "    }\n",
       "\n",
       "    .dataframe tbody tr th {\n",
       "        vertical-align: top;\n",
       "    }\n",
       "\n",
       "    .dataframe thead th {\n",
       "        text-align: right;\n",
       "    }\n",
       "</style>\n",
       "<table border=\"1\" class=\"dataframe\">\n",
       "  <thead>\n",
       "    <tr style=\"text-align: right;\">\n",
       "      <th></th>\n",
       "      <th>Thousands of Passengers</th>\n",
       "      <th>Passengers First Difference</th>\n",
       "      <th>Passengers Second Difference</th>\n",
       "      <th>Passengers 12 Difference</th>\n",
       "      <th>Predicted_ARIMA</th>\n",
       "    </tr>\n",
       "    <tr>\n",
       "      <th>Month</th>\n",
       "      <th></th>\n",
       "      <th></th>\n",
       "      <th></th>\n",
       "      <th></th>\n",
       "      <th></th>\n",
       "    </tr>\n",
       "  </thead>\n",
       "  <tbody>\n",
       "    <tr>\n",
       "      <th>1960-08-01</th>\n",
       "      <td>606.0</td>\n",
       "      <td>-16.0</td>\n",
       "      <td>-103.0</td>\n",
       "      <td>47.0</td>\n",
       "      <td>0.426829</td>\n",
       "    </tr>\n",
       "    <tr>\n",
       "      <th>1960-09-01</th>\n",
       "      <td>508.0</td>\n",
       "      <td>-98.0</td>\n",
       "      <td>-82.0</td>\n",
       "      <td>45.0</td>\n",
       "      <td>0.426829</td>\n",
       "    </tr>\n",
       "    <tr>\n",
       "      <th>1960-10-01</th>\n",
       "      <td>461.0</td>\n",
       "      <td>-47.0</td>\n",
       "      <td>51.0</td>\n",
       "      <td>54.0</td>\n",
       "      <td>0.426829</td>\n",
       "    </tr>\n",
       "    <tr>\n",
       "      <th>1960-11-01</th>\n",
       "      <td>390.0</td>\n",
       "      <td>-71.0</td>\n",
       "      <td>-24.0</td>\n",
       "      <td>28.0</td>\n",
       "      <td>0.426829</td>\n",
       "    </tr>\n",
       "    <tr>\n",
       "      <th>1960-12-01</th>\n",
       "      <td>432.0</td>\n",
       "      <td>42.0</td>\n",
       "      <td>113.0</td>\n",
       "      <td>27.0</td>\n",
       "      <td>0.426829</td>\n",
       "    </tr>\n",
       "  </tbody>\n",
       "</table>\n",
       "</div>"
      ],
      "text/plain": [
       "            Thousands of Passengers  Passengers First Difference  \\\n",
       "Month                                                              \n",
       "1960-08-01                    606.0                        -16.0   \n",
       "1960-09-01                    508.0                        -98.0   \n",
       "1960-10-01                    461.0                        -47.0   \n",
       "1960-11-01                    390.0                        -71.0   \n",
       "1960-12-01                    432.0                         42.0   \n",
       "\n",
       "            Passengers Second Difference  Passengers 12 Difference  \\\n",
       "Month                                                                \n",
       "1960-08-01                        -103.0                      47.0   \n",
       "1960-09-01                         -82.0                      45.0   \n",
       "1960-10-01                          51.0                      54.0   \n",
       "1960-11-01                         -24.0                      28.0   \n",
       "1960-12-01                         113.0                      27.0   \n",
       "\n",
       "            Predicted_ARIMA  \n",
       "Month                        \n",
       "1960-08-01         0.426829  \n",
       "1960-09-01         0.426829  \n",
       "1960-10-01         0.426829  \n",
       "1960-11-01         0.426829  \n",
       "1960-12-01         0.426829  "
      ]
     },
     "execution_count": 156,
     "metadata": {},
     "output_type": "execute_result"
    }
   ],
   "source": [
    "test_data.tail()"
   ]
  },
  {
   "cell_type": "code",
   "execution_count": 157,
   "id": "b22cbe74",
   "metadata": {},
   "outputs": [
    {
     "name": "stdout",
     "output_type": "stream",
     "text": [
      "1956-01-01 00:00:00\n",
      "1960-12-01 00:00:00\n"
     ]
    }
   ],
   "source": [
    "##prediction\n",
    "pred_start_date=test_data.index[0]\n",
    "pred_end_date=test_data.index[-1]\n",
    "print(pred_start_date)\n",
    "print(pred_end_date)"
   ]
  },
  {
   "cell_type": "code",
   "execution_count": 158,
   "id": "428c6029",
   "metadata": {},
   "outputs": [],
   "source": [
    "pred_Sarima=model_SARIMA_fit.predict(start=datetime(1956,6,6),end=datetime(1960,12,1))\n",
    "residuals=test_data['Thousands of Passengers']-pred_Sarima"
   ]
  },
  {
   "cell_type": "code",
   "execution_count": 159,
   "id": "da6a6b2e",
   "metadata": {},
   "outputs": [
    {
     "data": {
      "text/plain": [
       "<AxesSubplot:xlabel='Month'>"
      ]
     },
     "execution_count": 159,
     "metadata": {},
     "output_type": "execute_result"
    },
    {
     "data": {
      "image/png": "[encoded data removed]",
      "text/plain": [
       "<Figure size 432x288 with 1 Axes>"
      ]
     },
     "metadata": {
      "needs_background": "light"
     },
     "output_type": "display_data"
    }
   ],
   "source": [
    "model_SARIMA_fit.resid.plot()"
   ]
  },
  {
   "cell_type": "code",
   "execution_count": 160,
   "id": "26475155",
   "metadata": {},
   "outputs": [
    {
     "data": {
      "text/plain": [
       "<AxesSubplot:ylabel='Density'>"
      ]
     },
     "execution_count": 160,
     "metadata": {},
     "output_type": "execute_result"
    },
    {
     "data": {
      "image/png": "[encoded data removed]",
      "text/plain": [
       "<Figure size 432x288 with 1 Axes>"
      ]
     },
     "metadata": {
      "needs_background": "light"
     },
     "output_type": "display_data"
    }
   ],
   "source": [
    "model_SARIMA_fit.resid.plot(kind='kde')"
   ]
  },
  {
   "cell_type": "code",
   "execution_count": 161,
   "id": "b3cfc7da",
   "metadata": {},
   "outputs": [
    {
     "name": "stderr",
     "output_type": "stream",
     "text": [
      "<ipython-input-161-5be0f969ecf6>:1: SettingWithCopyWarning: \n",
      "A value is trying to be set on a copy of a slice from a DataFrame.\n",
      "Try using .loc[row_indexer,col_indexer] = value instead\n",
      "\n",
      "See the caveats in the documentation: https://pandas.pydata.org/pandas-docs/stable/user_guide/indexing.html#returning-a-view-versus-a-copy\n",
      "  test_data['Predicted_SARIMA']=pred_Sarima\n"
     ]
    }
   ],
   "source": [
    "test_data['Predicted_SARIMA']=pred_Sarima"
   ]
  },
  {
   "cell_type": "code",
   "execution_count": 162,
   "id": "404205ad",
   "metadata": {},
   "outputs": [
    {
     "data": {
      "text/html": [
       "<div>\n",
       "<style scoped>\n",
       "    .dataframe tbody tr th:only-of-type {\n",
       "        vertical-align: middle;\n",
       "    }\n",
       "\n",
       "    .dataframe tbody tr th {\n",
       "        vertical-align: top;\n",
       "    }\n",
       "\n",
       "    .dataframe thead th {\n",
       "        text-align: right;\n",
       "    }\n",
       "</style>\n",
       "<table border=\"1\" class=\"dataframe\">\n",
       "  <thead>\n",
       "    <tr style=\"text-align: right;\">\n",
       "      <th></th>\n",
       "      <th>Thousands of Passengers</th>\n",
       "      <th>Passengers First Difference</th>\n",
       "      <th>Passengers Second Difference</th>\n",
       "      <th>Passengers 12 Difference</th>\n",
       "      <th>Predicted_ARIMA</th>\n",
       "      <th>Predicted_SARIMA</th>\n",
       "    </tr>\n",
       "    <tr>\n",
       "      <th>Month</th>\n",
       "      <th></th>\n",
       "      <th></th>\n",
       "      <th></th>\n",
       "      <th></th>\n",
       "      <th></th>\n",
       "      <th></th>\n",
       "    </tr>\n",
       "  </thead>\n",
       "  <tbody>\n",
       "    <tr>\n",
       "      <th>1956-01-01</th>\n",
       "      <td>284.0</td>\n",
       "      <td>6.0</td>\n",
       "      <td>-35.0</td>\n",
       "      <td>42.0</td>\n",
       "      <td>0.426829</td>\n",
       "      <td>NaN</td>\n",
       "    </tr>\n",
       "    <tr>\n",
       "      <th>1956-02-01</th>\n",
       "      <td>277.0</td>\n",
       "      <td>-7.0</td>\n",
       "      <td>-13.0</td>\n",
       "      <td>44.0</td>\n",
       "      <td>0.426829</td>\n",
       "      <td>NaN</td>\n",
       "    </tr>\n",
       "    <tr>\n",
       "      <th>1956-03-01</th>\n",
       "      <td>317.0</td>\n",
       "      <td>40.0</td>\n",
       "      <td>47.0</td>\n",
       "      <td>50.0</td>\n",
       "      <td>0.426829</td>\n",
       "      <td>NaN</td>\n",
       "    </tr>\n",
       "    <tr>\n",
       "      <th>1956-04-01</th>\n",
       "      <td>313.0</td>\n",
       "      <td>-4.0</td>\n",
       "      <td>-44.0</td>\n",
       "      <td>44.0</td>\n",
       "      <td>0.426829</td>\n",
       "      <td>NaN</td>\n",
       "    </tr>\n",
       "    <tr>\n",
       "      <th>1956-05-01</th>\n",
       "      <td>318.0</td>\n",
       "      <td>5.0</td>\n",
       "      <td>9.0</td>\n",
       "      <td>48.0</td>\n",
       "      <td>0.426829</td>\n",
       "      <td>NaN</td>\n",
       "    </tr>\n",
       "    <tr>\n",
       "      <th>1956-06-01</th>\n",
       "      <td>374.0</td>\n",
       "      <td>56.0</td>\n",
       "      <td>51.0</td>\n",
       "      <td>59.0</td>\n",
       "      <td>0.426829</td>\n",
       "      <td>NaN</td>\n",
       "    </tr>\n",
       "    <tr>\n",
       "      <th>1956-07-01</th>\n",
       "      <td>413.0</td>\n",
       "      <td>39.0</td>\n",
       "      <td>-17.0</td>\n",
       "      <td>49.0</td>\n",
       "      <td>0.426829</td>\n",
       "      <td>403.396598</td>\n",
       "    </tr>\n",
       "    <tr>\n",
       "      <th>1956-08-01</th>\n",
       "      <td>405.0</td>\n",
       "      <td>-8.0</td>\n",
       "      <td>-47.0</td>\n",
       "      <td>58.0</td>\n",
       "      <td>0.426829</td>\n",
       "      <td>385.069542</td>\n",
       "    </tr>\n",
       "    <tr>\n",
       "      <th>1956-09-01</th>\n",
       "      <td>355.0</td>\n",
       "      <td>-50.0</td>\n",
       "      <td>-42.0</td>\n",
       "      <td>43.0</td>\n",
       "      <td>0.426829</td>\n",
       "      <td>349.443618</td>\n",
       "    </tr>\n",
       "    <tr>\n",
       "      <th>1956-10-01</th>\n",
       "      <td>306.0</td>\n",
       "      <td>-49.0</td>\n",
       "      <td>1.0</td>\n",
       "      <td>32.0</td>\n",
       "      <td>0.426829</td>\n",
       "      <td>310.216006</td>\n",
       "    </tr>\n",
       "    <tr>\n",
       "      <th>1956-11-01</th>\n",
       "      <td>271.0</td>\n",
       "      <td>-35.0</td>\n",
       "      <td>14.0</td>\n",
       "      <td>34.0</td>\n",
       "      <td>0.426829</td>\n",
       "      <td>272.561797</td>\n",
       "    </tr>\n",
       "    <tr>\n",
       "      <th>1956-12-01</th>\n",
       "      <td>306.0</td>\n",
       "      <td>35.0</td>\n",
       "      <td>70.0</td>\n",
       "      <td>28.0</td>\n",
       "      <td>0.426829</td>\n",
       "      <td>312.433317</td>\n",
       "    </tr>\n",
       "    <tr>\n",
       "      <th>1957-01-01</th>\n",
       "      <td>315.0</td>\n",
       "      <td>9.0</td>\n",
       "      <td>-26.0</td>\n",
       "      <td>31.0</td>\n",
       "      <td>0.426829</td>\n",
       "      <td>319.954804</td>\n",
       "    </tr>\n",
       "    <tr>\n",
       "      <th>1957-02-01</th>\n",
       "      <td>301.0</td>\n",
       "      <td>-14.0</td>\n",
       "      <td>-23.0</td>\n",
       "      <td>24.0</td>\n",
       "      <td>0.426829</td>\n",
       "      <td>314.008544</td>\n",
       "    </tr>\n",
       "    <tr>\n",
       "      <th>1957-03-01</th>\n",
       "      <td>356.0</td>\n",
       "      <td>55.0</td>\n",
       "      <td>69.0</td>\n",
       "      <td>39.0</td>\n",
       "      <td>0.426829</td>\n",
       "      <td>341.985244</td>\n",
       "    </tr>\n",
       "    <tr>\n",
       "      <th>1957-04-01</th>\n",
       "      <td>348.0</td>\n",
       "      <td>-8.0</td>\n",
       "      <td>-63.0</td>\n",
       "      <td>35.0</td>\n",
       "      <td>0.426829</td>\n",
       "      <td>341.785737</td>\n",
       "    </tr>\n",
       "    <tr>\n",
       "      <th>1957-05-01</th>\n",
       "      <td>355.0</td>\n",
       "      <td>7.0</td>\n",
       "      <td>15.0</td>\n",
       "      <td>37.0</td>\n",
       "      <td>0.426829</td>\n",
       "      <td>341.789321</td>\n",
       "    </tr>\n",
       "    <tr>\n",
       "      <th>1957-06-01</th>\n",
       "      <td>422.0</td>\n",
       "      <td>67.0</td>\n",
       "      <td>60.0</td>\n",
       "      <td>48.0</td>\n",
       "      <td>0.426829</td>\n",
       "      <td>384.514638</td>\n",
       "    </tr>\n",
       "    <tr>\n",
       "      <th>1957-07-01</th>\n",
       "      <td>465.0</td>\n",
       "      <td>43.0</td>\n",
       "      <td>-24.0</td>\n",
       "      <td>52.0</td>\n",
       "      <td>0.426829</td>\n",
       "      <td>432.320798</td>\n",
       "    </tr>\n",
       "    <tr>\n",
       "      <th>1957-08-01</th>\n",
       "      <td>467.0</td>\n",
       "      <td>2.0</td>\n",
       "      <td>-41.0</td>\n",
       "      <td>62.0</td>\n",
       "      <td>0.426829</td>\n",
       "      <td>413.166848</td>\n",
       "    </tr>\n",
       "    <tr>\n",
       "      <th>1957-09-01</th>\n",
       "      <td>404.0</td>\n",
       "      <td>-63.0</td>\n",
       "      <td>-65.0</td>\n",
       "      <td>49.0</td>\n",
       "      <td>0.426829</td>\n",
       "      <td>376.915198</td>\n",
       "    </tr>\n",
       "    <tr>\n",
       "      <th>1957-10-01</th>\n",
       "      <td>347.0</td>\n",
       "      <td>-57.0</td>\n",
       "      <td>6.0</td>\n",
       "      <td>41.0</td>\n",
       "      <td>0.426829</td>\n",
       "      <td>336.916349</td>\n",
       "    </tr>\n",
       "    <tr>\n",
       "      <th>1957-11-01</th>\n",
       "      <td>305.0</td>\n",
       "      <td>-42.0</td>\n",
       "      <td>15.0</td>\n",
       "      <td>34.0</td>\n",
       "      <td>0.426829</td>\n",
       "      <td>298.654823</td>\n",
       "    </tr>\n",
       "    <tr>\n",
       "      <th>1957-12-01</th>\n",
       "      <td>336.0</td>\n",
       "      <td>31.0</td>\n",
       "      <td>73.0</td>\n",
       "      <td>30.0</td>\n",
       "      <td>0.426829</td>\n",
       "      <td>337.805136</td>\n",
       "    </tr>\n",
       "    <tr>\n",
       "      <th>1958-01-01</th>\n",
       "      <td>340.0</td>\n",
       "      <td>4.0</td>\n",
       "      <td>-27.0</td>\n",
       "      <td>25.0</td>\n",
       "      <td>0.426829</td>\n",
       "      <td>344.739354</td>\n",
       "    </tr>\n",
       "    <tr>\n",
       "      <th>1958-02-01</th>\n",
       "      <td>318.0</td>\n",
       "      <td>-22.0</td>\n",
       "      <td>-26.0</td>\n",
       "      <td>17.0</td>\n",
       "      <td>0.426829</td>\n",
       "      <td>338.117130</td>\n",
       "    </tr>\n",
       "    <tr>\n",
       "      <th>1958-03-01</th>\n",
       "      <td>362.0</td>\n",
       "      <td>44.0</td>\n",
       "      <td>66.0</td>\n",
       "      <td>6.0</td>\n",
       "      <td>0.426829</td>\n",
       "      <td>365.527654</td>\n",
       "    </tr>\n",
       "    <tr>\n",
       "      <th>1958-04-01</th>\n",
       "      <td>348.0</td>\n",
       "      <td>-14.0</td>\n",
       "      <td>-58.0</td>\n",
       "      <td>0.0</td>\n",
       "      <td>0.426829</td>\n",
       "      <td>364.693336</td>\n",
       "    </tr>\n",
       "    <tr>\n",
       "      <th>1958-05-01</th>\n",
       "      <td>363.0</td>\n",
       "      <td>15.0</td>\n",
       "      <td>29.0</td>\n",
       "      <td>8.0</td>\n",
       "      <td>0.426829</td>\n",
       "      <td>364.152425</td>\n",
       "    </tr>\n",
       "    <tr>\n",
       "      <th>1958-06-01</th>\n",
       "      <td>435.0</td>\n",
       "      <td>72.0</td>\n",
       "      <td>57.0</td>\n",
       "      <td>13.0</td>\n",
       "      <td>0.426829</td>\n",
       "      <td>406.280558</td>\n",
       "    </tr>\n",
       "    <tr>\n",
       "      <th>1958-07-01</th>\n",
       "      <td>491.0</td>\n",
       "      <td>56.0</td>\n",
       "      <td>-16.0</td>\n",
       "      <td>26.0</td>\n",
       "      <td>0.426829</td>\n",
       "      <td>453.564133</td>\n",
       "    </tr>\n",
       "    <tr>\n",
       "      <th>1958-08-01</th>\n",
       "      <td>505.0</td>\n",
       "      <td>14.0</td>\n",
       "      <td>-42.0</td>\n",
       "      <td>38.0</td>\n",
       "      <td>0.426829</td>\n",
       "      <td>433.847573</td>\n",
       "    </tr>\n",
       "    <tr>\n",
       "      <th>1958-09-01</th>\n",
       "      <td>404.0</td>\n",
       "      <td>-101.0</td>\n",
       "      <td>-115.0</td>\n",
       "      <td>0.0</td>\n",
       "      <td>0.426829</td>\n",
       "      <td>397.095206</td>\n",
       "    </tr>\n",
       "    <tr>\n",
       "      <th>1958-10-01</th>\n",
       "      <td>359.0</td>\n",
       "      <td>-45.0</td>\n",
       "      <td>56.0</td>\n",
       "      <td>12.0</td>\n",
       "      <td>0.426829</td>\n",
       "      <td>356.565651</td>\n",
       "    </tr>\n",
       "    <tr>\n",
       "      <th>1958-11-01</th>\n",
       "      <td>310.0</td>\n",
       "      <td>-49.0</td>\n",
       "      <td>-4.0</td>\n",
       "      <td>5.0</td>\n",
       "      <td>0.426829</td>\n",
       "      <td>317.825027</td>\n",
       "    </tr>\n",
       "    <tr>\n",
       "      <th>1958-12-01</th>\n",
       "      <td>337.0</td>\n",
       "      <td>27.0</td>\n",
       "      <td>76.0</td>\n",
       "      <td>1.0</td>\n",
       "      <td>0.426829</td>\n",
       "      <td>356.474188</td>\n",
       "    </tr>\n",
       "    <tr>\n",
       "      <th>1959-01-01</th>\n",
       "      <td>360.0</td>\n",
       "      <td>23.0</td>\n",
       "      <td>-4.0</td>\n",
       "      <td>20.0</td>\n",
       "      <td>0.426829</td>\n",
       "      <td>362.950523</td>\n",
       "    </tr>\n",
       "    <tr>\n",
       "      <th>1959-02-01</th>\n",
       "      <td>342.0</td>\n",
       "      <td>-18.0</td>\n",
       "      <td>-41.0</td>\n",
       "      <td>24.0</td>\n",
       "      <td>0.426829</td>\n",
       "      <td>355.854620</td>\n",
       "    </tr>\n",
       "    <tr>\n",
       "      <th>1959-03-01</th>\n",
       "      <td>406.0</td>\n",
       "      <td>64.0</td>\n",
       "      <td>82.0</td>\n",
       "      <td>44.0</td>\n",
       "      <td>0.426829</td>\n",
       "      <td>382.827957</td>\n",
       "    </tr>\n",
       "    <tr>\n",
       "      <th>1959-04-01</th>\n",
       "      <td>396.0</td>\n",
       "      <td>-10.0</td>\n",
       "      <td>-74.0</td>\n",
       "      <td>48.0</td>\n",
       "      <td>0.426829</td>\n",
       "      <td>381.545577</td>\n",
       "    </tr>\n",
       "    <tr>\n",
       "      <th>1959-05-01</th>\n",
       "      <td>420.0</td>\n",
       "      <td>24.0</td>\n",
       "      <td>34.0</td>\n",
       "      <td>57.0</td>\n",
       "      <td>0.426829</td>\n",
       "      <td>380.587573</td>\n",
       "    </tr>\n",
       "    <tr>\n",
       "      <th>1959-06-01</th>\n",
       "      <td>472.0</td>\n",
       "      <td>52.0</td>\n",
       "      <td>28.0</td>\n",
       "      <td>37.0</td>\n",
       "      <td>0.426829</td>\n",
       "      <td>422.291594</td>\n",
       "    </tr>\n",
       "    <tr>\n",
       "      <th>1959-07-01</th>\n",
       "      <td>548.0</td>\n",
       "      <td>76.0</td>\n",
       "      <td>24.0</td>\n",
       "      <td>57.0</td>\n",
       "      <td>0.426829</td>\n",
       "      <td>469.177516</td>\n",
       "    </tr>\n",
       "    <tr>\n",
       "      <th>1959-08-01</th>\n",
       "      <td>559.0</td>\n",
       "      <td>11.0</td>\n",
       "      <td>-65.0</td>\n",
       "      <td>54.0</td>\n",
       "      <td>0.426829</td>\n",
       "      <td>449.059284</td>\n",
       "    </tr>\n",
       "    <tr>\n",
       "      <th>1959-09-01</th>\n",
       "      <td>463.0</td>\n",
       "      <td>-96.0</td>\n",
       "      <td>-107.0</td>\n",
       "      <td>59.0</td>\n",
       "      <td>0.426829</td>\n",
       "      <td>411.928009</td>\n",
       "    </tr>\n",
       "    <tr>\n",
       "      <th>1959-10-01</th>\n",
       "      <td>407.0</td>\n",
       "      <td>-56.0</td>\n",
       "      <td>40.0</td>\n",
       "      <td>48.0</td>\n",
       "      <td>0.426829</td>\n",
       "      <td>371.017853</td>\n",
       "    </tr>\n",
       "    <tr>\n",
       "      <th>1959-11-01</th>\n",
       "      <td>362.0</td>\n",
       "      <td>-45.0</td>\n",
       "      <td>11.0</td>\n",
       "      <td>52.0</td>\n",
       "      <td>0.426829</td>\n",
       "      <td>331.916354</td>\n",
       "    </tr>\n",
       "    <tr>\n",
       "      <th>1959-12-01</th>\n",
       "      <td>405.0</td>\n",
       "      <td>43.0</td>\n",
       "      <td>88.0</td>\n",
       "      <td>68.0</td>\n",
       "      <td>0.426829</td>\n",
       "      <td>370.204733</td>\n",
       "    </tr>\n",
       "    <tr>\n",
       "      <th>1960-01-01</th>\n",
       "      <td>417.0</td>\n",
       "      <td>12.0</td>\n",
       "      <td>-31.0</td>\n",
       "      <td>57.0</td>\n",
       "      <td>0.426829</td>\n",
       "      <td>376.337502</td>\n",
       "    </tr>\n",
       "    <tr>\n",
       "      <th>1960-02-01</th>\n",
       "      <td>391.0</td>\n",
       "      <td>-26.0</td>\n",
       "      <td>-38.0</td>\n",
       "      <td>49.0</td>\n",
       "      <td>0.426829</td>\n",
       "      <td>368.899486</td>\n",
       "    </tr>\n",
       "    <tr>\n",
       "      <th>1960-03-01</th>\n",
       "      <td>419.0</td>\n",
       "      <td>28.0</td>\n",
       "      <td>54.0</td>\n",
       "      <td>13.0</td>\n",
       "      <td>0.426829</td>\n",
       "      <td>395.545846</td>\n",
       "    </tr>\n",
       "    <tr>\n",
       "      <th>1960-04-01</th>\n",
       "      <td>461.0</td>\n",
       "      <td>42.0</td>\n",
       "      <td>14.0</td>\n",
       "      <td>65.0</td>\n",
       "      <td>0.426829</td>\n",
       "      <td>393.938961</td>\n",
       "    </tr>\n",
       "    <tr>\n",
       "      <th>1960-05-01</th>\n",
       "      <td>472.0</td>\n",
       "      <td>11.0</td>\n",
       "      <td>-31.0</td>\n",
       "      <td>52.0</td>\n",
       "      <td>0.426829</td>\n",
       "      <td>392.669854</td>\n",
       "    </tr>\n",
       "    <tr>\n",
       "      <th>1960-06-01</th>\n",
       "      <td>535.0</td>\n",
       "      <td>63.0</td>\n",
       "      <td>52.0</td>\n",
       "      <td>63.0</td>\n",
       "      <td>0.426829</td>\n",
       "      <td>434.065996</td>\n",
       "    </tr>\n",
       "    <tr>\n",
       "      <th>1960-07-01</th>\n",
       "      <td>622.0</td>\n",
       "      <td>87.0</td>\n",
       "      <td>24.0</td>\n",
       "      <td>74.0</td>\n",
       "      <td>0.426829</td>\n",
       "      <td>480.655987</td>\n",
       "    </tr>\n",
       "    <tr>\n",
       "      <th>1960-08-01</th>\n",
       "      <td>606.0</td>\n",
       "      <td>-16.0</td>\n",
       "      <td>-103.0</td>\n",
       "      <td>47.0</td>\n",
       "      <td>0.426829</td>\n",
       "      <td>460.245589</td>\n",
       "    </tr>\n",
       "    <tr>\n",
       "      <th>1960-09-01</th>\n",
       "      <td>508.0</td>\n",
       "      <td>-98.0</td>\n",
       "      <td>-82.0</td>\n",
       "      <td>45.0</td>\n",
       "      <td>0.426829</td>\n",
       "      <td>422.832872</td>\n",
       "    </tr>\n",
       "    <tr>\n",
       "      <th>1960-10-01</th>\n",
       "      <td>461.0</td>\n",
       "      <td>-47.0</td>\n",
       "      <td>51.0</td>\n",
       "      <td>54.0</td>\n",
       "      <td>0.426829</td>\n",
       "      <td>381.645412</td>\n",
       "    </tr>\n",
       "    <tr>\n",
       "      <th>1960-11-01</th>\n",
       "      <td>390.0</td>\n",
       "      <td>-71.0</td>\n",
       "      <td>-24.0</td>\n",
       "      <td>28.0</td>\n",
       "      <td>0.426829</td>\n",
       "      <td>342.276294</td>\n",
       "    </tr>\n",
       "    <tr>\n",
       "      <th>1960-12-01</th>\n",
       "      <td>432.0</td>\n",
       "      <td>42.0</td>\n",
       "      <td>113.0</td>\n",
       "      <td>27.0</td>\n",
       "      <td>0.426829</td>\n",
       "      <td>380.301436</td>\n",
       "    </tr>\n",
       "  </tbody>\n",
       "</table>\n",
       "</div>"
      ],
      "text/plain": [
       "            Thousands of Passengers  Passengers First Difference  \\\n",
       "Month                                                              \n",
       "1956-01-01                    284.0                          6.0   \n",
       "1956-02-01                    277.0                         -7.0   \n",
       "1956-03-01                    317.0                         40.0   \n",
       "1956-04-01                    313.0                         -4.0   \n",
       "1956-05-01                    318.0                          5.0   \n",
       "1956-06-01                    374.0                         56.0   \n",
       "1956-07-01                    413.0                         39.0   \n",
       "1956-08-01                    405.0                         -8.0   \n",
       "1956-09-01                    355.0                        -50.0   \n",
       "1956-10-01                    306.0                        -49.0   \n",
       "1956-11-01                    271.0                        -35.0   \n",
       "1956-12-01                    306.0                         35.0   \n",
       "1957-01-01                    315.0                          9.0   \n",
       "1957-02-01                    301.0                        -14.0   \n",
       "1957-03-01                    356.0                         55.0   \n",
       "1957-04-01                    348.0                         -8.0   \n",
       "1957-05-01                    355.0                          7.0   \n",
       "1957-06-01                    422.0                         67.0   \n",
       "1957-07-01                    465.0                         43.0   \n",
       "1957-08-01                    467.0                          2.0   \n",
       "1957-09-01                    404.0                        -63.0   \n",
       "1957-10-01                    347.0                        -57.0   \n",
       "1957-11-01                    305.0                        -42.0   \n",
       "1957-12-01                    336.0                         31.0   \n",
       "1958-01-01                    340.0                          4.0   \n",
       "1958-02-01                    318.0                        -22.0   \n",
       "1958-03-01                    362.0                         44.0   \n",
       "1958-04-01                    348.0                        -14.0   \n",
       "1958-05-01                    363.0                         15.0   \n",
       "1958-06-01                    435.0                         72.0   \n",
       "1958-07-01                    491.0                         56.0   \n",
       "1958-08-01                    505.0                         14.0   \n",
       "1958-09-01                    404.0                       -101.0   \n",
       "1958-10-01                    359.0                        -45.0   \n",
       "1958-11-01                    310.0                        -49.0   \n",
       "1958-12-01                    337.0                         27.0   \n",
       "1959-01-01                    360.0                         23.0   \n",
       "1959-02-01                    342.0                        -18.0   \n",
       "1959-03-01                    406.0                         64.0   \n",
       "1959-04-01                    396.0                        -10.0   \n",
       "1959-05-01                    420.0                         24.0   \n",
       "1959-06-01                    472.0                         52.0   \n",
       "1959-07-01                    548.0                         76.0   \n",
       "1959-08-01                    559.0                         11.0   \n",
       "1959-09-01                    463.0                        -96.0   \n",
       "1959-10-01                    407.0                        -56.0   \n",
       "1959-11-01                    362.0                        -45.0   \n",
       "1959-12-01                    405.0                         43.0   \n",
       "1960-01-01                    417.0                         12.0   \n",
       "1960-02-01                    391.0                        -26.0   \n",
       "1960-03-01                    419.0                         28.0   \n",
       "1960-04-01                    461.0                         42.0   \n",
       "1960-05-01                    472.0                         11.0   \n",
       "1960-06-01                    535.0                         63.0   \n",
       "1960-07-01                    622.0                         87.0   \n",
       "1960-08-01                    606.0                        -16.0   \n",
       "1960-09-01                    508.0                        -98.0   \n",
       "1960-10-01                    461.0                        -47.0   \n",
       "1960-11-01                    390.0                        -71.0   \n",
       "1960-12-01                    432.0                         42.0   \n",
       "\n",
       "            Passengers Second Difference  Passengers 12 Difference  \\\n",
       "Month                                                                \n",
       "1956-01-01                         -35.0                      42.0   \n",
       "1956-02-01                         -13.0                      44.0   \n",
       "1956-03-01                          47.0                      50.0   \n",
       "1956-04-01                         -44.0                      44.0   \n",
       "1956-05-01                           9.0                      48.0   \n",
       "1956-06-01                          51.0                      59.0   \n",
       "1956-07-01                         -17.0                      49.0   \n",
       "1956-08-01                         -47.0                      58.0   \n",
       "1956-09-01                         -42.0                      43.0   \n",
       "1956-10-01                           1.0                      32.0   \n",
       "1956-11-01                          14.0                      34.0   \n",
       "1956-12-01                          70.0                      28.0   \n",
       "1957-01-01                         -26.0                      31.0   \n",
       "1957-02-01                         -23.0                      24.0   \n",
       "1957-03-01                          69.0                      39.0   \n",
       "1957-04-01                         -63.0                      35.0   \n",
       "1957-05-01                          15.0                      37.0   \n",
       "1957-06-01                          60.0                      48.0   \n",
       "1957-07-01                         -24.0                      52.0   \n",
       "1957-08-01                         -41.0                      62.0   \n",
       "1957-09-01                         -65.0                      49.0   \n",
       "1957-10-01                           6.0                      41.0   \n",
       "1957-11-01                          15.0                      34.0   \n",
       "1957-12-01                          73.0                      30.0   \n",
       "1958-01-01                         -27.0                      25.0   \n",
       "1958-02-01                         -26.0                      17.0   \n",
       "1958-03-01                          66.0                       6.0   \n",
       "1958-04-01                         -58.0                       0.0   \n",
       "1958-05-01                          29.0                       8.0   \n",
       "1958-06-01                          57.0                      13.0   \n",
       "1958-07-01                         -16.0                      26.0   \n",
       "1958-08-01                         -42.0                      38.0   \n",
       "1958-09-01                        -115.0                       0.0   \n",
       "1958-10-01                          56.0                      12.0   \n",
       "1958-11-01                          -4.0                       5.0   \n",
       "1958-12-01                          76.0                       1.0   \n",
       "1959-01-01                          -4.0                      20.0   \n",
       "1959-02-01                         -41.0                      24.0   \n",
       "1959-03-01                          82.0                      44.0   \n",
       "1959-04-01                         -74.0                      48.0   \n",
       "1959-05-01                          34.0                      57.0   \n",
       "1959-06-01                          28.0                      37.0   \n",
       "1959-07-01                          24.0                      57.0   \n",
       "1959-08-01                         -65.0                      54.0   \n",
       "1959-09-01                        -107.0                      59.0   \n",
       "1959-10-01                          40.0                      48.0   \n",
       "1959-11-01                          11.0                      52.0   \n",
       "1959-12-01                          88.0                      68.0   \n",
       "1960-01-01                         -31.0                      57.0   \n",
       "1960-02-01                         -38.0                      49.0   \n",
       "1960-03-01                          54.0                      13.0   \n",
       "1960-04-01                          14.0                      65.0   \n",
       "1960-05-01                         -31.0                      52.0   \n",
       "1960-06-01                          52.0                      63.0   \n",
       "1960-07-01                          24.0                      74.0   \n",
       "1960-08-01                        -103.0                      47.0   \n",
       "1960-09-01                         -82.0                      45.0   \n",
       "1960-10-01                          51.0                      54.0   \n",
       "1960-11-01                         -24.0                      28.0   \n",
       "1960-12-01                         113.0                      27.0   \n",
       "\n",
       "            Predicted_ARIMA  Predicted_SARIMA  \n",
       "Month                                          \n",
       "1956-01-01         0.426829               NaN  \n",
       "1956-02-01         0.426829               NaN  \n",
       "1956-03-01         0.426829               NaN  \n",
       "1956-04-01         0.426829               NaN  \n",
       "1956-05-01         0.426829               NaN  \n",
       "1956-06-01         0.426829               NaN  \n",
       "1956-07-01         0.426829        403.396598  \n",
       "1956-08-01         0.426829        385.069542  \n",
       "1956-09-01         0.426829        349.443618  \n",
       "1956-10-01         0.426829        310.216006  \n",
       "1956-11-01         0.426829        272.561797  \n",
       "1956-12-01         0.426829        312.433317  \n",
       "1957-01-01         0.426829        319.954804  \n",
       "1957-02-01         0.426829        314.008544  \n",
       "1957-03-01         0.426829        341.985244  \n",
       "1957-04-01         0.426829        341.785737  \n",
       "1957-05-01         0.426829        341.789321  \n",
       "1957-06-01         0.426829        384.514638  \n",
       "1957-07-01         0.426829        432.320798  \n",
       "1957-08-01         0.426829        413.166848  \n",
       "1957-09-01         0.426829        376.915198  \n",
       "1957-10-01         0.426829        336.916349  \n",
       "1957-11-01         0.426829        298.654823  \n",
       "1957-12-01         0.426829        337.805136  \n",
       "1958-01-01         0.426829        344.739354  \n",
       "1958-02-01         0.426829        338.117130  \n",
       "1958-03-01         0.426829        365.527654  \n",
       "1958-04-01         0.426829        364.693336  \n",
       "1958-05-01         0.426829        364.152425  \n",
       "1958-06-01         0.426829        406.280558  \n",
       "1958-07-01         0.426829        453.564133  \n",
       "1958-08-01         0.426829        433.847573  \n",
       "1958-09-01         0.426829        397.095206  \n",
       "1958-10-01         0.426829        356.565651  \n",
       "1958-11-01         0.426829        317.825027  \n",
       "1958-12-01         0.426829        356.474188  \n",
       "1959-01-01         0.426829        362.950523  \n",
       "1959-02-01         0.426829        355.854620  \n",
       "1959-03-01         0.426829        382.827957  \n",
       "1959-04-01         0.426829        381.545577  \n",
       "1959-05-01         0.426829        380.587573  \n",
       "1959-06-01         0.426829        422.291594  \n",
       "1959-07-01         0.426829        469.177516  \n",
       "1959-08-01         0.426829        449.059284  \n",
       "1959-09-01         0.426829        411.928009  \n",
       "1959-10-01         0.426829        371.017853  \n",
       "1959-11-01         0.426829        331.916354  \n",
       "1959-12-01         0.426829        370.204733  \n",
       "1960-01-01         0.426829        376.337502  \n",
       "1960-02-01         0.426829        368.899486  \n",
       "1960-03-01         0.426829        395.545846  \n",
       "1960-04-01         0.426829        393.938961  \n",
       "1960-05-01         0.426829        392.669854  \n",
       "1960-06-01         0.426829        434.065996  \n",
       "1960-07-01         0.426829        480.655987  \n",
       "1960-08-01         0.426829        460.245589  \n",
       "1960-09-01         0.426829        422.832872  \n",
       "1960-10-01         0.426829        381.645412  \n",
       "1960-11-01         0.426829        342.276294  \n",
       "1960-12-01         0.426829        380.301436  "
      ]
     },
     "execution_count": 162,
     "metadata": {},
     "output_type": "execute_result"
    }
   ],
   "source": [
    "test_data"
   ]
  },
  {
   "cell_type": "code",
   "execution_count": 163,
   "id": "060ff240",
   "metadata": {},
   "outputs": [
    {
     "data": {
      "text/plain": [
       "<AxesSubplot:xlabel='Month'>"
      ]
     },
     "execution_count": 163,
     "metadata": {},
     "output_type": "execute_result"
    },
    {
     "data": {
      "image/png": "[encoded data removed]",
      "text/plain": [
       "<Figure size 432x288 with 1 Axes>"
      ]
     },
     "metadata": {
      "needs_background": "light"
     },
     "output_type": "display_data"
    }
   ],
   "source": [
    "test_data[['Thousands of Passengers','Predicted_SARIMA','Predicted_ARIMA']].plot()"
   ]
  },
  {
   "cell_type": "markdown",
   "id": "52df09d1",
   "metadata": {},
   "source": [
    "Arima Model doesnot give proper prediction for Seasonal data where SARIMA model gives"
   ]
  },
  {
   "cell_type": "code",
   "execution_count": null,
   "id": "6f11bbf0",
   "metadata": {},
   "outputs": [],
   "source": []
  }
 ],
 "metadata": {
  "kernelspec": {
   "display_name": "Python 3",
   "language": "python",
   "name": "python3"
  },
  "language_info": {
   "codemirror_mode": {
    "name": "ipython",
    "version": 3
   },
   "file_extension": ".py",
   "mimetype": "text/x-python",
   "name": "python",
   "nbconvert_exporter": "python",
   "pygments_lexer": "ipython3",
   "version": "3.8.8"
  }
 },
 "nbformat": 4,
 "nbformat_minor": 5
}
